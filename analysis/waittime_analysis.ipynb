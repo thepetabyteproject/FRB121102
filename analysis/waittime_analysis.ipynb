{
 "cells": [
  {
   "cell_type": "markdown",
   "metadata": {},
   "source": [
    "# Wait Time Analysis"
   ]
  },
  {
   "cell_type": "code",
   "execution_count": 1,
   "metadata": {},
   "outputs": [
    {
     "data": {
      "application/javascript": [
       "\n",
       "            setTimeout(function() {\n",
       "                var nbb_cell_id = 1;\n",
       "                var nbb_unformatted_code = \"# IMPORT FUNCTIONALITIES\\nimport pandas as pd\\nimport numpy as np\\nimport scipy\\nfrom scipy.optimize import curve_fit\\nimport matplotlib.pyplot as plt\\n\\n%load_ext nb_black\";\n",
       "                var nbb_formatted_code = \"# IMPORT FUNCTIONALITIES\\nimport pandas as pd\\nimport numpy as np\\nimport scipy\\nfrom scipy.optimize import curve_fit\\nimport matplotlib.pyplot as plt\\n\\n%load_ext nb_black\";\n",
       "                var nbb_cells = Jupyter.notebook.get_cells();\n",
       "                for (var i = 0; i < nbb_cells.length; ++i) {\n",
       "                    if (nbb_cells[i].input_prompt_number == nbb_cell_id) {\n",
       "                        if (nbb_cells[i].get_text() == nbb_unformatted_code) {\n",
       "                             nbb_cells[i].set_text(nbb_formatted_code);\n",
       "                        }\n",
       "                        break;\n",
       "                    }\n",
       "                }\n",
       "            }, 500);\n",
       "            "
      ],
      "text/plain": [
       "<IPython.core.display.Javascript object>"
      ]
     },
     "metadata": {},
     "output_type": "display_data"
    }
   ],
   "source": [
    "# IMPORT FUNCTIONALITIES\n",
    "import pandas as pd\n",
    "import numpy as np\n",
    "import scipy\n",
    "from scipy.optimize import curve_fit\n",
    "import matplotlib.pyplot as plt\n",
    "\n",
    "%load_ext nb_black"
   ]
  },
  {
   "cell_type": "markdown",
   "metadata": {},
   "source": [
    "Below, the file containing the candidate properties is read in and the burst times are sorted into an array. This is specified for our file structure and burst fitting procedure, and will likely need to be changed. The endpoints for the histogram bins are also specified. <br>\n",
    "We only need the MJDs for this analysis, but pandas is used so one can easily incorporate other burst properties like fluence or DM into the analysis."
   ]
  },
  {
   "cell_type": "code",
   "execution_count": 2,
   "metadata": {},
   "outputs": [
    {
     "name": "stdout",
     "output_type": "stream",
     "text": [
      "130 good MCMC bursts\n",
      "94 good MCMC/fluence bursts\n"
     ]
    },
    {
     "data": {
      "application/javascript": [
       "\n",
       "            setTimeout(function() {\n",
       "                var nbb_cell_id = 2;\n",
       "                var nbb_unformatted_code = \"# Read in data file\\ndata = pd.read_csv(\\\"/home/elewis/FRB121102/all_bursts_bary.csv\\\")\\ndata = data[(data[\\\"fit_method\\\"] == \\\"mcmc\\\")]  # excise bursts fit using curvefit\\nprint(str(len(data)) + \\\" good MCMC bursts\\\")\\n\\ndata_flu = data[(data[\\\"use_fluence\\\"] == True)]\\nprint(str(len(data_flu)) + \\\" good MCMC/fluence bursts\\\")\\n\\n# Bursts for which there are good fluence measurements, for fluence analysis\\nmjd_flu = data_flu[\\\"$\\\\mu_t$ (ms)\\\"]\\nmjd_flu = mjd_flu.sort_values()\\nfluence_flu = data_flu[\\\"$S$ (Jy ms)\\\"]\\n\\ndatadict_flu = {\\\"MJD\\\": mjd_flu, \\\"fluence\\\": fluence_flu}\\ndataframe_flu = pd.concat(datadict_flu, axis=1)\\nbursts_by_fluence = dataframe_flu.sort_values(by=\\\"fluence\\\")\\n\\n# Break into individual MJD array\\nmjd = data[\\\"$\\\\mu_t$ (ms)\\\"]\\nmjd = mjd.sort_values()\\n\\nstart = np.log10(0.001)\\nend = np.log10(1000)\\nmin_diff = 1.0  # minimum wait time to fit distribution\\nmax_diff = 7000.0  # maximum time difference between bursts, in seconds, to consider a real wait time\";\n",
       "                var nbb_formatted_code = \"# Read in data file\\ndata = pd.read_csv(\\\"/home/elewis/FRB121102/all_bursts_bary.csv\\\")\\ndata = data[(data[\\\"fit_method\\\"] == \\\"mcmc\\\")]  # excise bursts fit using curvefit\\nprint(str(len(data)) + \\\" good MCMC bursts\\\")\\n\\ndata_flu = data[(data[\\\"use_fluence\\\"] == True)]\\nprint(str(len(data_flu)) + \\\" good MCMC/fluence bursts\\\")\\n\\n# Bursts for which there are good fluence measurements, for fluence analysis\\nmjd_flu = data_flu[\\\"$\\\\mu_t$ (ms)\\\"]\\nmjd_flu = mjd_flu.sort_values()\\nfluence_flu = data_flu[\\\"$S$ (Jy ms)\\\"]\\n\\ndatadict_flu = {\\\"MJD\\\": mjd_flu, \\\"fluence\\\": fluence_flu}\\ndataframe_flu = pd.concat(datadict_flu, axis=1)\\nbursts_by_fluence = dataframe_flu.sort_values(by=\\\"fluence\\\")\\n\\n# Break into individual MJD array\\nmjd = data[\\\"$\\\\mu_t$ (ms)\\\"]\\nmjd = mjd.sort_values()\\n\\nstart = np.log10(0.001)\\nend = np.log10(1000)\\nmin_diff = 1.0  # minimum wait time to fit distribution\\nmax_diff = 7000.0  # maximum time difference between bursts, in seconds, to consider a real wait time\";\n",
       "                var nbb_cells = Jupyter.notebook.get_cells();\n",
       "                for (var i = 0; i < nbb_cells.length; ++i) {\n",
       "                    if (nbb_cells[i].input_prompt_number == nbb_cell_id) {\n",
       "                        if (nbb_cells[i].get_text() == nbb_unformatted_code) {\n",
       "                             nbb_cells[i].set_text(nbb_formatted_code);\n",
       "                        }\n",
       "                        break;\n",
       "                    }\n",
       "                }\n",
       "            }, 500);\n",
       "            "
      ],
      "text/plain": [
       "<IPython.core.display.Javascript object>"
      ]
     },
     "metadata": {},
     "output_type": "display_data"
    }
   ],
   "source": [
    "# Read in data file\n",
    "data = pd.read_csv(\"/home/elewis/FRB121102/all_bursts_bary.csv\")\n",
    "data = data[(data[\"fit_method\"] == \"mcmc\")]  # excise bursts fit using curvefit\n",
    "print(str(len(data)) + \" good MCMC bursts\")\n",
    "\n",
    "data_flu = data[(data[\"use_fluence\"] == True)]\n",
    "print(str(len(data_flu)) + \" good MCMC/fluence bursts\")\n",
    "\n",
    "# Bursts for which there are good fluence measurements, for fluence analysis\n",
    "mjd_flu = data_flu[\"$\\mu_t$ (ms)\"]\n",
    "mjd_flu = mjd_flu.sort_values()\n",
    "fluence_flu = data_flu[\"$S$ (Jy ms)\"]\n",
    "\n",
    "datadict_flu = {\"MJD\": mjd_flu, \"fluence\": fluence_flu}\n",
    "dataframe_flu = pd.concat(datadict_flu, axis=1)\n",
    "bursts_by_fluence = dataframe_flu.sort_values(by=\"fluence\")\n",
    "\n",
    "# Break into individual MJD array\n",
    "mjd = data[\"$\\mu_t$ (ms)\"]\n",
    "mjd = mjd.sort_values()\n",
    "\n",
    "start = np.log10(0.001)\n",
    "end = np.log10(1000)\n",
    "min_diff = 1.0  # minimum wait time to fit distribution\n",
    "max_diff = 7000.0  # maximum time difference between bursts, in seconds, to consider a real wait time"
   ]
  },
  {
   "cell_type": "markdown",
   "metadata": {},
   "source": [
    "Since we have multiple observations, and we don't want to count the time difference between the two observations as a wait time, we split the array of burst times into separate arrays. This will be an issue if there is an observation which spans multiple MJDs."
   ]
  },
  {
   "cell_type": "code",
   "execution_count": 3,
   "metadata": {},
   "outputs": [
    {
     "data": {
      "application/javascript": [
       "\n",
       "            setTimeout(function() {\n",
       "                var nbb_cell_id = 3;\n",
       "                var nbb_unformatted_code = \"# Get the number of individual MJDs\\ndays = []\\nfor pt in mjd:\\n    time = str(pt)\\n    split_time = time.split(\\\".\\\")\\n    day = split_time[0]\\n    days.append(day)\\n\\ndays = np.unique(days)\\nn_mjds = len(days)\\n\\n# Create array with as many elements as there are MJDs\\nsep_pulse_times = []\\n# Each element will be its own array with pulse times from only one MJD\\ni = 0\\nfor day in days:\\n    day_pulse_times = []  # pulse times just for this day\\n\\n    for pt in mjd:\\n        time = str(pt)\\n        split_time = time.split(\\\".\\\")\\n        pt_day = split_time[0]\\n        if pt_day == day:\\n            day_pulse_times.append(pt)\\n\\n    sep_pulse_times.append(day_pulse_times)\\n    i += 1\";\n",
       "                var nbb_formatted_code = \"# Get the number of individual MJDs\\ndays = []\\nfor pt in mjd:\\n    time = str(pt)\\n    split_time = time.split(\\\".\\\")\\n    day = split_time[0]\\n    days.append(day)\\n\\ndays = np.unique(days)\\nn_mjds = len(days)\\n\\n# Create array with as many elements as there are MJDs\\nsep_pulse_times = []\\n# Each element will be its own array with pulse times from only one MJD\\ni = 0\\nfor day in days:\\n    day_pulse_times = []  # pulse times just for this day\\n\\n    for pt in mjd:\\n        time = str(pt)\\n        split_time = time.split(\\\".\\\")\\n        pt_day = split_time[0]\\n        if pt_day == day:\\n            day_pulse_times.append(pt)\\n\\n    sep_pulse_times.append(day_pulse_times)\\n    i += 1\";\n",
       "                var nbb_cells = Jupyter.notebook.get_cells();\n",
       "                for (var i = 0; i < nbb_cells.length; ++i) {\n",
       "                    if (nbb_cells[i].input_prompt_number == nbb_cell_id) {\n",
       "                        if (nbb_cells[i].get_text() == nbb_unformatted_code) {\n",
       "                             nbb_cells[i].set_text(nbb_formatted_code);\n",
       "                        }\n",
       "                        break;\n",
       "                    }\n",
       "                }\n",
       "            }, 500);\n",
       "            "
      ],
      "text/plain": [
       "<IPython.core.display.Javascript object>"
      ]
     },
     "metadata": {},
     "output_type": "display_data"
    }
   ],
   "source": [
    "# Get the number of individual MJDs\n",
    "days = []\n",
    "for pt in mjd:\n",
    "    time = str(pt)\n",
    "    split_time = time.split(\".\")\n",
    "    day = split_time[0]\n",
    "    days.append(day)\n",
    "\n",
    "days = np.unique(days)\n",
    "n_mjds = len(days)\n",
    "\n",
    "# Create array with as many elements as there are MJDs\n",
    "sep_pulse_times = []\n",
    "# Each element will be its own array with pulse times from only one MJD\n",
    "i = 0\n",
    "for day in days:\n",
    "    day_pulse_times = []  # pulse times just for this day\n",
    "\n",
    "    for pt in mjd:\n",
    "        time = str(pt)\n",
    "        split_time = time.split(\".\")\n",
    "        pt_day = split_time[0]\n",
    "        if pt_day == day:\n",
    "            day_pulse_times.append(pt)\n",
    "\n",
    "    sep_pulse_times.append(day_pulse_times)\n",
    "    i += 1"
   ]
  },
  {
   "cell_type": "markdown",
   "metadata": {},
   "source": [
    "The \"sep_pulse_times\" variable is an array where each element is an array containing the pulse times from one single MJD. This way, each individual observation can have its wait time distribution plotted on the final graph."
   ]
  },
  {
   "cell_type": "code",
   "execution_count": 4,
   "metadata": {},
   "outputs": [
    {
     "data": {
      "application/javascript": [
       "\n",
       "            setTimeout(function() {\n",
       "                var nbb_cell_id = 4;\n",
       "                var nbb_unformatted_code = \"# DEFINE FITTING FUNCTIONS\\n# Log-normal function for WT histogram\\ndef log_fit(x, a, mu, sigma):\\n    return (\\n        (a / x)\\n        * (1.0 / (sigma * np.sqrt(2.0 * np.pi)))\\n        * np.exp(-((np.log(x) - mu) ** 2.0) / (2.0 * sigma ** 2.0))\\n    )\\n\\n\\n# Decaying exponential function to fit to random bursts\\ndef exp_fit(x, a, b, c, d):\\n    return a * np.exp(-b * x + c) + d\";\n",
       "                var nbb_formatted_code = \"# DEFINE FITTING FUNCTIONS\\n# Log-normal function for WT histogram\\ndef log_fit(x, a, mu, sigma):\\n    return (\\n        (a / x)\\n        * (1.0 / (sigma * np.sqrt(2.0 * np.pi)))\\n        * np.exp(-((np.log(x) - mu) ** 2.0) / (2.0 * sigma ** 2.0))\\n    )\\n\\n\\n# Decaying exponential function to fit to random bursts\\ndef exp_fit(x, a, b, c, d):\\n    return a * np.exp(-b * x + c) + d\";\n",
       "                var nbb_cells = Jupyter.notebook.get_cells();\n",
       "                for (var i = 0; i < nbb_cells.length; ++i) {\n",
       "                    if (nbb_cells[i].input_prompt_number == nbb_cell_id) {\n",
       "                        if (nbb_cells[i].get_text() == nbb_unformatted_code) {\n",
       "                             nbb_cells[i].set_text(nbb_formatted_code);\n",
       "                        }\n",
       "                        break;\n",
       "                    }\n",
       "                }\n",
       "            }, 500);\n",
       "            "
      ],
      "text/plain": [
       "<IPython.core.display.Javascript object>"
      ]
     },
     "metadata": {},
     "output_type": "display_data"
    }
   ],
   "source": [
    "# DEFINE FITTING FUNCTIONS\n",
    "# Log-normal function for WT histogram\n",
    "def log_fit(x, a, mu, sigma):\n",
    "    return (\n",
    "        (a / x)\n",
    "        * (1.0 / (sigma * np.sqrt(2.0 * np.pi)))\n",
    "        * np.exp(-((np.log(x) - mu) ** 2.0) / (2.0 * sigma ** 2.0))\n",
    "    )\n",
    "\n",
    "\n",
    "# Decaying exponential function to fit to random bursts\n",
    "def exp_fit(x, a, b, c, d):\n",
    "    return a * np.exp(-b * x + c) + d"
   ]
  },
  {
   "cell_type": "code",
   "execution_count": 5,
   "metadata": {},
   "outputs": [
    {
     "data": {
      "application/javascript": [
       "\n",
       "            setTimeout(function() {\n",
       "                var nbb_cell_id = 5;\n",
       "                var nbb_unformatted_code = \"# PLOT STYLE SIZE\\ndef set_size(width, fraction=1, subplots=(1, 1)):\\n    \\\"\\\"\\\"Set figure dimensions to avoid scaling in LaTeX.\\n    Source: https://jwalton.info/Embed-Publication-Matplotlib-Latex/\\n\\n    Parameters\\n    ----------\\n    width: float or string\\n            Document width in points, or string of predined document type\\n    fraction: float, optional\\n            Fraction of the width which you wish the figure to occupy\\n    subplots: array-like, optional\\n            The number of rows and columns of subplots.\\n    Returns\\n    -------\\n    fig_dim: tuple\\n            Dimensions of figure in inches\\n    \\\"\\\"\\\"\\n    if width == \\\"full\\\":\\n        width_pt = 513.11743\\n    elif width == \\\"half\\\":\\n        width_pt = 242.26653\\n    else:\\n        width_pt = width\\n\\n    # Width of figure (in pts)\\n    fig_width_pt = width_pt * fraction\\n    # Convert from pt to inches\\n    inches_per_pt = 1 / 72.27\\n\\n    # Golden ratio to set aesthetic figure height\\n    # https://disq.us/p/2940ij3\\n    golden_ratio = (5 ** 0.5 - 1) / 2\\n\\n    # Figure width in inches\\n    fig_width_in = fig_width_pt * inches_per_pt\\n    # Figure height in inches\\n    fig_height_in = fig_width_in * golden_ratio * (subplots[0] / subplots[1])\\n\\n    return (fig_width_in, fig_height_in)\";\n",
       "                var nbb_formatted_code = \"# PLOT STYLE SIZE\\ndef set_size(width, fraction=1, subplots=(1, 1)):\\n    \\\"\\\"\\\"Set figure dimensions to avoid scaling in LaTeX.\\n    Source: https://jwalton.info/Embed-Publication-Matplotlib-Latex/\\n\\n    Parameters\\n    ----------\\n    width: float or string\\n            Document width in points, or string of predined document type\\n    fraction: float, optional\\n            Fraction of the width which you wish the figure to occupy\\n    subplots: array-like, optional\\n            The number of rows and columns of subplots.\\n    Returns\\n    -------\\n    fig_dim: tuple\\n            Dimensions of figure in inches\\n    \\\"\\\"\\\"\\n    if width == \\\"full\\\":\\n        width_pt = 513.11743\\n    elif width == \\\"half\\\":\\n        width_pt = 242.26653\\n    else:\\n        width_pt = width\\n\\n    # Width of figure (in pts)\\n    fig_width_pt = width_pt * fraction\\n    # Convert from pt to inches\\n    inches_per_pt = 1 / 72.27\\n\\n    # Golden ratio to set aesthetic figure height\\n    # https://disq.us/p/2940ij3\\n    golden_ratio = (5 ** 0.5 - 1) / 2\\n\\n    # Figure width in inches\\n    fig_width_in = fig_width_pt * inches_per_pt\\n    # Figure height in inches\\n    fig_height_in = fig_width_in * golden_ratio * (subplots[0] / subplots[1])\\n\\n    return (fig_width_in, fig_height_in)\";\n",
       "                var nbb_cells = Jupyter.notebook.get_cells();\n",
       "                for (var i = 0; i < nbb_cells.length; ++i) {\n",
       "                    if (nbb_cells[i].input_prompt_number == nbb_cell_id) {\n",
       "                        if (nbb_cells[i].get_text() == nbb_unformatted_code) {\n",
       "                             nbb_cells[i].set_text(nbb_formatted_code);\n",
       "                        }\n",
       "                        break;\n",
       "                    }\n",
       "                }\n",
       "            }, 500);\n",
       "            "
      ],
      "text/plain": [
       "<IPython.core.display.Javascript object>"
      ]
     },
     "metadata": {},
     "output_type": "display_data"
    }
   ],
   "source": [
    "# PLOT STYLE SIZE\n",
    "def set_size(width, fraction=1, subplots=(1, 1)):\n",
    "    \"\"\"Set figure dimensions to avoid scaling in LaTeX.\n",
    "    Source: https://jwalton.info/Embed-Publication-Matplotlib-Latex/\n",
    "\n",
    "    Parameters\n",
    "    ----------\n",
    "    width: float or string\n",
    "            Document width in points, or string of predined document type\n",
    "    fraction: float, optional\n",
    "            Fraction of the width which you wish the figure to occupy\n",
    "    subplots: array-like, optional\n",
    "            The number of rows and columns of subplots.\n",
    "    Returns\n",
    "    -------\n",
    "    fig_dim: tuple\n",
    "            Dimensions of figure in inches\n",
    "    \"\"\"\n",
    "    if width == \"full\":\n",
    "        width_pt = 513.11743\n",
    "    elif width == \"half\":\n",
    "        width_pt = 242.26653\n",
    "    else:\n",
    "        width_pt = width\n",
    "\n",
    "    # Width of figure (in pts)\n",
    "    fig_width_pt = width_pt * fraction\n",
    "    # Convert from pt to inches\n",
    "    inches_per_pt = 1 / 72.27\n",
    "\n",
    "    # Golden ratio to set aesthetic figure height\n",
    "    # https://disq.us/p/2940ij3\n",
    "    golden_ratio = (5 ** 0.5 - 1) / 2\n",
    "\n",
    "    # Figure width in inches\n",
    "    fig_width_in = fig_width_pt * inches_per_pt\n",
    "    # Figure height in inches\n",
    "    fig_height_in = fig_width_in * golden_ratio * (subplots[0] / subplots[1])\n",
    "\n",
    "    return (fig_width_in, fig_height_in)"
   ]
  },
  {
   "cell_type": "markdown",
   "metadata": {},
   "source": [
    "Below is the function used to create the histogram of burst time differences and fit the wait time distribution. We avoid counting the difference between separate observations as a real wait time by specifying a maximum time difference to consider as real. (You'll have to specify that number in the second cell.) <br>\n",
    "In our analysis, we only fit the distribution to bins with wait times greater than one second. You can change this with the min_diff variable in the second cell as well."
   ]
  },
  {
   "cell_type": "code",
   "execution_count": 6,
   "metadata": {},
   "outputs": [
    {
     "data": {
      "application/javascript": [
       "\n",
       "            setTimeout(function() {\n",
       "                var nbb_cell_id = 6;\n",
       "                var nbb_unformatted_code = \"# Histogram fitting function: needs input of burst times and number of bins\\n\\n\\ndef hist_fit(burst_times, num_bins, min_diff, max_diff):\\n    # Calculate diffs\\n    diffs = []\\n    burst_times = np.sort(burst_times)\\n    for i in range(0, len(burst_times) - 1):\\n        diff = (burst_times[i + 1] - burst_times[i]) * 86400.0\\n        if diff < max_diff:\\n            diffs.append(diff)  # assuming times are in MJD\\n\\n    # Make histogram\\n    bins = np.logspace(start, end, num_bins)\\n    hist, bin_edges = np.histogram(diffs, bins=bins)\\n\\n    # Find leftmost bin- only fitting diffs > 1s\\n    main_bins = np.where(bins > min_diff)\\n    last_bin = main_bins[0][0]\\n\\n    # Get bin centers\\n    ln_data = []\\n    bin_centers = []\\n    for i in range(last_bin, len(hist)):\\n        ln_data.append(hist[i])\\n        dist = bin_edges[i + 1] - bin_edges[i]\\n        halfdist = dist / 2.0\\n        mid = bin_edges[i] + halfdist\\n        bin_centers.append(mid)\\n\\n    # Fit log-normal to bin centers and calculate fit\\n    mu = 7\\n    sigma = 1\\n    a = 1\\n    popt, pcov = curve_fit(log_fit, bin_centers, ln_data, p0=[a, mu, sigma])\\n    perr = np.sqrt(np.diag(pcov))\\n    xaxis = np.logspace(0.5, np.log10(np.max(diffs) * 1.1), 1000)\\n    yfit = log_fit(xaxis, *popt)\\n\\n    return bin_centers, ln_data, xaxis, yfit, diffs, bins, perr\";\n",
       "                var nbb_formatted_code = \"# Histogram fitting function: needs input of burst times and number of bins\\n\\n\\ndef hist_fit(burst_times, num_bins, min_diff, max_diff):\\n    # Calculate diffs\\n    diffs = []\\n    burst_times = np.sort(burst_times)\\n    for i in range(0, len(burst_times) - 1):\\n        diff = (burst_times[i + 1] - burst_times[i]) * 86400.0\\n        if diff < max_diff:\\n            diffs.append(diff)  # assuming times are in MJD\\n\\n    # Make histogram\\n    bins = np.logspace(start, end, num_bins)\\n    hist, bin_edges = np.histogram(diffs, bins=bins)\\n\\n    # Find leftmost bin- only fitting diffs > 1s\\n    main_bins = np.where(bins > min_diff)\\n    last_bin = main_bins[0][0]\\n\\n    # Get bin centers\\n    ln_data = []\\n    bin_centers = []\\n    for i in range(last_bin, len(hist)):\\n        ln_data.append(hist[i])\\n        dist = bin_edges[i + 1] - bin_edges[i]\\n        halfdist = dist / 2.0\\n        mid = bin_edges[i] + halfdist\\n        bin_centers.append(mid)\\n\\n    # Fit log-normal to bin centers and calculate fit\\n    mu = 7\\n    sigma = 1\\n    a = 1\\n    popt, pcov = curve_fit(log_fit, bin_centers, ln_data, p0=[a, mu, sigma])\\n    perr = np.sqrt(np.diag(pcov))\\n    xaxis = np.logspace(0.5, np.log10(np.max(diffs) * 1.1), 1000)\\n    yfit = log_fit(xaxis, *popt)\\n\\n    return bin_centers, ln_data, xaxis, yfit, diffs, bins, perr\";\n",
       "                var nbb_cells = Jupyter.notebook.get_cells();\n",
       "                for (var i = 0; i < nbb_cells.length; ++i) {\n",
       "                    if (nbb_cells[i].input_prompt_number == nbb_cell_id) {\n",
       "                        if (nbb_cells[i].get_text() == nbb_unformatted_code) {\n",
       "                             nbb_cells[i].set_text(nbb_formatted_code);\n",
       "                        }\n",
       "                        break;\n",
       "                    }\n",
       "                }\n",
       "            }, 500);\n",
       "            "
      ],
      "text/plain": [
       "<IPython.core.display.Javascript object>"
      ]
     },
     "metadata": {},
     "output_type": "display_data"
    }
   ],
   "source": [
    "# Histogram fitting function: needs input of burst times and number of bins\n",
    "\n",
    "\n",
    "def hist_fit(burst_times, num_bins, min_diff, max_diff):\n",
    "    # Calculate diffs\n",
    "    diffs = []\n",
    "    burst_times = np.sort(burst_times)\n",
    "    for i in range(0, len(burst_times) - 1):\n",
    "        diff = (burst_times[i + 1] - burst_times[i]) * 86400.0\n",
    "        if diff < max_diff:\n",
    "            diffs.append(diff)  # assuming times are in MJD\n",
    "\n",
    "    # Make histogram\n",
    "    bins = np.logspace(start, end, num_bins)\n",
    "    hist, bin_edges = np.histogram(diffs, bins=bins)\n",
    "\n",
    "    # Find leftmost bin- only fitting diffs > 1s\n",
    "    main_bins = np.where(bins > min_diff)\n",
    "    last_bin = main_bins[0][0]\n",
    "\n",
    "    # Get bin centers\n",
    "    ln_data = []\n",
    "    bin_centers = []\n",
    "    for i in range(last_bin, len(hist)):\n",
    "        ln_data.append(hist[i])\n",
    "        dist = bin_edges[i + 1] - bin_edges[i]\n",
    "        halfdist = dist / 2.0\n",
    "        mid = bin_edges[i] + halfdist\n",
    "        bin_centers.append(mid)\n",
    "\n",
    "    # Fit log-normal to bin centers and calculate fit\n",
    "    mu = 7\n",
    "    sigma = 1\n",
    "    a = 1\n",
    "    popt, pcov = curve_fit(log_fit, bin_centers, ln_data, p0=[a, mu, sigma])\n",
    "    perr = np.sqrt(np.diag(pcov))\n",
    "    xaxis = np.logspace(0.5, np.log10(np.max(diffs) * 1.1), 1000)\n",
    "    yfit = log_fit(xaxis, *popt)\n",
    "\n",
    "    return bin_centers, ln_data, xaxis, yfit, diffs, bins, perr"
   ]
  },
  {
   "cell_type": "markdown",
   "metadata": {},
   "source": [
    "You can change the number of bins used to create the histogram with the num_bins variable below."
   ]
  },
  {
   "cell_type": "code",
   "execution_count": 7,
   "metadata": {},
   "outputs": [
    {
     "name": "stdout",
     "output_type": "stream",
     "text": [
      "Wait time distribution peak:  74.8 +/- 0.11 s\n"
     ]
    },
    {
     "data": {
      "application/javascript": [
       "\n",
       "            setTimeout(function() {\n",
       "                var nbb_cell_id = 7;\n",
       "                var nbb_unformatted_code = \"# ALL BURSTS\\nburst_times_all = mjd\\nnum_bins = 18\\nbin_centers, ln_data, xaxis, yfit, all_diffs, bins, perr = hist_fit(\\n    burst_times_all, num_bins, min_diff, max_diff\\n)\\n\\nmax_hist = np.amax(yfit)\\nmax_index = np.where(yfit == max_hist)\\nwt_peak = np.round(xaxis[max_index][0], 2)\\npeak_error = np.round(perr[1], 2)\\n\\nprint(\\n    \\\"Wait time distribution peak:  \\\" + str(wt_peak) + \\\" +/- \\\" + str(peak_error) + \\\" s\\\"\\n)\";\n",
       "                var nbb_formatted_code = \"# ALL BURSTS\\nburst_times_all = mjd\\nnum_bins = 18\\nbin_centers, ln_data, xaxis, yfit, all_diffs, bins, perr = hist_fit(\\n    burst_times_all, num_bins, min_diff, max_diff\\n)\\n\\nmax_hist = np.amax(yfit)\\nmax_index = np.where(yfit == max_hist)\\nwt_peak = np.round(xaxis[max_index][0], 2)\\npeak_error = np.round(perr[1], 2)\\n\\nprint(\\n    \\\"Wait time distribution peak:  \\\" + str(wt_peak) + \\\" +/- \\\" + str(peak_error) + \\\" s\\\"\\n)\";\n",
       "                var nbb_cells = Jupyter.notebook.get_cells();\n",
       "                for (var i = 0; i < nbb_cells.length; ++i) {\n",
       "                    if (nbb_cells[i].input_prompt_number == nbb_cell_id) {\n",
       "                        if (nbb_cells[i].get_text() == nbb_unformatted_code) {\n",
       "                             nbb_cells[i].set_text(nbb_formatted_code);\n",
       "                        }\n",
       "                        break;\n",
       "                    }\n",
       "                }\n",
       "            }, 500);\n",
       "            "
      ],
      "text/plain": [
       "<IPython.core.display.Javascript object>"
      ]
     },
     "metadata": {},
     "output_type": "display_data"
    }
   ],
   "source": [
    "# ALL BURSTS\n",
    "burst_times_all = mjd\n",
    "num_bins = 18\n",
    "bin_centers, ln_data, xaxis, yfit, all_diffs, bins, perr = hist_fit(\n",
    "    burst_times_all, num_bins, min_diff, max_diff\n",
    ")\n",
    "\n",
    "max_hist = np.amax(yfit)\n",
    "max_index = np.where(yfit == max_hist)\n",
    "wt_peak = np.round(xaxis[max_index][0], 2)\n",
    "peak_error = np.round(perr[1], 2)\n",
    "\n",
    "print(\n",
    "    \"Wait time distribution peak:  \" + str(wt_peak) + \" +/- \" + str(peak_error) + \" s\"\n",
    ")"
   ]
  },
  {
   "cell_type": "markdown",
   "metadata": {},
   "source": [
    "Below, the analysis to remove random bursts and calculate the wait time is performed."
   ]
  },
  {
   "cell_type": "code",
   "execution_count": 8,
   "metadata": {},
   "outputs": [
    {
     "name": "stdout",
     "output_type": "stream",
     "text": [
      "[ 50.  55.  60.  65.  70.  75.  80.  85.  90.  95. 100. 105. 110. 115.\n",
      " 120. 125. 130.]\n"
     ]
    },
    {
     "data": {
      "application/javascript": [
       "\n",
       "            setTimeout(function() {\n",
       "                var nbb_cell_id = 8;\n",
       "                var nbb_unformatted_code = \"# Sets up parameters for removal of random number of bursts\\nntrials = 300  # number of random trials at each burst number\\nburstnums = np.linspace(\\n    len(data) - 80, len(data), num=17\\n)  # Number of bursts at which you perform the random trials\\nprint(burstnums)\";\n",
       "                var nbb_formatted_code = \"# Sets up parameters for removal of random number of bursts\\nntrials = 300  # number of random trials at each burst number\\nburstnums = np.linspace(\\n    len(data) - 80, len(data), num=17\\n)  # Number of bursts at which you perform the random trials\\nprint(burstnums)\";\n",
       "                var nbb_cells = Jupyter.notebook.get_cells();\n",
       "                for (var i = 0; i < nbb_cells.length; ++i) {\n",
       "                    if (nbb_cells[i].input_prompt_number == nbb_cell_id) {\n",
       "                        if (nbb_cells[i].get_text() == nbb_unformatted_code) {\n",
       "                             nbb_cells[i].set_text(nbb_formatted_code);\n",
       "                        }\n",
       "                        break;\n",
       "                    }\n",
       "                }\n",
       "            }, 500);\n",
       "            "
      ],
      "text/plain": [
       "<IPython.core.display.Javascript object>"
      ]
     },
     "metadata": {},
     "output_type": "display_data"
    }
   ],
   "source": [
    "# Sets up parameters for removal of random number of bursts\n",
    "ntrials = 300  # number of random trials at each burst number\n",
    "burstnums = np.linspace(\n",
    "    len(data) - 80, len(data), num=17\n",
    ")  # Number of bursts at which you perform the random trials\n",
    "print(burstnums)"
   ]
  },
  {
   "cell_type": "code",
   "execution_count": 9,
   "metadata": {
    "scrolled": true
   },
   "outputs": [
    {
     "name": "stdout",
     "output_type": "stream",
     "text": [
      "N = 50, mean peak = 185.35, stdev = 41.07\n",
      "N = 55, mean peak = 163.57, stdev = 27.91\n",
      "N = 60, mean peak = 147.35, stdev = 21.14\n",
      "N = 65, mean peak = 135.19, stdev = 17.51\n",
      "N = 70, mean peak = 125.33, stdev = 14.87\n",
      "N = 75, mean peak = 117.57, stdev = 12.54\n",
      "N = 80, mean peak = 110.31, stdev = 10.79\n",
      "N = 85, mean peak = 104.45, stdev = 8.97\n",
      "N = 90, mean peak = 99.38, stdev = 7.97\n",
      "N = 95, mean peak = 95.35, stdev = 7.08\n",
      "N = 100, mean peak = 91.47, stdev = 6.19\n",
      "N = 105, mean peak = 87.89, stdev = 5.33\n",
      "N = 110, mean peak = 84.85, stdev = 4.61\n",
      "N = 115, mean peak = 81.89, stdev = 3.93\n",
      "N = 120, mean peak = 79.23, stdev = 3.05\n",
      "N = 125, mean peak = 76.94, stdev = 2.13\n",
      "N = 130, mean peak = 74.8, stdev = 0.0\n"
     ]
    },
    {
     "data": {
      "application/javascript": [
       "\n",
       "            setTimeout(function() {\n",
       "                var nbb_cell_id = 9;\n",
       "                var nbb_unformatted_code = \"# REMOVING RANDOM BURSTS- TRIALS\\n\\nall_meanpeaks = []\\nall_stdvs = []\\n\\nfor num in burstnums:\\n    random_peaks = []  # array that holds all WT peaks at each burst number\\n\\n    for j in range(0, ntrials):\\n        # make dataframe with random bursts removed\\n        num = int(num)\\n        rand_rmvd_data = data.sample(n=num, random_state=j)\\n        mjds_rand = rand_rmvd_data[\\\"$\\\\mu_t$ (ms)\\\"]\\n\\n        # Fit histogram and get wait time peak\\n        (\\n            bin_centers_rand,\\n            ln_data_rand,\\n            xaxis_rand,\\n            yfit_rand,\\n            diffs_rand,\\n            bins_rand,\\n            perr_rand,\\n        ) = hist_fit(mjds_rand, num_bins, min_diff, max_diff)\\n        max_hist_rand = np.amax(yfit_rand)\\n        max_index_rand = np.where(yfit_rand == max_hist_rand)\\n        wtpeak = xaxis_rand[max_index_rand]\\n        random_peaks.append(wtpeak)\\n\\n    meanpeak = np.mean(random_peaks)\\n    stdpeak = np.std(random_peaks)\\n    print(\\n        \\\"N = \\\"\\n        + str(num)\\n        + \\\", mean peak = \\\"\\n        + str(np.round(meanpeak, 2))\\n        + \\\", stdev = \\\"\\n        + str(np.round(stdpeak, 2))\\n    )\\n    all_meanpeaks.append(meanpeak)\\n    all_stdvs.append(stdpeak)\";\n",
       "                var nbb_formatted_code = \"# REMOVING RANDOM BURSTS- TRIALS\\n\\nall_meanpeaks = []\\nall_stdvs = []\\n\\nfor num in burstnums:\\n    random_peaks = []  # array that holds all WT peaks at each burst number\\n\\n    for j in range(0, ntrials):\\n        # make dataframe with random bursts removed\\n        num = int(num)\\n        rand_rmvd_data = data.sample(n=num, random_state=j)\\n        mjds_rand = rand_rmvd_data[\\\"$\\\\mu_t$ (ms)\\\"]\\n\\n        # Fit histogram and get wait time peak\\n        (\\n            bin_centers_rand,\\n            ln_data_rand,\\n            xaxis_rand,\\n            yfit_rand,\\n            diffs_rand,\\n            bins_rand,\\n            perr_rand,\\n        ) = hist_fit(mjds_rand, num_bins, min_diff, max_diff)\\n        max_hist_rand = np.amax(yfit_rand)\\n        max_index_rand = np.where(yfit_rand == max_hist_rand)\\n        wtpeak = xaxis_rand[max_index_rand]\\n        random_peaks.append(wtpeak)\\n\\n    meanpeak = np.mean(random_peaks)\\n    stdpeak = np.std(random_peaks)\\n    print(\\n        \\\"N = \\\"\\n        + str(num)\\n        + \\\", mean peak = \\\"\\n        + str(np.round(meanpeak, 2))\\n        + \\\", stdev = \\\"\\n        + str(np.round(stdpeak, 2))\\n    )\\n    all_meanpeaks.append(meanpeak)\\n    all_stdvs.append(stdpeak)\";\n",
       "                var nbb_cells = Jupyter.notebook.get_cells();\n",
       "                for (var i = 0; i < nbb_cells.length; ++i) {\n",
       "                    if (nbb_cells[i].input_prompt_number == nbb_cell_id) {\n",
       "                        if (nbb_cells[i].get_text() == nbb_unformatted_code) {\n",
       "                             nbb_cells[i].set_text(nbb_formatted_code);\n",
       "                        }\n",
       "                        break;\n",
       "                    }\n",
       "                }\n",
       "            }, 500);\n",
       "            "
      ],
      "text/plain": [
       "<IPython.core.display.Javascript object>"
      ]
     },
     "metadata": {},
     "output_type": "display_data"
    }
   ],
   "source": [
    "# REMOVING RANDOM BURSTS- TRIALS\n",
    "\n",
    "all_meanpeaks = []\n",
    "all_stdvs = []\n",
    "\n",
    "for num in burstnums:\n",
    "    random_peaks = []  # array that holds all WT peaks at each burst number\n",
    "\n",
    "    for j in range(0, ntrials):\n",
    "        # make dataframe with random bursts removed\n",
    "        num = int(num)\n",
    "        rand_rmvd_data = data.sample(n=num, random_state=j)\n",
    "        mjds_rand = rand_rmvd_data[\"$\\mu_t$ (ms)\"]\n",
    "\n",
    "        # Fit histogram and get wait time peak\n",
    "        (\n",
    "            bin_centers_rand,\n",
    "            ln_data_rand,\n",
    "            xaxis_rand,\n",
    "            yfit_rand,\n",
    "            diffs_rand,\n",
    "            bins_rand,\n",
    "            perr_rand,\n",
    "        ) = hist_fit(mjds_rand, num_bins, min_diff, max_diff)\n",
    "        max_hist_rand = np.amax(yfit_rand)\n",
    "        max_index_rand = np.where(yfit_rand == max_hist_rand)\n",
    "        wtpeak = xaxis_rand[max_index_rand]\n",
    "        random_peaks.append(wtpeak)\n",
    "\n",
    "    meanpeak = np.mean(random_peaks)\n",
    "    stdpeak = np.std(random_peaks)\n",
    "    print(\n",
    "        \"N = \"\n",
    "        + str(num)\n",
    "        + \", mean peak = \"\n",
    "        + str(np.round(meanpeak, 2))\n",
    "        + \", stdev = \"\n",
    "        + str(np.round(stdpeak, 2))\n",
    "    )\n",
    "    all_meanpeaks.append(meanpeak)\n",
    "    all_stdvs.append(stdpeak)"
   ]
  },
  {
   "cell_type": "code",
   "execution_count": 10,
   "metadata": {},
   "outputs": [
    {
     "name": "stdout",
     "output_type": "stream",
     "text": [
      "Timescale = 29.04 s +/- 1.23\n"
     ]
    },
    {
     "data": {
      "application/javascript": [
       "\n",
       "            setTimeout(function() {\n",
       "                var nbb_cell_id = 10;\n",
       "                var nbb_unformatted_code = \"# Exponential fit to random bursts\\nA = 50\\nB = 0.01\\nC = 50\\nD = 5\\nexppopt, exppcov = curve_fit(exp_fit, burstnums, all_meanpeaks, p0=[A, B, C, D])\\nexpperr = np.sqrt(np.diag(exppcov))\\nb = exppopt[1]\\nb_err = expperr[1]\\nts = 1.0 / b\\nts_err = b_err / (b ** 2)\\nprint(\\\"Timescale = \\\" + str(np.round(ts, 2)) + \\\" s +/- \\\" + str(np.round(ts_err, 2)))\\nxaxis_rand = np.linspace(40, burstnums[-1], num=100)\\nyfit_rand = exp_fit(xaxis_rand, *exppopt)\";\n",
       "                var nbb_formatted_code = \"# Exponential fit to random bursts\\nA = 50\\nB = 0.01\\nC = 50\\nD = 5\\nexppopt, exppcov = curve_fit(exp_fit, burstnums, all_meanpeaks, p0=[A, B, C, D])\\nexpperr = np.sqrt(np.diag(exppcov))\\nb = exppopt[1]\\nb_err = expperr[1]\\nts = 1.0 / b\\nts_err = b_err / (b ** 2)\\nprint(\\\"Timescale = \\\" + str(np.round(ts, 2)) + \\\" s +/- \\\" + str(np.round(ts_err, 2)))\\nxaxis_rand = np.linspace(40, burstnums[-1], num=100)\\nyfit_rand = exp_fit(xaxis_rand, *exppopt)\";\n",
       "                var nbb_cells = Jupyter.notebook.get_cells();\n",
       "                for (var i = 0; i < nbb_cells.length; ++i) {\n",
       "                    if (nbb_cells[i].input_prompt_number == nbb_cell_id) {\n",
       "                        if (nbb_cells[i].get_text() == nbb_unformatted_code) {\n",
       "                             nbb_cells[i].set_text(nbb_formatted_code);\n",
       "                        }\n",
       "                        break;\n",
       "                    }\n",
       "                }\n",
       "            }, 500);\n",
       "            "
      ],
      "text/plain": [
       "<IPython.core.display.Javascript object>"
      ]
     },
     "metadata": {},
     "output_type": "display_data"
    }
   ],
   "source": [
    "# Exponential fit to random bursts\n",
    "A = 50\n",
    "B = 0.01\n",
    "C = 50\n",
    "D = 5\n",
    "exppopt, exppcov = curve_fit(exp_fit, burstnums, all_meanpeaks, p0=[A, B, C, D])\n",
    "expperr = np.sqrt(np.diag(exppcov))\n",
    "b = exppopt[1]\n",
    "b_err = expperr[1]\n",
    "ts = 1.0 / b\n",
    "ts_err = b_err / (b ** 2)\n",
    "print(\"Timescale = \" + str(np.round(ts, 2)) + \" s +/- \" + str(np.round(ts_err, 2)))\n",
    "xaxis_rand = np.linspace(40, burstnums[-1], num=100)\n",
    "yfit_rand = exp_fit(xaxis_rand, *exppopt)"
   ]
  },
  {
   "cell_type": "code",
   "execution_count": 47,
   "metadata": {
    "scrolled": false
   },
   "outputs": [
    {
     "data": {
      "image/png": "[encoded data removed]",
      "text/plain": [
       "<Figure size 511.2x255.6 with 2 Axes>"
      ]
     },
     "metadata": {
      "needs_background": "light"
     },
     "output_type": "display_data"
    },
    {
     "data": {
      "application/javascript": [
       "\n",
       "            setTimeout(function() {\n",
       "                var nbb_cell_id = 47;\n",
       "                var nbb_unformatted_code = \"with plt.style.context([\\\"science\\\", \\\"grid\\\", \\\"no-latex\\\"]):\\n    fig, ax = plt.subplots(\\n        1, 2, figsize=set_size(width=\\\"full\\\", subplots=(1.61803398875, 2))\\n    )\\n    ax[0].plot(xaxis, yfit, \\\"k-.\\\")\\n    ax[0].set_xscale(\\\"log\\\")\\n    ax[0].hist(all_diffs, bins=bins, color=\\\"silver\\\")\\n    # ax[0].vlines(x=xaxis[max_index], ymin=0, ymax=max_hist+2, linestyles='dashed') #Plots vertical line at fitted WT peak\\n    ax[0].set_xlabel(\\\"Wait Time (s)\\\")\\n    ax[0].set_ylabel(\\\"Counts\\\")\\n\\n    # Plot each individual observation wait time distribution on top\\n    for i in range(0, len(sep_pulse_times)):\\n        these_diffs = []\\n        these_pts = sep_pulse_times[i]  # array of pulse times from just one MJD\\n        for j in range(0, len(these_pts) - 1):\\n            diff = (\\n                these_pts[j + 1] - these_pts[j]\\n            ) * 86400.0  # again assuming pulse times are in MJD\\n            if diff < max_diff:\\n                these_diffs.append(diff)\\n        # After getting all WTs for one observation, plot\\n        ax[0].hist(\\n            these_diffs,\\n            bins=bins,\\n            histtype=\\\"step\\\",\\n            linewidth=1.5,\\n            label=\\\"Observation \\\" + str(i + 1),\\n        )\\n\\n    # Plot peaks from other papers\\n    ymax = 34  # max_hist + 0.5\\n    ax[0].vlines(\\n        x=67,\\n        ymin=0,\\n        ymax=ymax,\\n        colors=\\\"r\\\",\\n        linestyles=\\\"solid\\\",\\n        linewidth=1.1,\\n        label=\\\"Zhang et al. (2018)\\\",\\n    )  # estimated by Gourdji et al 2019\\n    ax[0].vlines(\\n        x=170,\\n        ymin=0,\\n        ymax=ymax,\\n        colors=\\\"g\\\",\\n        linestyles=\\\"dotted\\\",\\n        linewidth=0.9,\\n        label=\\\"Li et al. (2019)\\\",\\n    )  # Li et al 2019\\n    ax[0].vlines(\\n        x=200,\\n        ymin=0,\\n        ymax=ymax,\\n        colors=\\\"c\\\",\\n        linestyles=\\\"dashed\\\",\\n        linewidth=0.9,\\n        label=\\\"Cruces et al. (2020)\\\",\\n    )  # Cruces et al 2020\\n    ax[0].vlines(\\n        x=207,\\n        ymin=0,\\n        ymax=ymax,\\n        colors=\\\"m\\\",\\n        linestyles=\\\"dashdot\\\",\\n        linewidth=1.1,\\n        label=\\\"Gourdji et al. (2019)\\\",\\n    )  # Gourdji et al 2020\\n    ax[0].legend()\\n\\n    ax[1].errorbar(\\n        burstnums,\\n        all_meanpeaks,\\n        yerr=all_stdvs,\\n        capsize=4,\\n        linestyle=\\\"\\\",\\n        fmt=\\\"o\\\",\\n        color=\\\"k\\\",\\n    )\\n    ax[1].plot(xaxis_rand, yfit_rand, \\\"k--\\\")\\n    ax[1].scatter(40, 207, s=64, marker=\\\"*\\\", color=\\\"red\\\", label=\\\"Gourdji et al. peak\\\")\\n    ax[1].legend()\\n\\n    ax[1].set_xlabel(\\\"Number of bursts\\\")\\n    ax[1].set_ylabel(\\\"Wait time peak (s)\\\")\\n    plt.tight_layout()\\n    plt.savefig(\\\"wt_final.png\\\", bbox_inches=\\\"tight\\\", dpi=300)\\n\\n    plt.show()\";\n",
       "                var nbb_formatted_code = \"with plt.style.context([\\\"science\\\", \\\"grid\\\", \\\"no-latex\\\"]):\\n    fig, ax = plt.subplots(\\n        1, 2, figsize=set_size(width=\\\"full\\\", subplots=(1.61803398875, 2))\\n    )\\n    ax[0].plot(xaxis, yfit, \\\"k-.\\\")\\n    ax[0].set_xscale(\\\"log\\\")\\n    ax[0].hist(all_diffs, bins=bins, color=\\\"silver\\\")\\n    # ax[0].vlines(x=xaxis[max_index], ymin=0, ymax=max_hist+2, linestyles='dashed') #Plots vertical line at fitted WT peak\\n    ax[0].set_xlabel(\\\"Wait Time (s)\\\")\\n    ax[0].set_ylabel(\\\"Counts\\\")\\n\\n    # Plot each individual observation wait time distribution on top\\n    for i in range(0, len(sep_pulse_times)):\\n        these_diffs = []\\n        these_pts = sep_pulse_times[i]  # array of pulse times from just one MJD\\n        for j in range(0, len(these_pts) - 1):\\n            diff = (\\n                these_pts[j + 1] - these_pts[j]\\n            ) * 86400.0  # again assuming pulse times are in MJD\\n            if diff < max_diff:\\n                these_diffs.append(diff)\\n        # After getting all WTs for one observation, plot\\n        ax[0].hist(\\n            these_diffs,\\n            bins=bins,\\n            histtype=\\\"step\\\",\\n            linewidth=1.5,\\n            label=\\\"Observation \\\" + str(i + 1),\\n        )\\n\\n    # Plot peaks from other papers\\n    ymax = 34  # max_hist + 0.5\\n    ax[0].vlines(\\n        x=67,\\n        ymin=0,\\n        ymax=ymax,\\n        colors=\\\"r\\\",\\n        linestyles=\\\"solid\\\",\\n        linewidth=1.1,\\n        label=\\\"Zhang et al. (2018)\\\",\\n    )  # estimated by Gourdji et al 2019\\n    ax[0].vlines(\\n        x=170,\\n        ymin=0,\\n        ymax=ymax,\\n        colors=\\\"g\\\",\\n        linestyles=\\\"dotted\\\",\\n        linewidth=0.9,\\n        label=\\\"Li et al. (2019)\\\",\\n    )  # Li et al 2019\\n    ax[0].vlines(\\n        x=200,\\n        ymin=0,\\n        ymax=ymax,\\n        colors=\\\"c\\\",\\n        linestyles=\\\"dashed\\\",\\n        linewidth=0.9,\\n        label=\\\"Cruces et al. (2020)\\\",\\n    )  # Cruces et al 2020\\n    ax[0].vlines(\\n        x=207,\\n        ymin=0,\\n        ymax=ymax,\\n        colors=\\\"m\\\",\\n        linestyles=\\\"dashdot\\\",\\n        linewidth=1.1,\\n        label=\\\"Gourdji et al. (2019)\\\",\\n    )  # Gourdji et al 2020\\n    ax[0].legend()\\n\\n    ax[1].errorbar(\\n        burstnums,\\n        all_meanpeaks,\\n        yerr=all_stdvs,\\n        capsize=4,\\n        linestyle=\\\"\\\",\\n        fmt=\\\"o\\\",\\n        color=\\\"k\\\",\\n    )\\n    ax[1].plot(xaxis_rand, yfit_rand, \\\"k--\\\")\\n    ax[1].scatter(40, 207, s=64, marker=\\\"*\\\", color=\\\"red\\\", label=\\\"Gourdji et al. peak\\\")\\n    ax[1].legend()\\n\\n    ax[1].set_xlabel(\\\"Number of bursts\\\")\\n    ax[1].set_ylabel(\\\"Wait time peak (s)\\\")\\n    plt.tight_layout()\\n    plt.savefig(\\\"wt_final.png\\\", bbox_inches=\\\"tight\\\", dpi=300)\\n\\n    plt.show()\";\n",
       "                var nbb_cells = Jupyter.notebook.get_cells();\n",
       "                for (var i = 0; i < nbb_cells.length; ++i) {\n",
       "                    if (nbb_cells[i].input_prompt_number == nbb_cell_id) {\n",
       "                        if (nbb_cells[i].get_text() == nbb_unformatted_code) {\n",
       "                             nbb_cells[i].set_text(nbb_formatted_code);\n",
       "                        }\n",
       "                        break;\n",
       "                    }\n",
       "                }\n",
       "            }, 500);\n",
       "            "
      ],
      "text/plain": [
       "<IPython.core.display.Javascript object>"
      ]
     },
     "metadata": {},
     "output_type": "display_data"
    }
   ],
   "source": [
    "with plt.style.context([\"science\", \"grid\", \"no-latex\"]):\n",
    "    fig, ax = plt.subplots(\n",
    "        1, 2, figsize=set_size(width=\"full\", subplots=(1.61803398875, 2))\n",
    "    )\n",
    "    ax[0].plot(xaxis, yfit, \"k-.\")\n",
    "    ax[0].set_xscale(\"log\")\n",
    "    ax[0].hist(all_diffs, bins=bins, color=\"silver\")\n",
    "    # ax[0].vlines(x=xaxis[max_index], ymin=0, ymax=max_hist+2, linestyles='dashed') #Plots vertical line at fitted WT peak\n",
    "    ax[0].set_xlabel(\"Wait Time (s)\")\n",
    "    ax[0].set_ylabel(\"Counts\")\n",
    "\n",
    "    # Plot each individual observation wait time distribution on top\n",
    "    for i in range(0, len(sep_pulse_times)):\n",
    "        these_diffs = []\n",
    "        these_pts = sep_pulse_times[i]  # array of pulse times from just one MJD\n",
    "        for j in range(0, len(these_pts) - 1):\n",
    "            diff = (\n",
    "                these_pts[j + 1] - these_pts[j]\n",
    "            ) * 86400.0  # again assuming pulse times are in MJD\n",
    "            if diff < max_diff:\n",
    "                these_diffs.append(diff)\n",
    "        # After getting all WTs for one observation, plot\n",
    "        ax[0].hist(\n",
    "            these_diffs,\n",
    "            bins=bins,\n",
    "            histtype=\"step\",\n",
    "            linewidth=1.5,\n",
    "            label=\"Observation \" + str(i + 1),\n",
    "        )\n",
    "\n",
    "    # Plot peaks from other papers\n",
    "    ymax = 34  # max_hist + 0.5\n",
    "    ax[0].vlines(\n",
    "        x=67,\n",
    "        ymin=0,\n",
    "        ymax=ymax,\n",
    "        colors=\"r\",\n",
    "        linestyles=\"solid\",\n",
    "        linewidth=1.1,\n",
    "        label=\"Zhang et al. (2018)\",\n",
    "    )  # estimated by Gourdji et al 2019\n",
    "    ax[0].vlines(\n",
    "        x=170,\n",
    "        ymin=0,\n",
    "        ymax=ymax,\n",
    "        colors=\"g\",\n",
    "        linestyles=\"dotted\",\n",
    "        linewidth=0.9,\n",
    "        label=\"Li et al. (2019)\",\n",
    "    )  # Li et al 2019\n",
    "    ax[0].vlines(\n",
    "        x=200,\n",
    "        ymin=0,\n",
    "        ymax=ymax,\n",
    "        colors=\"c\",\n",
    "        linestyles=\"dashed\",\n",
    "        linewidth=0.9,\n",
    "        label=\"Cruces et al. (2020)\",\n",
    "    )  # Cruces et al 2020\n",
    "    ax[0].vlines(\n",
    "        x=207,\n",
    "        ymin=0,\n",
    "        ymax=ymax,\n",
    "        colors=\"m\",\n",
    "        linestyles=\"dashdot\",\n",
    "        linewidth=1.1,\n",
    "        label=\"Gourdji et al. (2019)\",\n",
    "    )  # Gourdji et al 2020\n",
    "    ax[0].legend()\n",
    "\n",
    "    ax[1].errorbar(\n",
    "        burstnums,\n",
    "        all_meanpeaks,\n",
    "        yerr=all_stdvs,\n",
    "        capsize=4,\n",
    "        linestyle=\"\",\n",
    "        fmt=\"o\",\n",
    "        color=\"k\",\n",
    "    )\n",
    "    ax[1].plot(xaxis_rand, yfit_rand, \"k--\")\n",
    "    ax[1].scatter(40, 207, s=64, marker=\"*\", color=\"red\", label=\"Gourdji et al. peak\")\n",
    "    ax[1].legend()\n",
    "\n",
    "    ax[1].set_xlabel(\"Number of bursts\")\n",
    "    ax[1].set_ylabel(\"Wait time peak (s)\")\n",
    "    plt.tight_layout()\n",
    "    plt.savefig(\"wt_final.png\", bbox_inches=\"tight\", dpi=300)\n",
    "\n",
    "    plt.show()"
   ]
  },
  {
   "cell_type": "markdown",
   "metadata": {},
   "source": [
    "Below, a scatter plot is made between the relative wait time between bursts and their fluence ratio."
   ]
  },
  {
   "cell_type": "code",
   "execution_count": null,
   "metadata": {},
   "outputs": [],
   "source": [
    "mjd_flu = np.array(\n",
    "    datadict_flu[\"MJD\"]\n",
    ")  # only using bursts for which we have good fluence measurements\n",
    "fluences = np.array(datadict_flu[\"fluence\"])\n",
    "diffs = []\n",
    "fluence_ratios = []\n",
    "for i in range(0, len(mjd_flu) - 1):\n",
    "    diff = (mjd_flu[i + 1] - mjd_flu[i]) * 86400\n",
    "    if diff < max_diff and diff > 0.005:\n",
    "        diffs.append(diff)\n",
    "        fluence_ratio = fluences[i + 1] / fluences[i]\n",
    "        fluence_ratios.append(fluence_ratio)\n",
    "\n",
    "fig, ax = plt.subplots(figsize=(10, 8))\n",
    "ax.set_xlabel(\"Wait Time (s)\")\n",
    "ax.set_ylabel(\"Fluence ratio\")\n",
    "plt.xscale(\"log\")\n",
    "plt.yscale(\"log\")\n",
    "ax.scatter(diffs, fluence_ratios)"
   ]
  },
  {
   "cell_type": "markdown",
   "metadata": {},
   "source": [
    "Finally, we only look at the bursts for which we were able to get a good fluence fit, and see how the wait time peak changes when the lowest fluence bursts are removed. <br>\n",
    "This allows us to compare our result with the wait time peak vs. removal of random bursts."
   ]
  },
  {
   "cell_type": "code",
   "execution_count": 30,
   "metadata": {},
   "outputs": [
    {
     "name": "stdout",
     "output_type": "stream",
     "text": [
      "[54. 59. 64. 69. 74. 79. 84. 89. 94.]\n"
     ]
    },
    {
     "data": {
      "application/javascript": [
       "\n",
       "            setTimeout(function() {\n",
       "                var nbb_cell_id = 30;\n",
       "                var nbb_unformatted_code = \"burstnums_le = np.linspace(len(bursts_by_fluence) - 40, len(bursts_by_fluence), num=9)\\nprint(burstnums_le)\";\n",
       "                var nbb_formatted_code = \"burstnums_le = np.linspace(len(bursts_by_fluence) - 40, len(bursts_by_fluence), num=9)\\nprint(burstnums_le)\";\n",
       "                var nbb_cells = Jupyter.notebook.get_cells();\n",
       "                for (var i = 0; i < nbb_cells.length; ++i) {\n",
       "                    if (nbb_cells[i].input_prompt_number == nbb_cell_id) {\n",
       "                        if (nbb_cells[i].get_text() == nbb_unformatted_code) {\n",
       "                             nbb_cells[i].set_text(nbb_formatted_code);\n",
       "                        }\n",
       "                        break;\n",
       "                    }\n",
       "                }\n",
       "            }, 500);\n",
       "            "
      ],
      "text/plain": [
       "<IPython.core.display.Javascript object>"
      ]
     },
     "metadata": {},
     "output_type": "display_data"
    }
   ],
   "source": [
    "burstnums_le = np.linspace(len(bursts_by_fluence) - 40, len(bursts_by_fluence), num=9)\n",
    "print(burstnums_le)"
   ]
  },
  {
   "cell_type": "code",
   "execution_count": 31,
   "metadata": {},
   "outputs": [
    {
     "name": "stdout",
     "output_type": "stream",
     "text": [
      "54 bursts, peak at 253.41 +/- 0.78 s\n",
      "59 bursts, peak at 209.75 +/- 0.38 s\n",
      "64 bursts, peak at 196.93 +/- 0.22 s\n",
      "69 bursts, peak at 187.04 +/- 0.22 s\n",
      "74 bursts, peak at 155.19 +/- 0.23 s\n",
      "79 bursts, peak at 144.57 +/- 0.29 s\n",
      "84 bursts, peak at 122.85 +/- 0.27 s\n",
      "89 bursts, peak at 112.3 +/- 0.23 s\n",
      "94 bursts, peak at 103.81 +/- 0.14 s\n"
     ]
    },
    {
     "data": {
      "application/javascript": [
       "\n",
       "            setTimeout(function() {\n",
       "                var nbb_cell_id = 31;\n",
       "                var nbb_unformatted_code = \"# REMOVING LOWEST ENERGY BURSTS\\nall_LE_wt_peaks = []\\nall_LE_peak_errors = []\\nall_min_fluences = []\\n\\nfor num in burstnums_le:\\n    num = int(num)\\n    highest_n_bursts = bursts_by_fluence.tail(num)\\n    min_fluence = highest_n_bursts.iloc[0][1]\\n    all_min_fluences.append(min_fluence)\\n    burst_times = highest_n_bursts.loc[:, \\\"MJD\\\"]\\n    burst_times = np.sort(burst_times)\\n\\n    (\\n        bin_centers,\\n        ln_data,\\n        xaxis,\\n        yfit,\\n        diffs,\\n        bins,\\n        perr,\\n    ) = hist_fit(burst_times, num_bins, min_diff, max_diff)\\n    max_hist = np.amax(yfit)\\n    max_index = np.where(yfit == max_hist)\\n    wt_peak = np.round(xaxis[max_index], 2)\\n    all_LE_wt_peaks.append(wt_peak)\\n    peak_error = np.round(perr[1], 2)\\n    all_LE_peak_errors.append(peak_error)\\n\\n    print(\\n        str(len(burst_times))\\n        + \\\" bursts, peak at \\\"\\n        + str(wt_peak[0])\\n        + \\\" +/- \\\"\\n        + str(peak_error)\\n        + \\\" s\\\"\\n    )\";\n",
       "                var nbb_formatted_code = \"# REMOVING LOWEST ENERGY BURSTS\\nall_LE_wt_peaks = []\\nall_LE_peak_errors = []\\nall_min_fluences = []\\n\\nfor num in burstnums_le:\\n    num = int(num)\\n    highest_n_bursts = bursts_by_fluence.tail(num)\\n    min_fluence = highest_n_bursts.iloc[0][1]\\n    all_min_fluences.append(min_fluence)\\n    burst_times = highest_n_bursts.loc[:, \\\"MJD\\\"]\\n    burst_times = np.sort(burst_times)\\n\\n    (\\n        bin_centers,\\n        ln_data,\\n        xaxis,\\n        yfit,\\n        diffs,\\n        bins,\\n        perr,\\n    ) = hist_fit(burst_times, num_bins, min_diff, max_diff)\\n    max_hist = np.amax(yfit)\\n    max_index = np.where(yfit == max_hist)\\n    wt_peak = np.round(xaxis[max_index], 2)\\n    all_LE_wt_peaks.append(wt_peak)\\n    peak_error = np.round(perr[1], 2)\\n    all_LE_peak_errors.append(peak_error)\\n\\n    print(\\n        str(len(burst_times))\\n        + \\\" bursts, peak at \\\"\\n        + str(wt_peak[0])\\n        + \\\" +/- \\\"\\n        + str(peak_error)\\n        + \\\" s\\\"\\n    )\";\n",
       "                var nbb_cells = Jupyter.notebook.get_cells();\n",
       "                for (var i = 0; i < nbb_cells.length; ++i) {\n",
       "                    if (nbb_cells[i].input_prompt_number == nbb_cell_id) {\n",
       "                        if (nbb_cells[i].get_text() == nbb_unformatted_code) {\n",
       "                             nbb_cells[i].set_text(nbb_formatted_code);\n",
       "                        }\n",
       "                        break;\n",
       "                    }\n",
       "                }\n",
       "            }, 500);\n",
       "            "
      ],
      "text/plain": [
       "<IPython.core.display.Javascript object>"
      ]
     },
     "metadata": {},
     "output_type": "display_data"
    }
   ],
   "source": [
    "# REMOVING LOWEST ENERGY BURSTS\n",
    "all_LE_wt_peaks = []\n",
    "all_LE_peak_errors = []\n",
    "all_min_fluences = []\n",
    "\n",
    "for num in burstnums_le:\n",
    "    num = int(num)\n",
    "    highest_n_bursts = bursts_by_fluence.tail(num)\n",
    "    min_fluence = highest_n_bursts.iloc[0][1]\n",
    "    all_min_fluences.append(min_fluence)\n",
    "    burst_times = highest_n_bursts.loc[:, \"MJD\"]\n",
    "    burst_times = np.sort(burst_times)\n",
    "\n",
    "    (\n",
    "        bin_centers,\n",
    "        ln_data,\n",
    "        xaxis,\n",
    "        yfit,\n",
    "        diffs,\n",
    "        bins,\n",
    "        perr,\n",
    "    ) = hist_fit(burst_times, num_bins, min_diff, max_diff)\n",
    "    max_hist = np.amax(yfit)\n",
    "    max_index = np.where(yfit == max_hist)\n",
    "    wt_peak = np.round(xaxis[max_index], 2)\n",
    "    all_LE_wt_peaks.append(wt_peak)\n",
    "    peak_error = np.round(perr[1], 2)\n",
    "    all_LE_peak_errors.append(peak_error)\n",
    "\n",
    "    print(\n",
    "        str(len(burst_times))\n",
    "        + \" bursts, peak at \"\n",
    "        + str(wt_peak[0])\n",
    "        + \" +/- \"\n",
    "        + str(peak_error)\n",
    "        + \" s\"\n",
    "    )"
   ]
  },
  {
   "cell_type": "code",
   "execution_count": 32,
   "metadata": {},
   "outputs": [
    {
     "data": {
      "image/png": "[encoded data removed]",
      "text/plain": [
       "<Figure size 720x576 with 2 Axes>"
      ]
     },
     "metadata": {
      "needs_background": "light"
     },
     "output_type": "display_data"
    },
    {
     "data": {
      "application/javascript": [
       "\n",
       "            setTimeout(function() {\n",
       "                var nbb_cell_id = 32;\n",
       "                var nbb_unformatted_code = \"fig, ax1 = plt.subplots(figsize=(10, 8))\\nax1.plot(all_min_fluences, all_LE_wt_peaks, \\\"ro\\\", linestyle=\\\"\\\")\\nax1.set_xlim(0.04, 0.13)\\nax1.set_xlabel(\\\"Minimum fluence (Jy ms)\\\")\\nax1.set_ylabel(\\\"Wait time peak (s)\\\")\\n\\nax2 = ax1.twiny()\\nax2.set_xlabel(\\\"Number of bursts\\\")\\nax2.set_xlim(0.04, 0.13)\\nax2.set_xticks(all_min_fluences)\\n\\nxticks = [None] * len(burstnums_le)\\ni = 0\\nfor num in burstnums_le:\\n    num = str(int(num))\\n    xticks[i] = num\\n    i += 1\\n\\nax2.set_xticklabels(xticks)\\nfig.tight_layout()\\n\\nplt.show()\";\n",
       "                var nbb_formatted_code = \"fig, ax1 = plt.subplots(figsize=(10, 8))\\nax1.plot(all_min_fluences, all_LE_wt_peaks, \\\"ro\\\", linestyle=\\\"\\\")\\nax1.set_xlim(0.04, 0.13)\\nax1.set_xlabel(\\\"Minimum fluence (Jy ms)\\\")\\nax1.set_ylabel(\\\"Wait time peak (s)\\\")\\n\\nax2 = ax1.twiny()\\nax2.set_xlabel(\\\"Number of bursts\\\")\\nax2.set_xlim(0.04, 0.13)\\nax2.set_xticks(all_min_fluences)\\n\\nxticks = [None] * len(burstnums_le)\\ni = 0\\nfor num in burstnums_le:\\n    num = str(int(num))\\n    xticks[i] = num\\n    i += 1\\n\\nax2.set_xticklabels(xticks)\\nfig.tight_layout()\\n\\nplt.show()\";\n",
       "                var nbb_cells = Jupyter.notebook.get_cells();\n",
       "                for (var i = 0; i < nbb_cells.length; ++i) {\n",
       "                    if (nbb_cells[i].input_prompt_number == nbb_cell_id) {\n",
       "                        if (nbb_cells[i].get_text() == nbb_unformatted_code) {\n",
       "                             nbb_cells[i].set_text(nbb_formatted_code);\n",
       "                        }\n",
       "                        break;\n",
       "                    }\n",
       "                }\n",
       "            }, 500);\n",
       "            "
      ],
      "text/plain": [
       "<IPython.core.display.Javascript object>"
      ]
     },
     "metadata": {},
     "output_type": "display_data"
    }
   ],
   "source": [
    "fig, ax1 = plt.subplots(figsize=(10, 8))\n",
    "ax1.plot(all_min_fluences, all_LE_wt_peaks, \"ro\", linestyle=\"\")\n",
    "ax1.set_xlim(0.04, 0.13)\n",
    "ax1.set_xlabel(\"Minimum fluence (Jy ms)\")\n",
    "ax1.set_ylabel(\"Wait time peak (s)\")\n",
    "\n",
    "ax2 = ax1.twiny()\n",
    "ax2.set_xlabel(\"Number of bursts\")\n",
    "ax2.set_xlim(0.04, 0.13)\n",
    "ax2.set_xticks(all_min_fluences)\n",
    "\n",
    "xticks = [None] * len(burstnums_le)\n",
    "i = 0\n",
    "for num in burstnums_le:\n",
    "    num = str(int(num))\n",
    "    xticks[i] = num\n",
    "    i += 1\n",
    "\n",
    "ax2.set_xticklabels(xticks)\n",
    "fig.tight_layout()\n",
    "\n",
    "plt.show()"
   ]
  },
  {
   "cell_type": "code",
   "execution_count": null,
   "metadata": {},
   "outputs": [],
   "source": []
  }
 ],
 "metadata": {
  "kernelspec": {
   "display_name": "Python 3",
   "language": "python",
   "name": "python3"
  },
  "language_info": {
   "codemirror_mode": {
    "name": "ipython",
    "version": 3
   },
   "file_extension": ".py",
   "mimetype": "text/x-python",
   "name": "python",
   "nbconvert_exporter": "python",
   "pygments_lexer": "ipython3",
   "version": "3.8.6"
  }
 },
 "nbformat": 4,
 "nbformat_minor": 2
}
