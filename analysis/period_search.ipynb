{
 "cells": [
  {
   "cell_type": "code",
   "execution_count": 1,
   "metadata": {},
   "outputs": [
    {
     "data": {
      "application/javascript": [
       "\n",
       "            setTimeout(function() {\n",
       "                var nbb_cell_id = 1;\n",
       "                var nbb_unformatted_code = \"# Import functionalities\\nimport numpy as np\\nimport pandas as pd\\nimport matplotlib.pyplot as plt\\n\\n%load_ext nb_black\";\n",
       "                var nbb_formatted_code = \"# Import functionalities\\nimport numpy as np\\nimport pandas as pd\\nimport matplotlib.pyplot as plt\\n\\n%load_ext nb_black\";\n",
       "                var nbb_cells = Jupyter.notebook.get_cells();\n",
       "                for (var i = 0; i < nbb_cells.length; ++i) {\n",
       "                    if (nbb_cells[i].input_prompt_number == nbb_cell_id) {\n",
       "                        if (nbb_cells[i].get_text() == nbb_unformatted_code) {\n",
       "                             nbb_cells[i].set_text(nbb_formatted_code);\n",
       "                        }\n",
       "                        break;\n",
       "                    }\n",
       "                }\n",
       "            }, 500);\n",
       "            "
      ],
      "text/plain": [
       "<IPython.core.display.Javascript object>"
      ]
     },
     "metadata": {},
     "output_type": "display_data"
    }
   ],
   "source": [
    "# Import functionalities\n",
    "import numpy as np\n",
    "import pandas as pd\n",
    "import matplotlib.pyplot as plt\n",
    "\n",
    "%load_ext nb_black"
   ]
  },
  {
   "cell_type": "markdown",
   "metadata": {},
   "source": [
    "Below, the file containing the candidate properties is read in and the burst times are sorted into an array. This is specified for our file structure and burst fitting procedure, and will need to be changed. <br>\n",
    "We avoid counting the difference between separate observations as a real wait time by specifying a maximum time difference to consider as real. Here, we use a constant value of 7,000 seconds derived from the length of our observations. <br>\n",
    "The function assumes that the burst times are in MJD."
   ]
  },
  {
   "cell_type": "code",
   "execution_count": 2,
   "metadata": {},
   "outputs": [
    {
     "name": "stdout",
     "output_type": "stream",
     "text": [
      "130 good MCMC bursts\n"
     ]
    },
    {
     "data": {
      "application/javascript": [
       "\n",
       "            setTimeout(function() {\n",
       "                var nbb_cell_id = 2;\n",
       "                var nbb_unformatted_code = \"# Pull in pulse times\\ndata = pd.read_csv(\\\"/home/elewis/FRB121102/all_bursts_bary.csv\\\")\\ndata = data[(data[\\\"fit_method\\\"] == \\\"mcmc\\\")]  # excise curvefit bursts\\nprint(str(len(data)) + \\\" good MCMC bursts\\\")\\n\\n# Break into individual arrays\\nmjd = data[\\\"$\\\\mu_t$ (ms)\\\"]\\nmjd = mjd.sort_values()\\n\\nwidth = data[\\\"$\\\\sigma_t$ (ms)\\\"]\\nwidth = width.sort_values()\\n\\nmin_diff = 0.001  # Minimum difference between pulse times to consider a real wait time\\nmax_diff = 7000.0  # Maximum difference ^\\n\\ntols = np.arange(1.0, 51.0, 1.0)\";\n",
       "                var nbb_formatted_code = \"# Pull in pulse times\\ndata = pd.read_csv(\\\"/home/elewis/FRB121102/all_bursts_bary.csv\\\")\\ndata = data[(data[\\\"fit_method\\\"] == \\\"mcmc\\\")]  # excise curvefit bursts\\nprint(str(len(data)) + \\\" good MCMC bursts\\\")\\n\\n# Break into individual arrays\\nmjd = data[\\\"$\\\\mu_t$ (ms)\\\"]\\nmjd = mjd.sort_values()\\n\\nwidth = data[\\\"$\\\\sigma_t$ (ms)\\\"]\\nwidth = width.sort_values()\\n\\nmin_diff = 0.001  # Minimum difference between pulse times to consider a real wait time\\nmax_diff = 7000.0  # Maximum difference ^\\n\\ntols = np.arange(1.0, 51.0, 1.0)\";\n",
       "                var nbb_cells = Jupyter.notebook.get_cells();\n",
       "                for (var i = 0; i < nbb_cells.length; ++i) {\n",
       "                    if (nbb_cells[i].input_prompt_number == nbb_cell_id) {\n",
       "                        if (nbb_cells[i].get_text() == nbb_unformatted_code) {\n",
       "                             nbb_cells[i].set_text(nbb_formatted_code);\n",
       "                        }\n",
       "                        break;\n",
       "                    }\n",
       "                }\n",
       "            }, 500);\n",
       "            "
      ],
      "text/plain": [
       "<IPython.core.display.Javascript object>"
      ]
     },
     "metadata": {},
     "output_type": "display_data"
    }
   ],
   "source": [
    "# Pull in pulse times\n",
    "data = pd.read_csv(\"/home/elewis/FRB121102/all_bursts_bary.csv\")\n",
    "data = data[(data[\"fit_method\"] == \"mcmc\")]  # excise curvefit bursts\n",
    "print(str(len(data)) + \" good MCMC bursts\")\n",
    "\n",
    "# Break into individual arrays\n",
    "mjd = data[\"$\\mu_t$ (ms)\"]\n",
    "mjd = mjd.sort_values()\n",
    "\n",
    "width = data[\"$\\sigma_t$ (ms)\"]\n",
    "width = width.sort_values()\n",
    "\n",
    "min_diff = 0.001  # Minimum difference between pulse times to consider a real wait time\n",
    "max_diff = 7000.0  # Maximum difference ^\n",
    "\n",
    "tols = np.arange(1.0, 51.0, 1.0)"
   ]
  },
  {
   "cell_type": "code",
   "execution_count": 3,
   "metadata": {},
   "outputs": [
    {
     "name": "stdout",
     "output_type": "stream",
     "text": [
      "Searching 2880 candidate periods\n"
     ]
    },
    {
     "data": {
      "application/javascript": [
       "\n",
       "            setTimeout(function() {\n",
       "                var nbb_cell_id = 3;\n",
       "                var nbb_unformatted_code = \"# Tunable period ranges\\npers1 = np.arange(0.001, 0.1, 0.0001)\\npers2 = np.arange(0.1, 10.0, 0.01)\\npers3 = np.arange(10.0, 100.0, 0.1)\\nsearch_periods = np.hstack((pers1, pers2, pers3))\\nprint(\\\"Searching \\\" + str(len(search_periods)) + \\\" candidate periods\\\")\";\n",
       "                var nbb_formatted_code = \"# Tunable period ranges\\npers1 = np.arange(0.001, 0.1, 0.0001)\\npers2 = np.arange(0.1, 10.0, 0.01)\\npers3 = np.arange(10.0, 100.0, 0.1)\\nsearch_periods = np.hstack((pers1, pers2, pers3))\\nprint(\\\"Searching \\\" + str(len(search_periods)) + \\\" candidate periods\\\")\";\n",
       "                var nbb_cells = Jupyter.notebook.get_cells();\n",
       "                for (var i = 0; i < nbb_cells.length; ++i) {\n",
       "                    if (nbb_cells[i].input_prompt_number == nbb_cell_id) {\n",
       "                        if (nbb_cells[i].get_text() == nbb_unformatted_code) {\n",
       "                             nbb_cells[i].set_text(nbb_formatted_code);\n",
       "                        }\n",
       "                        break;\n",
       "                    }\n",
       "                }\n",
       "            }, 500);\n",
       "            "
      ],
      "text/plain": [
       "<IPython.core.display.Javascript object>"
      ]
     },
     "metadata": {},
     "output_type": "display_data"
    }
   ],
   "source": [
    "# Tunable period ranges\n",
    "pers1 = np.arange(0.001, 0.1, 0.0001)\n",
    "pers2 = np.arange(0.1, 10.0, 0.01)\n",
    "pers3 = np.arange(10.0, 100.0, 0.1)\n",
    "search_periods = np.hstack((pers1, pers2, pers3))\n",
    "print(\"Searching \" + str(len(search_periods)) + \" candidate periods\")"
   ]
  },
  {
   "cell_type": "markdown",
   "metadata": {},
   "source": [
    "The function below determines how many pulses each candidate period matches. It sorts the results by the most matches."
   ]
  },
  {
   "cell_type": "code",
   "execution_count": 4,
   "metadata": {},
   "outputs": [
    {
     "data": {
      "application/javascript": [
       "\n",
       "            setTimeout(function() {\n",
       "                var nbb_cell_id = 4;\n",
       "                var nbb_unformatted_code = \"def get_pcands(\\n    pulse_times, search_periods, min_diff, max_diff, tolerance, mjd_flag=None\\n):\\n    diffs = []\\n    pulse_times = np.sort(pulse_times)\\n\\n    # Calculate differences between pulse times\\n    for i in range(0, len(pulse_times) - 1):\\n        if mjd_flag == True:\\n            diff = (pulse_times[i + 1] - pulse_times[i]) * 86400.0\\n        else:\\n            diff = pulse_times[i + 1] - pulse_times[i]\\n\\n        if diff < max_diff and diff > min_diff:\\n            diffs.append(diff)\\n\\n    phase_tol = tolerance * 0.01  # tolerance is given in percentages\\n    npulse_matches = np.zeros(len(search_periods))\\n\\n    for i in range(0, len(search_periods)):  # for each search period\\n        diff_matches = []\\n        for j in range(0, len(diffs)):  # for each difference between pulse times\\n            phase = (diffs[j] / search_periods[i]) - int(diffs[j] / search_periods[i])\\n            if phase < (0.5 * phase_tol) or phase > (\\n                1.0 - 0.5 * phase_tol\\n            ):  # if difference is within tolerance of this search period\\n                diff_matches.append(\\n                    j\\n                )  # this difference j between two pulse times matches this period i\\n\\n        # after iterating through all diffs, see how many pulses this period matches\\n        npulse_matches[i] = len(diff_matches)+1\\n\\n    search_periods = pd.Series(search_periods)\\n    npulse_matches = pd.Series(npulse_matches)\\n    datadict = {\\\"period\\\": search_periods, \\\"N matches\\\": npulse_matches}\\n    dataframe = pd.concat(datadict, axis=1)\\n\\n    # find the periods that matched the most pulses\\n    best_by_matches = dataframe.sort_values(by=\\\"N matches\\\", ascending=False)\\n    most_matches = best_by_matches.iloc[\\n        0, 1\\n    ]  # max number of matches of any candidate period\\n    mm_periods = best_by_matches[\\n        (best_by_matches[\\\"N matches\\\"] == most_matches)\\n    ]  # periods with this N matches\\n    return most_matches, mm_periods, best_by_matches\";\n",
       "                var nbb_formatted_code = \"def get_pcands(\\n    pulse_times, search_periods, min_diff, max_diff, tolerance, mjd_flag=None\\n):\\n    diffs = []\\n    pulse_times = np.sort(pulse_times)\\n\\n    # Calculate differences between pulse times\\n    for i in range(0, len(pulse_times) - 1):\\n        if mjd_flag == True:\\n            diff = (pulse_times[i + 1] - pulse_times[i]) * 86400.0\\n        else:\\n            diff = pulse_times[i + 1] - pulse_times[i]\\n\\n        if diff < max_diff and diff > min_diff:\\n            diffs.append(diff)\\n\\n    phase_tol = tolerance * 0.01  # tolerance is given in percentages\\n    npulse_matches = np.zeros(len(search_periods))\\n\\n    for i in range(0, len(search_periods)):  # for each search period\\n        diff_matches = []\\n        for j in range(0, len(diffs)):  # for each difference between pulse times\\n            phase = (diffs[j] / search_periods[i]) - int(diffs[j] / search_periods[i])\\n            if phase < (0.5 * phase_tol) or phase > (\\n                1.0 - 0.5 * phase_tol\\n            ):  # if difference is within tolerance of this search period\\n                diff_matches.append(\\n                    j\\n                )  # this difference j between two pulse times matches this period i\\n\\n        # after iterating through all diffs, see how many pulses this period matches\\n        npulse_matches[i] = len(diff_matches) + 1\\n\\n    search_periods = pd.Series(search_periods)\\n    npulse_matches = pd.Series(npulse_matches)\\n    datadict = {\\\"period\\\": search_periods, \\\"N matches\\\": npulse_matches}\\n    dataframe = pd.concat(datadict, axis=1)\\n\\n    # find the periods that matched the most pulses\\n    best_by_matches = dataframe.sort_values(by=\\\"N matches\\\", ascending=False)\\n    most_matches = best_by_matches.iloc[\\n        0, 1\\n    ]  # max number of matches of any candidate period\\n    mm_periods = best_by_matches[\\n        (best_by_matches[\\\"N matches\\\"] == most_matches)\\n    ]  # periods with this N matches\\n    return most_matches, mm_periods, best_by_matches\";\n",
       "                var nbb_cells = Jupyter.notebook.get_cells();\n",
       "                for (var i = 0; i < nbb_cells.length; ++i) {\n",
       "                    if (nbb_cells[i].input_prompt_number == nbb_cell_id) {\n",
       "                        if (nbb_cells[i].get_text() == nbb_unformatted_code) {\n",
       "                             nbb_cells[i].set_text(nbb_formatted_code);\n",
       "                        }\n",
       "                        break;\n",
       "                    }\n",
       "                }\n",
       "            }, 500);\n",
       "            "
      ],
      "text/plain": [
       "<IPython.core.display.Javascript object>"
      ]
     },
     "metadata": {},
     "output_type": "display_data"
    }
   ],
   "source": [
    "def get_pcands(\n",
    "    pulse_times, search_periods, min_diff, max_diff, tolerance, mjd_flag=None\n",
    "):\n",
    "    diffs = []\n",
    "    pulse_times = np.sort(pulse_times)\n",
    "\n",
    "    # Calculate differences between pulse times\n",
    "    for i in range(0, len(pulse_times) - 1):\n",
    "        if mjd_flag == True:\n",
    "            diff = (pulse_times[i + 1] - pulse_times[i]) * 86400.0\n",
    "        else:\n",
    "            diff = pulse_times[i + 1] - pulse_times[i]\n",
    "\n",
    "        if diff < max_diff and diff > min_diff:\n",
    "            diffs.append(diff)\n",
    "\n",
    "    phase_tol = tolerance * 0.01  # tolerance is given in percentages\n",
    "    npulse_matches = np.zeros(len(search_periods))\n",
    "\n",
    "    for i in range(0, len(search_periods)):  # for each search period\n",
    "        diff_matches = []\n",
    "        for j in range(0, len(diffs)):  # for each difference between pulse times\n",
    "            phase = (diffs[j] / search_periods[i]) - int(diffs[j] / search_periods[i])\n",
    "            if phase < (0.5 * phase_tol) or phase > (\n",
    "                1.0 - 0.5 * phase_tol\n",
    "            ):  # if difference is within tolerance of this search period\n",
    "                diff_matches.append(\n",
    "                    j\n",
    "                )  # this difference j between two pulse times matches this period i\n",
    "\n",
    "        # after iterating through all diffs, see how many pulses this period matches\n",
    "        npulse_matches[i] = len(diff_matches) + 1\n",
    "\n",
    "    search_periods = pd.Series(search_periods)\n",
    "    npulse_matches = pd.Series(npulse_matches)\n",
    "    datadict = {\"period\": search_periods, \"N matches\": npulse_matches}\n",
    "    dataframe = pd.concat(datadict, axis=1)\n",
    "\n",
    "    # find the periods that matched the most pulses\n",
    "    best_by_matches = dataframe.sort_values(by=\"N matches\", ascending=False)\n",
    "    most_matches = best_by_matches.iloc[\n",
    "        0, 1\n",
    "    ]  # max number of matches of any candidate period\n",
    "    mm_periods = best_by_matches[\n",
    "        (best_by_matches[\"N matches\"] == most_matches)\n",
    "    ]  # periods with this N matches\n",
    "    return most_matches, mm_periods, best_by_matches"
   ]
  },
  {
   "cell_type": "markdown",
   "metadata": {},
   "source": [
    "First, we run this analysis using *all* of the differences, regardless of which observation they come from."
   ]
  },
  {
   "cell_type": "code",
   "execution_count": 5,
   "metadata": {},
   "outputs": [
    {
     "name": "stdout",
     "output_type": "stream",
     "text": [
      "At 50% tolerance, best period matches 86/130 pulses \n",
      "Top period candidates:\n",
      "[ 0.0712  0.0824  0.0969  0.0977  0.0996  0.14    0.59    1.44    2.32\n",
      "  2.71    3.77    5.11    5.39    5.4     6.75    6.76    7.07    7.08\n",
      "  8.48   11.3    16.8    27.1    33.6    33.7    33.8    33.9    41.3\n",
      " 41.4    49.3    49.4    49.5    49.6    49.7    49.8    49.9    50.\n",
      " 67.6    67.7    67.8   ]\n"
     ]
    },
    {
     "data": {
      "application/javascript": [
       "\n",
       "            setTimeout(function() {\n",
       "                var nbb_cell_id = 5;\n",
       "                var nbb_unformatted_code = \"# Searching all diffs\\nall_pulses = np.array(mjd)\\nall_top_periods = []\\n\\nfor tol in tols:\\n    most_matches, mm_periods, dataframe = get_pcands(\\n        all_pulses, search_periods, min_diff, max_diff, tol, True\\n    )\\n    if tol == 50.0:\\n        print(\\n            \\\"At 50% tolerance, best period matches \\\"\\n            + str(int(most_matches))\\n            + \\\"/\\\"\\n            + str(len(all_pulses))\\n            + \\\" pulses \\\"\\n        )\\n    top_periods = mm_periods[\\\"period\\\"].to_numpy()\\n    for tp in top_periods:\\n        all_top_periods.append(tp)\\n\\nall_top_periods = np.unique(all_top_periods)\\nprint(\\\"Top period candidates:\\\")\\nprint(all_top_periods)\";\n",
       "                var nbb_formatted_code = \"# Searching all diffs\\nall_pulses = np.array(mjd)\\nall_top_periods = []\\n\\nfor tol in tols:\\n    most_matches, mm_periods, dataframe = get_pcands(\\n        all_pulses, search_periods, min_diff, max_diff, tol, True\\n    )\\n    if tol == 50.0:\\n        print(\\n            \\\"At 50% tolerance, best period matches \\\"\\n            + str(int(most_matches))\\n            + \\\"/\\\"\\n            + str(len(all_pulses))\\n            + \\\" pulses \\\"\\n        )\\n    top_periods = mm_periods[\\\"period\\\"].to_numpy()\\n    for tp in top_periods:\\n        all_top_periods.append(tp)\\n\\nall_top_periods = np.unique(all_top_periods)\\nprint(\\\"Top period candidates:\\\")\\nprint(all_top_periods)\";\n",
       "                var nbb_cells = Jupyter.notebook.get_cells();\n",
       "                for (var i = 0; i < nbb_cells.length; ++i) {\n",
       "                    if (nbb_cells[i].input_prompt_number == nbb_cell_id) {\n",
       "                        if (nbb_cells[i].get_text() == nbb_unformatted_code) {\n",
       "                             nbb_cells[i].set_text(nbb_formatted_code);\n",
       "                        }\n",
       "                        break;\n",
       "                    }\n",
       "                }\n",
       "            }, 500);\n",
       "            "
      ],
      "text/plain": [
       "<IPython.core.display.Javascript object>"
      ]
     },
     "metadata": {},
     "output_type": "display_data"
    }
   ],
   "source": [
    "# Searching all diffs\n",
    "all_pulses = np.array(mjd)\n",
    "all_top_periods = []\n",
    "\n",
    "for tol in tols:\n",
    "    most_matches, mm_periods, dataframe = get_pcands(\n",
    "        all_pulses, search_periods, min_diff, max_diff, tol, True\n",
    "    )\n",
    "    if tol == 50.0:\n",
    "        print(\n",
    "            \"At 50% tolerance, best period matches \"\n",
    "            + str(int(most_matches))\n",
    "            + \"/\"\n",
    "            + str(len(all_pulses))\n",
    "            + \" pulses \"\n",
    "        )\n",
    "    top_periods = mm_periods[\"period\"].to_numpy()\n",
    "    for tp in top_periods:\n",
    "        all_top_periods.append(tp)\n",
    "\n",
    "all_top_periods = np.unique(all_top_periods)\n",
    "print(\"Top period candidates:\")\n",
    "print(all_top_periods)"
   ]
  },
  {
   "cell_type": "markdown",
   "metadata": {},
   "source": [
    "Now, we pick a random selection of half of the entire sample of bursts and fit periods at tolerance 50%. We do this 'ntrials' times and compare the resulting best matched periods to those found from the search of the whole sample."
   ]
  },
  {
   "cell_type": "code",
   "execution_count": 6,
   "metadata": {},
   "outputs": [
    {
     "name": "stdout",
     "output_type": "stream",
     "text": [
      "Random candidate 0.0816 s is close to candidate 0.0824 s\n",
      "Random candidate 0.0824 s is close to candidate 0.0824 s\n",
      "Random candidate 0.0976 s is close to candidate 0.0969 s\n",
      "Random candidate 0.0976 s is close to candidate 0.0977 s\n",
      "Random candidate 0.0977 s is close to candidate 0.0969 s\n",
      "Random candidate 0.0977 s is close to candidate 0.0977 s\n",
      "Random candidate 0.0986 s is close to candidate 0.0977 s\n",
      "Random candidate 0.099 s is close to candidate 0.0996 s\n",
      "Random candidate 0.0992 s is close to candidate 0.0996 s\n",
      "Random candidate 0.0996 s is close to candidate 0.0996 s\n",
      "Random candidate 1.44 s is close to candidate 1.44 s\n",
      "Random candidate 2.34 s is close to candidate 2.32 s\n",
      "Random candidate 3.75 s is close to candidate 3.77 s\n",
      "Random candidate 5.09 s is close to candidate 5.11 s\n",
      "Random candidate 5.14 s is close to candidate 5.11 s\n",
      "Random candidate 5.16 s is close to candidate 5.11 s\n",
      "Random candidate 5.4 s is close to candidate 5.39 s\n",
      "Random candidate 5.4 s is close to candidate 5.4 s\n",
      "Random candidate 5.41 s is close to candidate 5.39 s\n",
      "Random candidate 5.41 s is close to candidate 5.4 s\n",
      "Random candidate 6.7 s is close to candidate 6.75 s\n",
      "Random candidate 6.7 s is close to candidate 6.76 s\n",
      "Random candidate 6.71 s is close to candidate 6.75 s\n",
      "Random candidate 6.71 s is close to candidate 6.76 s\n",
      "Random candidate 6.72 s is close to candidate 6.75 s\n",
      "Random candidate 6.72 s is close to candidate 6.76 s\n",
      "Random candidate 6.73 s is close to candidate 6.75 s\n",
      "Random candidate 6.73 s is close to candidate 6.76 s\n",
      "Random candidate 6.74 s is close to candidate 6.75 s\n",
      "Random candidate 6.74 s is close to candidate 6.76 s\n",
      "Random candidate 6.75 s is close to candidate 6.75 s\n",
      "Random candidate 6.75 s is close to candidate 6.76 s\n",
      "Random candidate 8.42 s is close to candidate 8.48 s\n",
      "Random candidate 8.43 s is close to candidate 8.48 s\n",
      "Random candidate 8.44 s is close to candidate 8.48 s\n",
      "Random candidate 27.2 s is close to candidate 27.1 s\n"
     ]
    },
    {
     "data": {
      "application/javascript": [
       "\n",
       "            setTimeout(function() {\n",
       "                var nbb_cell_id = 6;\n",
       "                var nbb_unformatted_code = \"ntrials = 100\\nall_per_matches = []\\nall_rand_periods = []\\n\\n# Get period candidates with random trials\\nfor i in range(0, ntrials):\\n    rng = np.random.default_rng(i)\\n    rand_bursts = rng.choice(\\n        all_pulses, int(len(all_pulses) / 2)\\n    )  # randomly pick half of bursts from entire sample\\n    most_matches, mm_periods, dataframe = get_pcands(\\n        rand_bursts, search_periods, min_diff, max_diff, 50.0, True\\n    )\\n    top_periods = mm_periods[\\n        \\\"period\\\"\\n    ].to_numpy()  # periods with max number of matches at this tolerance\\n    for tp in top_periods:\\n        all_rand_periods.append(tp)\\n\\n\\nall_rand_periods = np.unique(\\n    all_rand_periods\\n)  # omit duplicates from between tolerances\\n\\n\\n# Compare to best periods from full sample\\nfor period in all_rand_periods:\\n    oneperc = period * 0.01\\n    for cand in all_top_periods:\\n        diff = abs(period - cand)\\n        if (\\n            diff < oneperc\\n        ):  # if difference between period candidates is within 1% of period\\n            print(\\n                \\\"Random candidate \\\"\\n                + str(np.round(period, 4))\\n                + \\\" s is close to candidate \\\"\\n                + str(np.round(cand, 4))\\n                + \\\" s\\\"\\n            )\";\n",
       "                var nbb_formatted_code = \"ntrials = 100\\nall_per_matches = []\\nall_rand_periods = []\\n\\n# Get period candidates with random trials\\nfor i in range(0, ntrials):\\n    rng = np.random.default_rng(i)\\n    rand_bursts = rng.choice(\\n        all_pulses, int(len(all_pulses) / 2)\\n    )  # randomly pick half of bursts from entire sample\\n    most_matches, mm_periods, dataframe = get_pcands(\\n        rand_bursts, search_periods, min_diff, max_diff, 50.0, True\\n    )\\n    top_periods = mm_periods[\\n        \\\"period\\\"\\n    ].to_numpy()  # periods with max number of matches at this tolerance\\n    for tp in top_periods:\\n        all_rand_periods.append(tp)\\n\\n\\nall_rand_periods = np.unique(\\n    all_rand_periods\\n)  # omit duplicates from between tolerances\\n\\n\\n# Compare to best periods from full sample\\nfor period in all_rand_periods:\\n    oneperc = period * 0.01\\n    for cand in all_top_periods:\\n        diff = abs(period - cand)\\n        if (\\n            diff < oneperc\\n        ):  # if difference between period candidates is within 1% of period\\n            print(\\n                \\\"Random candidate \\\"\\n                + str(np.round(period, 4))\\n                + \\\" s is close to candidate \\\"\\n                + str(np.round(cand, 4))\\n                + \\\" s\\\"\\n            )\";\n",
       "                var nbb_cells = Jupyter.notebook.get_cells();\n",
       "                for (var i = 0; i < nbb_cells.length; ++i) {\n",
       "                    if (nbb_cells[i].input_prompt_number == nbb_cell_id) {\n",
       "                        if (nbb_cells[i].get_text() == nbb_unformatted_code) {\n",
       "                             nbb_cells[i].set_text(nbb_formatted_code);\n",
       "                        }\n",
       "                        break;\n",
       "                    }\n",
       "                }\n",
       "            }, 500);\n",
       "            "
      ],
      "text/plain": [
       "<IPython.core.display.Javascript object>"
      ]
     },
     "metadata": {},
     "output_type": "display_data"
    }
   ],
   "source": [
    "ntrials = 100\n",
    "all_per_matches = []\n",
    "all_rand_periods = []\n",
    "\n",
    "# Get period candidates with random trials\n",
    "for i in range(0, ntrials):\n",
    "    rng = np.random.default_rng(i)\n",
    "    rand_bursts = rng.choice(\n",
    "        all_pulses, int(len(all_pulses) / 2)\n",
    "    )  # randomly pick half of bursts from entire sample\n",
    "    most_matches, mm_periods, dataframe = get_pcands(\n",
    "        rand_bursts, search_periods, min_diff, max_diff, 50.0, True\n",
    "    )\n",
    "    top_periods = mm_periods[\n",
    "        \"period\"\n",
    "    ].to_numpy()  # periods with max number of matches at this tolerance\n",
    "    for tp in top_periods:\n",
    "        all_rand_periods.append(tp)\n",
    "\n",
    "\n",
    "all_rand_periods = np.unique(\n",
    "    all_rand_periods\n",
    ")  # omit duplicates from between tolerances\n",
    "\n",
    "\n",
    "# Compare to best periods from full sample\n",
    "for period in all_rand_periods:\n",
    "    oneperc = period * 0.01\n",
    "    for cand in all_top_periods:\n",
    "        diff = abs(period - cand)\n",
    "        if (\n",
    "            diff < oneperc\n",
    "        ):  # if difference between period candidates is within 1% of period\n",
    "            print(\n",
    "                \"Random candidate \"\n",
    "                + str(np.round(period, 4))\n",
    "                + \" s is close to candidate \"\n",
    "                + str(np.round(cand, 4))\n",
    "                + \" s\"\n",
    "            )"
   ]
  },
  {
   "cell_type": "markdown",
   "metadata": {},
   "source": [
    "Next, we compare the FFA candidates from each observation to the top period candidates for the full search."
   ]
  },
  {
   "cell_type": "code",
   "execution_count": 7,
   "metadata": {},
   "outputs": [
    {
     "name": "stdout",
     "output_type": "stream",
     "text": [
      "57645 FFA candidate 5.3777 s is close to candidate 5.39 s\n",
      "57645 FFA candidate 5.3777 s is close to candidate 5.4 s\n",
      "57645 FFA candidate 2.6889 s is close to candidate 2.71 s\n",
      "57645 FFA candidate 2.3402 s is close to candidate 2.32 s\n",
      "57645 FFA candidate 1.4401 s is close to candidate 1.44 s\n",
      "57645 FFA candidate 33.277 s is close to candidate 33.6 s\n",
      "57645 FFA candidate 33.8222 s is close to candidate 33.6 s\n",
      "57645 FFA candidate 33.8222 s is close to candidate 33.7 s\n",
      "57645 FFA candidate 33.8222 s is close to candidate 33.8 s\n",
      "57645 FFA candidate 33.8222 s is close to candidate 33.9 s\n"
     ]
    },
    {
     "data": {
      "application/javascript": [
       "\n",
       "            setTimeout(function() {\n",
       "                var nbb_cell_id = 7;\n",
       "                var nbb_unformatted_code = \"with open(\\\"period/ffa/57644_ffa_cands.txt\\\", \\\"r\\\") as f1:\\n    for line in f1:\\n        split_line = line.split(\\\",\\\")\\n        period = float(split_line[0])\\n        oneperc = period * 0.01  # 1% of FFA cand period\\n        for cand in all_top_periods:\\n            diff = abs(period - cand)\\n            if diff < oneperc:\\n                # if difference between period candidates is within 1% of period\\n                print(\\n                    \\\"57644 FFA candidate \\\"\\n                    + str(np.round(period, 4))\\n                    + \\\" s is close to candidate \\\"\\n                    + str(np.round(cand, 4))\\n                    + \\\" s\\\"\\n                )\\n\\nwith open(\\\"period/ffa/57645_ffa_cands.txt\\\", \\\"r\\\") as f2:\\n    for line in f2:\\n        split_line = line.split(\\\",\\\")\\n        period = float(split_line[0])\\n        oneperc = period * 0.01  # 1% of FFA cand period\\n        for cand in all_top_periods:\\n            diff = abs(period - cand)\\n            if diff < oneperc:\\n                # if difference between period candidates is within 1% of period\\n                print(\\n                    \\\"57645 FFA candidate \\\"\\n                    + str(np.round(period, 4))\\n                    + \\\" s is close to candidate \\\"\\n                    + str(np.round(cand, 4))\\n                    + \\\" s\\\"\\n                )\";\n",
       "                var nbb_formatted_code = \"with open(\\\"period/ffa/57644_ffa_cands.txt\\\", \\\"r\\\") as f1:\\n    for line in f1:\\n        split_line = line.split(\\\",\\\")\\n        period = float(split_line[0])\\n        oneperc = period * 0.01  # 1% of FFA cand period\\n        for cand in all_top_periods:\\n            diff = abs(period - cand)\\n            if diff < oneperc:\\n                # if difference between period candidates is within 1% of period\\n                print(\\n                    \\\"57644 FFA candidate \\\"\\n                    + str(np.round(period, 4))\\n                    + \\\" s is close to candidate \\\"\\n                    + str(np.round(cand, 4))\\n                    + \\\" s\\\"\\n                )\\n\\nwith open(\\\"period/ffa/57645_ffa_cands.txt\\\", \\\"r\\\") as f2:\\n    for line in f2:\\n        split_line = line.split(\\\",\\\")\\n        period = float(split_line[0])\\n        oneperc = period * 0.01  # 1% of FFA cand period\\n        for cand in all_top_periods:\\n            diff = abs(period - cand)\\n            if diff < oneperc:\\n                # if difference between period candidates is within 1% of period\\n                print(\\n                    \\\"57645 FFA candidate \\\"\\n                    + str(np.round(period, 4))\\n                    + \\\" s is close to candidate \\\"\\n                    + str(np.round(cand, 4))\\n                    + \\\" s\\\"\\n                )\";\n",
       "                var nbb_cells = Jupyter.notebook.get_cells();\n",
       "                for (var i = 0; i < nbb_cells.length; ++i) {\n",
       "                    if (nbb_cells[i].input_prompt_number == nbb_cell_id) {\n",
       "                        if (nbb_cells[i].get_text() == nbb_unformatted_code) {\n",
       "                             nbb_cells[i].set_text(nbb_formatted_code);\n",
       "                        }\n",
       "                        break;\n",
       "                    }\n",
       "                }\n",
       "            }, 500);\n",
       "            "
      ],
      "text/plain": [
       "<IPython.core.display.Javascript object>"
      ]
     },
     "metadata": {},
     "output_type": "display_data"
    }
   ],
   "source": [
    "with open(\"period/ffa/57644_ffa_cands.txt\", \"r\") as f1:\n",
    "    for line in f1:\n",
    "        split_line = line.split(\",\")\n",
    "        period = float(split_line[0])\n",
    "        oneperc = period * 0.01  # 1% of FFA cand period\n",
    "        for cand in all_top_periods:\n",
    "            diff = abs(period - cand)\n",
    "            if diff < oneperc:\n",
    "                # if difference between period candidates is within 1% of period\n",
    "                print(\n",
    "                    \"57644 FFA candidate \"\n",
    "                    + str(np.round(period, 4))\n",
    "                    + \" s is close to candidate \"\n",
    "                    + str(np.round(cand, 4))\n",
    "                    + \" s\"\n",
    "                )\n",
    "\n",
    "with open(\"period/ffa/57645_ffa_cands.txt\", \"r\") as f2:\n",
    "    for line in f2:\n",
    "        split_line = line.split(\",\")\n",
    "        period = float(split_line[0])\n",
    "        oneperc = period * 0.01  # 1% of FFA cand period\n",
    "        for cand in all_top_periods:\n",
    "            diff = abs(period - cand)\n",
    "            if diff < oneperc:\n",
    "                # if difference between period candidates is within 1% of period\n",
    "                print(\n",
    "                    \"57645 FFA candidate \"\n",
    "                    + str(np.round(period, 4))\n",
    "                    + \" s is close to candidate \"\n",
    "                    + str(np.round(cand, 4))\n",
    "                    + \" s\"\n",
    "                )"
   ]
  },
  {
   "cell_type": "markdown",
   "metadata": {},
   "source": [
    "To consider each observation separately, we split the burst times into separate arrays for each observation. This won't work right if there's a single observation which spans multiple MJDs."
   ]
  },
  {
   "cell_type": "code",
   "execution_count": 8,
   "metadata": {},
   "outputs": [
    {
     "data": {
      "application/javascript": [
       "\n",
       "            setTimeout(function() {\n",
       "                var nbb_cell_id = 8;\n",
       "                var nbb_unformatted_code = \"# Get the number of individual MJDs\\ndays = []\\nfor pt in mjd:\\n    time = str(pt)\\n    split_time = time.split(\\\".\\\")\\n    day = split_time[0]\\n    days.append(day)\\n\\ndays = np.unique(days)\\nn_mjds = len(days)\\n\\n# Create array with as many elements as there are MJDs\\nsep_pulse_times = []\\n# Each element will be its own array with pulse times from only one MJD\\ni = 0\\nfor day in days:\\n    day_pulse_times = []  # pulse times just for this day\\n\\n    for pt in mjd:\\n        time = str(pt)\\n        split_time = time.split(\\\".\\\")\\n        pt_day = split_time[0]\\n        if pt_day == day:\\n            day_pulse_times.append(pt)\\n\\n    sep_pulse_times.append(day_pulse_times)\\n    i += 1\";\n",
       "                var nbb_formatted_code = \"# Get the number of individual MJDs\\ndays = []\\nfor pt in mjd:\\n    time = str(pt)\\n    split_time = time.split(\\\".\\\")\\n    day = split_time[0]\\n    days.append(day)\\n\\ndays = np.unique(days)\\nn_mjds = len(days)\\n\\n# Create array with as many elements as there are MJDs\\nsep_pulse_times = []\\n# Each element will be its own array with pulse times from only one MJD\\ni = 0\\nfor day in days:\\n    day_pulse_times = []  # pulse times just for this day\\n\\n    for pt in mjd:\\n        time = str(pt)\\n        split_time = time.split(\\\".\\\")\\n        pt_day = split_time[0]\\n        if pt_day == day:\\n            day_pulse_times.append(pt)\\n\\n    sep_pulse_times.append(day_pulse_times)\\n    i += 1\";\n",
       "                var nbb_cells = Jupyter.notebook.get_cells();\n",
       "                for (var i = 0; i < nbb_cells.length; ++i) {\n",
       "                    if (nbb_cells[i].input_prompt_number == nbb_cell_id) {\n",
       "                        if (nbb_cells[i].get_text() == nbb_unformatted_code) {\n",
       "                             nbb_cells[i].set_text(nbb_formatted_code);\n",
       "                        }\n",
       "                        break;\n",
       "                    }\n",
       "                }\n",
       "            }, 500);\n",
       "            "
      ],
      "text/plain": [
       "<IPython.core.display.Javascript object>"
      ]
     },
     "metadata": {},
     "output_type": "display_data"
    }
   ],
   "source": [
    "# Get the number of individual MJDs\n",
    "days = []\n",
    "for pt in mjd:\n",
    "    time = str(pt)\n",
    "    split_time = time.split(\".\")\n",
    "    day = split_time[0]\n",
    "    days.append(day)\n",
    "\n",
    "days = np.unique(days)\n",
    "n_mjds = len(days)\n",
    "\n",
    "# Create array with as many elements as there are MJDs\n",
    "sep_pulse_times = []\n",
    "# Each element will be its own array with pulse times from only one MJD\n",
    "i = 0\n",
    "for day in days:\n",
    "    day_pulse_times = []  # pulse times just for this day\n",
    "\n",
    "    for pt in mjd:\n",
    "        time = str(pt)\n",
    "        split_time = time.split(\".\")\n",
    "        pt_day = split_time[0]\n",
    "        if pt_day == day:\n",
    "            day_pulse_times.append(pt)\n",
    "\n",
    "    sep_pulse_times.append(day_pulse_times)\n",
    "    i += 1"
   ]
  },
  {
   "cell_type": "markdown",
   "metadata": {},
   "source": [
    "The \"sep_pulse_times\" variable is an array where each element is an array containing the pulse times from one single MJD. <br>\n",
    "Below, we search each observation individually and separate out the best candidate periods for each."
   ]
  },
  {
   "cell_type": "code",
   "execution_count": 9,
   "metadata": {},
   "outputs": [
    {
     "name": "stdout",
     "output_type": "stream",
     "text": [
      "Observation 0: MJD 57644\n",
      "At 50% tolerance, best period matches 42/54 pulses \n",
      "Observation 1: MJD 57645\n",
      "At 50% tolerance, best period matches 55/76 pulses \n"
     ]
    },
    {
     "data": {
      "application/javascript": [
       "\n",
       "            setTimeout(function() {\n",
       "                var nbb_cell_id = 9;\n",
       "                var nbb_unformatted_code = \"best_obs_periods = []\\n# Each element in this array is an array with the best period candidates from one observation\\n\\nfor i in range(0, len(sep_pulse_times)):\\n    pt_split = str(sep_pulse_times[i][0]).split(\\\".\\\")\\n    mjd = pt_split[0]\\n    print(\\\"Observation \\\" + str(i) + \\\": MJD \\\" + str(mjd))\\n\\n    these_pulse_times = sep_pulse_times[i]\\n    all_obs_periods = []\\n    # Array that will hold all best period candidates\\n\\n    # Get top period candidates for each observation\\n    for tol in tols:\\n        most_matches, mm_periods, dataframe = get_pcands(\\n            these_pulse_times, search_periods, min_diff, max_diff, tol, True\\n        )\\n        top_periods = mm_periods[\\n            \\\"period\\\"\\n        ].to_numpy()  # periods with max number of matches at this tolerance\\n        for tp in top_periods:\\n            all_obs_periods.append(tp)\\n        if tol == 50.0:\\n            print(\\n                \\\"At 50% tolerance, best period matches \\\"\\n                + str(int(most_matches))\\n                + \\\"/\\\"\\n                + str(len(these_pulse_times))\\n                + \\\" pulses \\\"\\n            )\\n    # After iterating through all tolerances and getting the best periods at each tolerance:\\n    all_obs_periods = np.unique(all_obs_periods)\\n    best_obs_periods.append(all_obs_periods)\";\n",
       "                var nbb_formatted_code = \"best_obs_periods = []\\n# Each element in this array is an array with the best period candidates from one observation\\n\\nfor i in range(0, len(sep_pulse_times)):\\n    pt_split = str(sep_pulse_times[i][0]).split(\\\".\\\")\\n    mjd = pt_split[0]\\n    print(\\\"Observation \\\" + str(i) + \\\": MJD \\\" + str(mjd))\\n\\n    these_pulse_times = sep_pulse_times[i]\\n    all_obs_periods = []\\n    # Array that will hold all best period candidates\\n\\n    # Get top period candidates for each observation\\n    for tol in tols:\\n        most_matches, mm_periods, dataframe = get_pcands(\\n            these_pulse_times, search_periods, min_diff, max_diff, tol, True\\n        )\\n        top_periods = mm_periods[\\n            \\\"period\\\"\\n        ].to_numpy()  # periods with max number of matches at this tolerance\\n        for tp in top_periods:\\n            all_obs_periods.append(tp)\\n        if tol == 50.0:\\n            print(\\n                \\\"At 50% tolerance, best period matches \\\"\\n                + str(int(most_matches))\\n                + \\\"/\\\"\\n                + str(len(these_pulse_times))\\n                + \\\" pulses \\\"\\n            )\\n    # After iterating through all tolerances and getting the best periods at each tolerance:\\n    all_obs_periods = np.unique(all_obs_periods)\\n    best_obs_periods.append(all_obs_periods)\";\n",
       "                var nbb_cells = Jupyter.notebook.get_cells();\n",
       "                for (var i = 0; i < nbb_cells.length; ++i) {\n",
       "                    if (nbb_cells[i].input_prompt_number == nbb_cell_id) {\n",
       "                        if (nbb_cells[i].get_text() == nbb_unformatted_code) {\n",
       "                             nbb_cells[i].set_text(nbb_formatted_code);\n",
       "                        }\n",
       "                        break;\n",
       "                    }\n",
       "                }\n",
       "            }, 500);\n",
       "            "
      ],
      "text/plain": [
       "<IPython.core.display.Javascript object>"
      ]
     },
     "metadata": {},
     "output_type": "display_data"
    }
   ],
   "source": [
    "best_obs_periods = []\n",
    "# Each element in this array is an array with the best period candidates from one observation\n",
    "\n",
    "for i in range(0, len(sep_pulse_times)):\n",
    "    pt_split = str(sep_pulse_times[i][0]).split(\".\")\n",
    "    mjd = pt_split[0]\n",
    "    print(\"Observation \" + str(i) + \": MJD \" + str(mjd))\n",
    "\n",
    "    these_pulse_times = sep_pulse_times[i]\n",
    "    all_obs_periods = []\n",
    "    # Array that will hold all best period candidates\n",
    "\n",
    "    # Get top period candidates for each observation\n",
    "    for tol in tols:\n",
    "        most_matches, mm_periods, dataframe = get_pcands(\n",
    "            these_pulse_times, search_periods, min_diff, max_diff, tol, True\n",
    "        )\n",
    "        top_periods = mm_periods[\n",
    "            \"period\"\n",
    "        ].to_numpy()  # periods with max number of matches at this tolerance\n",
    "        for tp in top_periods:\n",
    "            all_obs_periods.append(tp)\n",
    "        if tol == 50.0:\n",
    "            print(\n",
    "                \"At 50% tolerance, best period matches \"\n",
    "                + str(int(most_matches))\n",
    "                + \"/\"\n",
    "                + str(len(these_pulse_times))\n",
    "                + \" pulses \"\n",
    "            )\n",
    "    # After iterating through all tolerances and getting the best periods at each tolerance:\n",
    "    all_obs_periods = np.unique(all_obs_periods)\n",
    "    best_obs_periods.append(all_obs_periods)"
   ]
  },
  {
   "cell_type": "markdown",
   "metadata": {},
   "source": [
    "Finally, we search for candidates that match between the two observations."
   ]
  },
  {
   "cell_type": "code",
   "execution_count": 10,
   "metadata": {},
   "outputs": [
    {
     "data": {
      "application/javascript": [
       "\n",
       "            setTimeout(function() {\n",
       "                var nbb_cell_id = 10;\n",
       "                var nbb_unformatted_code = \"all_best_periods = []\\n\\nfor i in range(0, len(best_obs_periods)):\\n    for j in range(0, len(best_obs_periods)):\\n        if (\\n            j - i < 0\\n        ):  # This searches each pair once and does not check a pair with itself\\n            set_a = best_obs_periods[i]\\n            set_b = best_obs_periods[j]\\n\\n            for period in set_a:\\n                oneperc = 0.01 * period\\n                for cand in set_b:\\n                    diff = abs(period - cand)\\n                    if diff < oneperc:\\n                        # if difference between period candidates is within 1% of period\\n                        print(\\n                            \\\"Match between \\\"\\n                            + str(period)\\n                            + \\\" s and \\\"\\n                            + str(cand)\\n                            + \\\" s\\\"\\n                        )\";\n",
       "                var nbb_formatted_code = \"all_best_periods = []\\n\\nfor i in range(0, len(best_obs_periods)):\\n    for j in range(0, len(best_obs_periods)):\\n        if (\\n            j - i < 0\\n        ):  # This searches each pair once and does not check a pair with itself\\n            set_a = best_obs_periods[i]\\n            set_b = best_obs_periods[j]\\n\\n            for period in set_a:\\n                oneperc = 0.01 * period\\n                for cand in set_b:\\n                    diff = abs(period - cand)\\n                    if diff < oneperc:\\n                        # if difference between period candidates is within 1% of period\\n                        print(\\n                            \\\"Match between \\\"\\n                            + str(period)\\n                            + \\\" s and \\\"\\n                            + str(cand)\\n                            + \\\" s\\\"\\n                        )\";\n",
       "                var nbb_cells = Jupyter.notebook.get_cells();\n",
       "                for (var i = 0; i < nbb_cells.length; ++i) {\n",
       "                    if (nbb_cells[i].input_prompt_number == nbb_cell_id) {\n",
       "                        if (nbb_cells[i].get_text() == nbb_unformatted_code) {\n",
       "                             nbb_cells[i].set_text(nbb_formatted_code);\n",
       "                        }\n",
       "                        break;\n",
       "                    }\n",
       "                }\n",
       "            }, 500);\n",
       "            "
      ],
      "text/plain": [
       "<IPython.core.display.Javascript object>"
      ]
     },
     "metadata": {},
     "output_type": "display_data"
    }
   ],
   "source": [
    "all_best_periods = []\n",
    "\n",
    "for i in range(0, len(best_obs_periods)):\n",
    "    for j in range(0, len(best_obs_periods)):\n",
    "        if (\n",
    "            j - i < 0\n",
    "        ):  # This searches each pair once and does not check a pair with itself\n",
    "            set_a = best_obs_periods[i]\n",
    "            set_b = best_obs_periods[j]\n",
    "\n",
    "            for period in set_a:\n",
    "                oneperc = 0.01 * period\n",
    "                for cand in set_b:\n",
    "                    diff = abs(period - cand)\n",
    "                    if diff < oneperc:\n",
    "                        # if difference between period candidates is within 1% of period\n",
    "                        print(\n",
    "                            \"Match between \"\n",
    "                            + str(period)\n",
    "                            + \" s and \"\n",
    "                            + str(cand)\n",
    "                            + \" s\"\n",
    "                        )"
   ]
  },
  {
   "cell_type": "code",
   "execution_count": null,
   "metadata": {},
   "outputs": [],
   "source": []
  }
 ],
 "metadata": {
  "kernelspec": {
   "display_name": "Python 3",
   "language": "python",
   "name": "python3"
  },
  "language_info": {
   "codemirror_mode": {
    "name": "ipython",
    "version": 3
   },
   "file_extension": ".py",
   "mimetype": "text/x-python",
   "name": "python",
   "nbconvert_exporter": "python",
   "pygments_lexer": "ipython3",
   "version": "3.8.6"
  }
 },
 "nbformat": 4,
 "nbformat_minor": 4
}
