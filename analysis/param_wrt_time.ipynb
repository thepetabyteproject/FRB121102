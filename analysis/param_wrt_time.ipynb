{
 "cells": [
  {
   "cell_type": "markdown",
   "metadata": {},
   "source": [
    "Notebook to make parameter vs time plot"
   ]
  },
  {
   "cell_type": "code",
   "execution_count": 1,
   "metadata": {},
   "outputs": [
    {
     "data": {
      "application/javascript": [
       "\n",
       "            setTimeout(function() {\n",
       "                var nbb_cell_id = 1;\n",
       "                var nbb_unformatted_code = \"%load_ext nb_black\";\n",
       "                var nbb_formatted_code = \"%load_ext nb_black\";\n",
       "                var nbb_cells = Jupyter.notebook.get_cells();\n",
       "                for (var i = 0; i < nbb_cells.length; ++i) {\n",
       "                    if (nbb_cells[i].input_prompt_number == nbb_cell_id) {\n",
       "                        if (nbb_cells[i].get_text() == nbb_unformatted_code) {\n",
       "                             nbb_cells[i].set_text(nbb_formatted_code);\n",
       "                        }\n",
       "                        break;\n",
       "                    }\n",
       "                }\n",
       "            }, 500);\n",
       "            "
      ],
      "text/plain": [
       "<IPython.core.display.Javascript object>"
      ]
     },
     "metadata": {},
     "output_type": "display_data"
    }
   ],
   "source": [
    "%load_ext nb_black"
   ]
  },
  {
   "cell_type": "code",
   "execution_count": 2,
   "metadata": {},
   "outputs": [
    {
     "data": {
      "application/javascript": [
       "\n",
       "            setTimeout(function() {\n",
       "                var nbb_cell_id = 2;\n",
       "                var nbb_unformatted_code = \"import pandas as pd\\nimport pylab as plt\\nimport numpy as np\\n\\n%matplotlib inline\";\n",
       "                var nbb_formatted_code = \"import pandas as pd\\nimport pylab as plt\\nimport numpy as np\\n\\n%matplotlib inline\";\n",
       "                var nbb_cells = Jupyter.notebook.get_cells();\n",
       "                for (var i = 0; i < nbb_cells.length; ++i) {\n",
       "                    if (nbb_cells[i].input_prompt_number == nbb_cell_id) {\n",
       "                        if (nbb_cells[i].get_text() == nbb_unformatted_code) {\n",
       "                             nbb_cells[i].set_text(nbb_formatted_code);\n",
       "                        }\n",
       "                        break;\n",
       "                    }\n",
       "                }\n",
       "            }, 500);\n",
       "            "
      ],
      "text/plain": [
       "<IPython.core.display.Javascript object>"
      ]
     },
     "metadata": {},
     "output_type": "display_data"
    }
   ],
   "source": [
    "import pandas as pd\n",
    "import pylab as plt\n",
    "import numpy as np\n",
    "\n",
    "%matplotlib inline"
   ]
  },
  {
   "cell_type": "code",
   "execution_count": 3,
   "metadata": {},
   "outputs": [
    {
     "data": {
      "application/javascript": [
       "\n",
       "            setTimeout(function() {\n",
       "                var nbb_cell_id = 3;\n",
       "                var nbb_unformatted_code = \"def set_size(width=513.11743, fraction=1, subplots=(1, 1)):\\n    \\\"\\\"\\\"Set figure dimensions to avoid scaling in LaTeX.\\n\\n    Parameters\\n    ----------\\n    width: float or string\\n            Document width in points, or string of predined document type\\n    fraction: float, optional\\n            Fraction of the width which you wish the figure to occupy\\n    subplots: array-like, optional\\n            The number of rows and columns of subplots.\\n    Returns\\n    -------\\n    fig_dim: tuple\\n            Dimensions of figure in inches\\n    \\\"\\\"\\\"\\n    if width == 'thesis':\\n        width_pt = 426.79135\\n    elif width == 'beamer':\\n        width_pt = 307.28987\\n    else:\\n        width_pt = width\\n\\n    # Width of figure (in pts)\\n    fig_width_pt = width_pt * fraction\\n    # Convert from pt to inches\\n    inches_per_pt = 1 / 72.27\\n\\n    # Golden ratio to set aesthetic figure height\\n    # https://disq.us/p/2940ij3\\n    golden_ratio = (5**.5 - 1) / 2\\n\\n    # Figure width in inches\\n    fig_width_in = fig_width_pt * inches_per_pt\\n    # Figure height in inches\\n    fig_height_in = fig_width_in * golden_ratio * (subplots[0] / subplots[1])\\n\\n    return (fig_width_in, fig_height_in)\";\n",
       "                var nbb_formatted_code = \"def set_size(width=513.11743, fraction=1, subplots=(1, 1)):\\n    \\\"\\\"\\\"Set figure dimensions to avoid scaling in LaTeX.\\n\\n    Parameters\\n    ----------\\n    width: float or string\\n            Document width in points, or string of predined document type\\n    fraction: float, optional\\n            Fraction of the width which you wish the figure to occupy\\n    subplots: array-like, optional\\n            The number of rows and columns of subplots.\\n    Returns\\n    -------\\n    fig_dim: tuple\\n            Dimensions of figure in inches\\n    \\\"\\\"\\\"\\n    if width == \\\"thesis\\\":\\n        width_pt = 426.79135\\n    elif width == \\\"beamer\\\":\\n        width_pt = 307.28987\\n    else:\\n        width_pt = width\\n\\n    # Width of figure (in pts)\\n    fig_width_pt = width_pt * fraction\\n    # Convert from pt to inches\\n    inches_per_pt = 1 / 72.27\\n\\n    # Golden ratio to set aesthetic figure height\\n    # https://disq.us/p/2940ij3\\n    golden_ratio = (5 ** 0.5 - 1) / 2\\n\\n    # Figure width in inches\\n    fig_width_in = fig_width_pt * inches_per_pt\\n    # Figure height in inches\\n    fig_height_in = fig_width_in * golden_ratio * (subplots[0] / subplots[1])\\n\\n    return (fig_width_in, fig_height_in)\";\n",
       "                var nbb_cells = Jupyter.notebook.get_cells();\n",
       "                for (var i = 0; i < nbb_cells.length; ++i) {\n",
       "                    if (nbb_cells[i].input_prompt_number == nbb_cell_id) {\n",
       "                        if (nbb_cells[i].get_text() == nbb_unformatted_code) {\n",
       "                             nbb_cells[i].set_text(nbb_formatted_code);\n",
       "                        }\n",
       "                        break;\n",
       "                    }\n",
       "                }\n",
       "            }, 500);\n",
       "            "
      ],
      "text/plain": [
       "<IPython.core.display.Javascript object>"
      ]
     },
     "metadata": {},
     "output_type": "display_data"
    }
   ],
   "source": [
    "def set_size(width=513.11743, fraction=1, subplots=(1, 1)):\n",
    "    \"\"\"Set figure dimensions to avoid scaling in LaTeX.\n",
    "\n",
    "    Parameters\n",
    "    ----------\n",
    "    width: float or string\n",
    "            Document width in points, or string of predined document type\n",
    "    fraction: float, optional\n",
    "            Fraction of the width which you wish the figure to occupy\n",
    "    subplots: array-like, optional\n",
    "            The number of rows and columns of subplots.\n",
    "    Returns\n",
    "    -------\n",
    "    fig_dim: tuple\n",
    "            Dimensions of figure in inches\n",
    "    \"\"\"\n",
    "    if width == \"thesis\":\n",
    "        width_pt = 426.79135\n",
    "    elif width == \"beamer\":\n",
    "        width_pt = 307.28987\n",
    "    else:\n",
    "        width_pt = width\n",
    "\n",
    "    # Width of figure (in pts)\n",
    "    fig_width_pt = width_pt * fraction\n",
    "    # Convert from pt to inches\n",
    "    inches_per_pt = 1 / 72.27\n",
    "\n",
    "    # Golden ratio to set aesthetic figure height\n",
    "    # https://disq.us/p/2940ij3\n",
    "    golden_ratio = (5 ** 0.5 - 1) / 2\n",
    "\n",
    "    # Figure width in inches\n",
    "    fig_width_in = fig_width_pt * inches_per_pt\n",
    "    # Figure height in inches\n",
    "    fig_height_in = fig_width_in * golden_ratio * (subplots[0] / subplots[1])\n",
    "\n",
    "    return (fig_width_in, fig_height_in)"
   ]
  },
  {
   "cell_type": "markdown",
   "metadata": {},
   "source": [
    "Load up the data"
   ]
  },
  {
   "cell_type": "code",
   "execution_count": 4,
   "metadata": {},
   "outputs": [
    {
     "data": {
      "application/javascript": [
       "\n",
       "            setTimeout(function() {\n",
       "                var nbb_cell_id = 4;\n",
       "                var nbb_unformatted_code = \"all_bursts_bary = pd.read_csv('../data/all_bursts_bary.csv')\\nall_bursts_bary = all_bursts_bary.drop('Unnamed: 0', axis=1)\";\n",
       "                var nbb_formatted_code = \"all_bursts_bary = pd.read_csv(\\\"../data/all_bursts_bary.csv\\\")\\nall_bursts_bary = all_bursts_bary.drop(\\\"Unnamed: 0\\\", axis=1)\";\n",
       "                var nbb_cells = Jupyter.notebook.get_cells();\n",
       "                for (var i = 0; i < nbb_cells.length; ++i) {\n",
       "                    if (nbb_cells[i].input_prompt_number == nbb_cell_id) {\n",
       "                        if (nbb_cells[i].get_text() == nbb_unformatted_code) {\n",
       "                             nbb_cells[i].set_text(nbb_formatted_code);\n",
       "                        }\n",
       "                        break;\n",
       "                    }\n",
       "                }\n",
       "            }, 500);\n",
       "            "
      ],
      "text/plain": [
       "<IPython.core.display.Javascript object>"
      ]
     },
     "metadata": {},
     "output_type": "display_data"
    }
   ],
   "source": [
    "all_bursts_bary = pd.read_csv(\"../data/all_bursts_bary.csv\")\n",
    "all_bursts_bary = all_bursts_bary.drop(\"Unnamed: 0\", axis=1)"
   ]
  },
  {
   "cell_type": "code",
   "execution_count": 5,
   "metadata": {},
   "outputs": [
    {
     "data": {
      "text/plain": [
       "Index(['$\\mu_f$ (MHz)', 'upper error$\\mu_f$ (MHz)', 'lower error$\\mu_f$ (MHz)',\n",
       "       '$\\sigma_f$ (MHz)', 'upper error$\\sigma_f$ (MHz)',\n",
       "       'lower error$\\sigma_f$ (MHz)', '$S$ (Jy ms)', 'upper error$S$ (Jy ms)',\n",
       "       'lower error$S$ (Jy ms)', '$\\mu_t$ (ms)', 'upper error$\\mu_t$ (ms)',\n",
       "       'lower error$\\mu_t$ (ms)', '$\\sigma_t$ (ms)',\n",
       "       'upper error$\\sigma_t$ (ms)', 'lower error$\\sigma_t$ (ms)',\n",
       "       '$\\tau$ (ms)', 'upper error$\\tau$ (ms)', 'lower error$\\tau$ (ms)',\n",
       "       'DM (pc cm$^{-3}$)', 'upper errorDM (pc cm$^{-3}$)',\n",
       "       'lower errorDM (pc cm$^{-3}$)', 'cand_id', 'comp_num', 'fit_method',\n",
       "       'use_fluence', 'bidx'],\n",
       "      dtype='object')"
      ]
     },
     "execution_count": 5,
     "metadata": {},
     "output_type": "execute_result"
    },
    {
     "data": {
      "application/javascript": [
       "\n",
       "            setTimeout(function() {\n",
       "                var nbb_cell_id = 5;\n",
       "                var nbb_unformatted_code = \"all_bursts_bary.columns\";\n",
       "                var nbb_formatted_code = \"all_bursts_bary.columns\";\n",
       "                var nbb_cells = Jupyter.notebook.get_cells();\n",
       "                for (var i = 0; i < nbb_cells.length; ++i) {\n",
       "                    if (nbb_cells[i].input_prompt_number == nbb_cell_id) {\n",
       "                        if (nbb_cells[i].get_text() == nbb_unformatted_code) {\n",
       "                             nbb_cells[i].set_text(nbb_formatted_code);\n",
       "                        }\n",
       "                        break;\n",
       "                    }\n",
       "                }\n",
       "            }, 500);\n",
       "            "
      ],
      "text/plain": [
       "<IPython.core.display.Javascript object>"
      ]
     },
     "metadata": {},
     "output_type": "display_data"
    }
   ],
   "source": [
    "all_bursts_bary.columns"
   ]
  },
  {
   "cell_type": "code",
   "execution_count": 6,
   "metadata": {},
   "outputs": [
    {
     "data": {
      "application/javascript": [
       "\n",
       "            setTimeout(function() {\n",
       "                var nbb_cell_id = 6;\n",
       "                var nbb_unformatted_code = \"all_bursts_bary = all_bursts_bary[all_bursts_bary['fit_method'] == 'mcmc']\\nall_bursts_bary = all_bursts_bary[all_bursts_bary['use_fluence'] == True]\";\n",
       "                var nbb_formatted_code = \"all_bursts_bary = all_bursts_bary[all_bursts_bary[\\\"fit_method\\\"] == \\\"mcmc\\\"]\\nall_bursts_bary = all_bursts_bary[all_bursts_bary[\\\"use_fluence\\\"] == True]\";\n",
       "                var nbb_cells = Jupyter.notebook.get_cells();\n",
       "                for (var i = 0; i < nbb_cells.length; ++i) {\n",
       "                    if (nbb_cells[i].input_prompt_number == nbb_cell_id) {\n",
       "                        if (nbb_cells[i].get_text() == nbb_unformatted_code) {\n",
       "                             nbb_cells[i].set_text(nbb_formatted_code);\n",
       "                        }\n",
       "                        break;\n",
       "                    }\n",
       "                }\n",
       "            }, 500);\n",
       "            "
      ],
      "text/plain": [
       "<IPython.core.display.Javascript object>"
      ]
     },
     "metadata": {},
     "output_type": "display_data"
    }
   ],
   "source": [
    "all_bursts_bary = all_bursts_bary[all_bursts_bary['fit_method'] == 'mcmc']\n",
    "all_bursts_bary = all_bursts_bary[all_bursts_bary['use_fluence'] == True]"
   ]
  },
  {
   "cell_type": "code",
   "execution_count": 7,
   "metadata": {},
   "outputs": [
    {
     "data": {
      "application/javascript": [
       "\n",
       "            setTimeout(function() {\n",
       "                var nbb_cell_id = 7;\n",
       "                var nbb_unformatted_code = \"day1 = all_bursts_bary[np.round(all_bursts_bary['$\\\\mu_t$ (ms)'], 0) == 57644]\\nday2 = all_bursts_bary[np.round(all_bursts_bary['$\\\\mu_t$ (ms)'], 0) == 57645]\";\n",
       "                var nbb_formatted_code = \"day1 = all_bursts_bary[np.round(all_bursts_bary[\\\"$\\\\mu_t$ (ms)\\\"], 0) == 57644]\\nday2 = all_bursts_bary[np.round(all_bursts_bary[\\\"$\\\\mu_t$ (ms)\\\"], 0) == 57645]\";\n",
       "                var nbb_cells = Jupyter.notebook.get_cells();\n",
       "                for (var i = 0; i < nbb_cells.length; ++i) {\n",
       "                    if (nbb_cells[i].input_prompt_number == nbb_cell_id) {\n",
       "                        if (nbb_cells[i].get_text() == nbb_unformatted_code) {\n",
       "                             nbb_cells[i].set_text(nbb_formatted_code);\n",
       "                        }\n",
       "                        break;\n",
       "                    }\n",
       "                }\n",
       "            }, 500);\n",
       "            "
      ],
      "text/plain": [
       "<IPython.core.display.Javascript object>"
      ]
     },
     "metadata": {},
     "output_type": "display_data"
    }
   ],
   "source": [
    "day1 = all_bursts_bary[np.round(all_bursts_bary['$\\mu_t$ (ms)'], 0) == 57644]\n",
    "day2 = all_bursts_bary[np.round(all_bursts_bary['$\\mu_t$ (ms)'], 0) == 57645]"
   ]
  },
  {
   "cell_type": "code",
   "execution_count": 8,
   "metadata": {},
   "outputs": [
    {
     "data": {
      "application/javascript": [
       "\n",
       "            setTimeout(function() {\n",
       "                var nbb_cell_id = 8;\n",
       "                var nbb_unformatted_code = \"days = [day1, day2]\";\n",
       "                var nbb_formatted_code = \"days = [day1, day2]\";\n",
       "                var nbb_cells = Jupyter.notebook.get_cells();\n",
       "                for (var i = 0; i < nbb_cells.length; ++i) {\n",
       "                    if (nbb_cells[i].input_prompt_number == nbb_cell_id) {\n",
       "                        if (nbb_cells[i].get_text() == nbb_unformatted_code) {\n",
       "                             nbb_cells[i].set_text(nbb_formatted_code);\n",
       "                        }\n",
       "                        break;\n",
       "                    }\n",
       "                }\n",
       "            }, 500);\n",
       "            "
      ],
      "text/plain": [
       "<IPython.core.display.Javascript object>"
      ]
     },
     "metadata": {},
     "output_type": "display_data"
    }
   ],
   "source": [
    "days = [day1, day2]"
   ]
  },
  {
   "cell_type": "code",
   "execution_count": 9,
   "metadata": {},
   "outputs": [
    {
     "data": {
      "application/javascript": [
       "\n",
       "            setTimeout(function() {\n",
       "                var nbb_cell_id = 9;\n",
       "                var nbb_unformatted_code = \"param_list = ['$\\\\\\\\mu_f$ (MHz)',\\n '$\\\\\\\\sigma_f$ (MHz)',\\n '$S$ (Jy ms)',\\n '$\\\\\\\\sigma_t$ (ms)',\\n '$\\\\\\\\tau$ (ms)',\\n 'DM (pc cm$^{-3}$)']\";\n",
       "                var nbb_formatted_code = \"param_list = [\\n    \\\"$\\\\\\\\mu_f$ (MHz)\\\",\\n    \\\"$\\\\\\\\sigma_f$ (MHz)\\\",\\n    \\\"$S$ (Jy ms)\\\",\\n    \\\"$\\\\\\\\sigma_t$ (ms)\\\",\\n    \\\"$\\\\\\\\tau$ (ms)\\\",\\n    \\\"DM (pc cm$^{-3}$)\\\",\\n]\";\n",
       "                var nbb_cells = Jupyter.notebook.get_cells();\n",
       "                for (var i = 0; i < nbb_cells.length; ++i) {\n",
       "                    if (nbb_cells[i].input_prompt_number == nbb_cell_id) {\n",
       "                        if (nbb_cells[i].get_text() == nbb_unformatted_code) {\n",
       "                             nbb_cells[i].set_text(nbb_formatted_code);\n",
       "                        }\n",
       "                        break;\n",
       "                    }\n",
       "                }\n",
       "            }, 500);\n",
       "            "
      ],
      "text/plain": [
       "<IPython.core.display.Javascript object>"
      ]
     },
     "metadata": {},
     "output_type": "display_data"
    }
   ],
   "source": [
    "param_list = ['$\\\\mu_f$ (MHz)',\n",
    " '$\\\\sigma_f$ (MHz)',\n",
    " '$S$ (Jy ms)',\n",
    " '$\\\\sigma_t$ (ms)',\n",
    " '$\\\\tau$ (ms)',\n",
    " 'DM (pc cm$^{-3}$)']"
   ]
  },
  {
   "cell_type": "code",
   "execution_count": 10,
   "metadata": {},
   "outputs": [
    {
     "data": {
      "application/javascript": [
       "\n",
       "            setTimeout(function() {\n",
       "                var nbb_cell_id = 10;\n",
       "                var nbb_unformatted_code = \"param_dict = {}\\nparam_dict['$\\\\\\\\mu_f$ (MHz)'] = [1200, 1900]\\nparam_dict['$\\\\\\\\sigma_f$ (MHz)'] = [0, 300]\\nparam_dict['$S$ (Jy ms)'] = [0.05, 1.1]\\nparam_dict['$\\\\\\\\sigma_t$ (ms)'] = [10**-1, 10**1]\\n# param_dict['$S$'] = [0, 5, 200]\\n# param_dict['sigma_t$'] = [0, 5, 200]\\nparam_dict['$\\\\\\\\tau$ (ms)'] = [0, 3]\\nparam_dict['DM (pc cm$^{-3}$)'] = [560, 575]\";\n",
       "                var nbb_formatted_code = \"param_dict = {}\\nparam_dict[\\\"$\\\\\\\\mu_f$ (MHz)\\\"] = [1200, 1900]\\nparam_dict[\\\"$\\\\\\\\sigma_f$ (MHz)\\\"] = [0, 300]\\nparam_dict[\\\"$S$ (Jy ms)\\\"] = [0.05, 1.1]\\nparam_dict[\\\"$\\\\\\\\sigma_t$ (ms)\\\"] = [10 ** -1, 10 ** 1]\\n# param_dict['$S$'] = [0, 5, 200]\\n# param_dict['sigma_t$'] = [0, 5, 200]\\nparam_dict[\\\"$\\\\\\\\tau$ (ms)\\\"] = [0, 3]\\nparam_dict[\\\"DM (pc cm$^{-3}$)\\\"] = [560, 575]\";\n",
       "                var nbb_cells = Jupyter.notebook.get_cells();\n",
       "                for (var i = 0; i < nbb_cells.length; ++i) {\n",
       "                    if (nbb_cells[i].input_prompt_number == nbb_cell_id) {\n",
       "                        if (nbb_cells[i].get_text() == nbb_unformatted_code) {\n",
       "                             nbb_cells[i].set_text(nbb_formatted_code);\n",
       "                        }\n",
       "                        break;\n",
       "                    }\n",
       "                }\n",
       "            }, 500);\n",
       "            "
      ],
      "text/plain": [
       "<IPython.core.display.Javascript object>"
      ]
     },
     "metadata": {},
     "output_type": "display_data"
    }
   ],
   "source": [
    "# set parameter ranges \n",
    "param_dict = {}\n",
    "param_dict['$\\\\mu_f$ (MHz)'] = [1200, 1900]\n",
    "param_dict['$\\\\sigma_f$ (MHz)'] = [0, 300]\n",
    "param_dict['$S$ (Jy ms)'] = [0.05, 1.1]\n",
    "param_dict['$\\\\sigma_t$ (ms)'] = [10**-1, 10**1]\n",
    "param_dict['$\\\\tau$ (ms)'] = [0, 3]\n",
    "param_dict['DM (pc cm$^{-3}$)'] = [560, 575]"
   ]
  },
  {
   "cell_type": "markdown",
   "metadata": {},
   "source": [
    "Plot! "
   ]
  },
  {
   "cell_type": "code",
   "execution_count": 12,
   "metadata": {},
   "outputs": [
    {
     "name": "stderr",
     "output_type": "stream",
     "text": [
      "findfont: Font family ['serif'] not found. Falling back to DejaVu Sans.\n",
      "findfont: Font family ['serif'] not found. Falling back to DejaVu Sans.\n"
     ]
    },
    {
     "data": {
      "image/png": "[encoded data removed]",
      "text/plain": [
       "<Figure size 511.2x210.626 with 6 Axes>"
      ]
     },
     "metadata": {
      "needs_background": "light"
     },
     "output_type": "display_data"
    },
    {
     "data": {
      "application/javascript": [
       "\n",
       "            setTimeout(function() {\n",
       "                var nbb_cell_id = 12;\n",
       "                var nbb_unformatted_code = \"x_key = \\\"$\\\\mu_t$ (ms)\\\"\\ncolors = [\\\"red\\\", \\\"blue\\\"]\\nmarkers = [\\\"o\\\", \\\"s\\\"]\\n\\nwith plt.style.context([\\\"science\\\", \\\"grid\\\", \\\"no-latex\\\"]):\\n    fig, axes = plt.subplots(\\n        2, 3, sharex=True, sharey=False, figsize=set_size(subplots=(2, 3))\\n    )\\n    for i in range(2):\\n        day = days[i].copy()\\n        day[\\\"$\\\\mu_t$ (ms)\\\"] -= np.min(day[\\\"$\\\\mu_t$ (ms)\\\"])\\n        day[\\\"lower error$\\\\mu_t$ (ms)\\\"] *= 24 * 60 * 60\\n        day[\\\"upper error$\\\\mu_t$ (ms)\\\"] *= 24 * 60 * 60\\n        day[\\\"$\\\\mu_t$ (ms)\\\"] *= 24 * 60 * 60\\n        for j, p in enumerate(param_list):\\n            ax = axes[j // 3, j % 3]\\n            y_key = p\\n            x_errors = np.array(\\n                [\\n                    np.array(day[\\\"lower error\\\" + x_key]),\\n                    np.array(day[\\\"upper error\\\" + x_key]),\\n                ]\\n            )\\n\\n            y_errors = np.array(\\n                [\\n                    np.array(day[\\\"lower error\\\" + y_key]),\\n                    np.array(day[\\\"upper error\\\" + y_key]),\\n                ]\\n            )\\n\\n            ax.errorbar(\\n                day[x_key],\\n                day[y_key],\\n                xerr=x_errors,\\n                yerr=y_errors,\\n                ls=\\\"none\\\",\\n                color=colors[i],\\n                alpha=0.5,\\n            )\\n            ax.scatter(\\n                day[x_key],\\n                day[y_key],\\n                color=colors[i],\\n                marker=markers[i],\\n                alpha=0.5,\\n                s=5,\\n            )\\n            ax.set_title(p)\\n            if \\\"$S$\\\" in p or \\\"sigma_t\\\" in p:\\n                ax.set_yscale(\\\"log\\\")\\n            if j // 3 == 1:\\n                ax.set_xlabel(r\\\"$\\\\mu_t$ (s)\\\")\\n            ax.set_ylim(param_dict[p][0], param_dict[p][1])\\n        plt.tight_layout()\\n    plt.savefig(\\\"param_vs_time.pdf\\\", bbox_inches=\\\"tight\\\")\\n    # plt.xlim([0, 500])\";\n",
       "                var nbb_formatted_code = \"x_key = \\\"$\\\\mu_t$ (ms)\\\"\\ncolors = [\\\"red\\\", \\\"blue\\\"]\\nmarkers = [\\\"o\\\", \\\"s\\\"]\\n\\nwith plt.style.context([\\\"science\\\", \\\"grid\\\", \\\"no-latex\\\"]):\\n    fig, axes = plt.subplots(\\n        2, 3, sharex=True, sharey=False, figsize=set_size(subplots=(2, 3))\\n    )\\n    for i in range(2):\\n        day = days[i].copy()\\n        day[\\\"$\\\\mu_t$ (ms)\\\"] -= np.min(day[\\\"$\\\\mu_t$ (ms)\\\"])\\n        day[\\\"lower error$\\\\mu_t$ (ms)\\\"] *= 24 * 60 * 60\\n        day[\\\"upper error$\\\\mu_t$ (ms)\\\"] *= 24 * 60 * 60\\n        day[\\\"$\\\\mu_t$ (ms)\\\"] *= 24 * 60 * 60\\n        for j, p in enumerate(param_list):\\n            ax = axes[j // 3, j % 3]\\n            y_key = p\\n            x_errors = np.array(\\n                [\\n                    np.array(day[\\\"lower error\\\" + x_key]),\\n                    np.array(day[\\\"upper error\\\" + x_key]),\\n                ]\\n            )\\n\\n            y_errors = np.array(\\n                [\\n                    np.array(day[\\\"lower error\\\" + y_key]),\\n                    np.array(day[\\\"upper error\\\" + y_key]),\\n                ]\\n            )\\n\\n            ax.errorbar(\\n                day[x_key],\\n                day[y_key],\\n                xerr=x_errors,\\n                yerr=y_errors,\\n                ls=\\\"none\\\",\\n                color=colors[i],\\n                alpha=0.5,\\n            )\\n            ax.scatter(\\n                day[x_key],\\n                day[y_key],\\n                color=colors[i],\\n                marker=markers[i],\\n                alpha=0.5,\\n                s=5,\\n            )\\n            ax.set_title(p)\\n            if \\\"$S$\\\" in p or \\\"sigma_t\\\" in p:\\n                ax.set_yscale(\\\"log\\\")\\n            if j // 3 == 1:\\n                ax.set_xlabel(r\\\"$\\\\mu_t$ (s)\\\")\\n            ax.set_ylim(param_dict[p][0], param_dict[p][1])\\n        plt.tight_layout()\\n    plt.savefig(\\\"param_vs_time.pdf\\\", bbox_inches=\\\"tight\\\")\\n    # plt.xlim([0, 500])\";\n",
       "                var nbb_cells = Jupyter.notebook.get_cells();\n",
       "                for (var i = 0; i < nbb_cells.length; ++i) {\n",
       "                    if (nbb_cells[i].input_prompt_number == nbb_cell_id) {\n",
       "                        if (nbb_cells[i].get_text() == nbb_unformatted_code) {\n",
       "                             nbb_cells[i].set_text(nbb_formatted_code);\n",
       "                        }\n",
       "                        break;\n",
       "                    }\n",
       "                }\n",
       "            }, 500);\n",
       "            "
      ],
      "text/plain": [
       "<IPython.core.display.Javascript object>"
      ]
     },
     "metadata": {},
     "output_type": "display_data"
    }
   ],
   "source": [
    "x_key = \"$\\mu_t$ (ms)\"\n",
    "colors = [\"red\", \"blue\"]\n",
    "markers = [\"o\", \"s\"]\n",
    "\n",
    "with plt.style.context([\"science\", \"grid\"]):\n",
    "    fig, axes = plt.subplots(\n",
    "        2, 3, sharex=True, sharey=False, figsize=set_size(subplots=(2, 3))\n",
    "    )\n",
    "    for i in range(2):\n",
    "        day = days[i].copy()\n",
    "        day[\"$\\mu_t$ (ms)\"] -= np.min(day[\"$\\mu_t$ (ms)\"])\n",
    "        day[\"lower error$\\mu_t$ (ms)\"] *= 24 * 60 * 60\n",
    "        day[\"upper error$\\mu_t$ (ms)\"] *= 24 * 60 * 60\n",
    "        day[\"$\\mu_t$ (ms)\"] *= 24 * 60 * 60\n",
    "        for j, p in enumerate(param_list):\n",
    "            ax = axes[j // 3, j % 3]\n",
    "            y_key = p\n",
    "            \n",
    "            # reading errors \n",
    "            x_errors = np.array(\n",
    "                [\n",
    "                    np.array(day[\"lower error\" + x_key]),\n",
    "                    np.array(day[\"upper error\" + x_key]),\n",
    "                ]\n",
    "            )\n",
    "\n",
    "            y_errors = np.array(\n",
    "                [\n",
    "                    np.array(day[\"lower error\" + y_key]),\n",
    "                    np.array(day[\"upper error\" + y_key]),\n",
    "                ]\n",
    "            )\n",
    "            \n",
    "            # plotting errors \n",
    "            ax.errorbar(\n",
    "                day[x_key],\n",
    "                day[y_key],\n",
    "                xerr=x_errors,\n",
    "                yerr=y_errors,\n",
    "                ls=\"none\",\n",
    "                color=colors[i],\n",
    "                alpha=0.5,\n",
    "            )\n",
    "            \n",
    "            # plotting medians \n",
    "            ax.scatter(\n",
    "                day[x_key],\n",
    "                day[y_key],\n",
    "                color=colors[i],\n",
    "                marker=markers[i],\n",
    "                alpha=0.5,\n",
    "                s=5,\n",
    "            )\n",
    "            ax.set_title(p)\n",
    "            if \"$S$\" in p or \"sigma_t\" in p:\n",
    "                ax.set_yscale(\"log\")\n",
    "            if j // 3 == 1:\n",
    "                ax.set_xlabel(r\"$\\mu_t$ (s)\")\n",
    "            ax.set_ylim(param_dict[p][0], param_dict[p][1])\n",
    "        plt.tight_layout()\n",
    "    plt.savefig(\"param_vs_time.pdf\", bbox_inches=\"tight\")"
   ]
  }
 ],
 "metadata": {
  "kernelspec": {
   "display_name": "Python 3",
   "language": "python",
   "name": "python3"
  },
  "language_info": {
   "codemirror_mode": {
    "name": "ipython",
    "version": 3
   },
   "file_extension": ".py",
   "mimetype": "text/x-python",
   "name": "python",
   "nbconvert_exporter": "python",
   "pygments_lexer": "ipython3",
   "version": "3.6.8"
  }
 },
 "nbformat": 4,
 "nbformat_minor": 2
}
