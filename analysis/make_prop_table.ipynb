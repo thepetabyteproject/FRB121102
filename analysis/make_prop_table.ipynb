{
 "cells": [
  {
   "cell_type": "markdown",
   "metadata": {},
   "source": [
    "Notebook to make the results Latex table "
   ]
  },
  {
   "cell_type": "code",
   "execution_count": 1,
   "metadata": {},
   "outputs": [
    {
     "data": {
      "application/javascript": [
       "\n",
       "            setTimeout(function() {\n",
       "                var nbb_cell_id = 1;\n",
       "                var nbb_unformatted_code = \"%load_ext nb_black\";\n",
       "                var nbb_formatted_code = \"%load_ext nb_black\";\n",
       "                var nbb_cells = Jupyter.notebook.get_cells();\n",
       "                for (var i = 0; i < nbb_cells.length; ++i) {\n",
       "                    if (nbb_cells[i].input_prompt_number == nbb_cell_id) {\n",
       "                        if (nbb_cells[i].get_text() == nbb_unformatted_code) {\n",
       "                             nbb_cells[i].set_text(nbb_formatted_code);\n",
       "                        }\n",
       "                        break;\n",
       "                    }\n",
       "                }\n",
       "            }, 500);\n",
       "            "
      ],
      "text/plain": [
       "<IPython.core.display.Javascript object>"
      ]
     },
     "metadata": {},
     "output_type": "display_data"
    }
   ],
   "source": [
    "%load_ext nb_black"
   ]
  },
  {
   "cell_type": "code",
   "execution_count": 2,
   "metadata": {},
   "outputs": [
    {
     "data": {
      "application/javascript": [
       "\n",
       "            setTimeout(function() {\n",
       "                var nbb_cell_id = 2;\n",
       "                var nbb_unformatted_code = \"import pandas as pd\\nimport numpy as np\";\n",
       "                var nbb_formatted_code = \"import pandas as pd\\nimport numpy as np\";\n",
       "                var nbb_cells = Jupyter.notebook.get_cells();\n",
       "                for (var i = 0; i < nbb_cells.length; ++i) {\n",
       "                    if (nbb_cells[i].input_prompt_number == nbb_cell_id) {\n",
       "                        if (nbb_cells[i].get_text() == nbb_unformatted_code) {\n",
       "                             nbb_cells[i].set_text(nbb_formatted_code);\n",
       "                        }\n",
       "                        break;\n",
       "                    }\n",
       "                }\n",
       "            }, 500);\n",
       "            "
      ],
      "text/plain": [
       "<IPython.core.display.Javascript object>"
      ]
     },
     "metadata": {},
     "output_type": "display_data"
    }
   ],
   "source": [
    "import pandas as pd\n",
    "import numpy as np"
   ]
  },
  {
   "cell_type": "code",
   "execution_count": 3,
   "metadata": {},
   "outputs": [
    {
     "data": {
      "application/javascript": [
       "\n",
       "            setTimeout(function() {\n",
       "                var nbb_cell_id = 3;\n",
       "                var nbb_unformatted_code = \"all_bursts_bary = pd.read_csv('../data/all_bursts_bary.csv')\\nall_bursts_bary = all_bursts_bary.drop('Unnamed: 0', axis=1)\";\n",
       "                var nbb_formatted_code = \"all_bursts_bary = pd.read_csv(\\\"../data/all_bursts_bary.csv\\\")\\nall_bursts_bary = all_bursts_bary.drop(\\\"Unnamed: 0\\\", axis=1)\";\n",
       "                var nbb_cells = Jupyter.notebook.get_cells();\n",
       "                for (var i = 0; i < nbb_cells.length; ++i) {\n",
       "                    if (nbb_cells[i].input_prompt_number == nbb_cell_id) {\n",
       "                        if (nbb_cells[i].get_text() == nbb_unformatted_code) {\n",
       "                             nbb_cells[i].set_text(nbb_formatted_code);\n",
       "                        }\n",
       "                        break;\n",
       "                    }\n",
       "                }\n",
       "            }, 500);\n",
       "            "
      ],
      "text/plain": [
       "<IPython.core.display.Javascript object>"
      ]
     },
     "metadata": {},
     "output_type": "display_data"
    }
   ],
   "source": [
    "all_bursts_bary = pd.read_csv(\"../data/all_bursts_bary.csv\")\n",
    "all_bursts_bary = all_bursts_bary.drop(\"Unnamed: 0\", axis=1)"
   ]
  },
  {
   "cell_type": "code",
   "execution_count": 4,
   "metadata": {},
   "outputs": [
    {
     "data": {
      "application/javascript": [
       "\n",
       "            setTimeout(function() {\n",
       "                var nbb_cell_id = 4;\n",
       "                var nbb_unformatted_code = \"def get_number(x, dx):\\n    \\\"\\\"\\\"\\n    Returns a string of the measurement value\\n    together with the measurement error\\n    x: measurement value\\n    dx: measurment error\\n    \\\"\\\"\\\"\\n\\n    # Power of dx\\n    power_err = np.log10(dx)\\n\\n    # Digits of dx in format a.bcd\\n    n_err = dx / (10**np.floor(power_err))\\n\\n    # If the second digit in dx is >=5\\n    # round the 1st digit in dx up\\n    if n_err % 1 >= 0.5:\\n        # If the first digit of dx is 9\\n        # the precision is one digit less\\n        if int(n_err) == 9: \\n            err = 1\\n        # The precision of x is determined by the precision of dx\\n            prec=int(-np.floor(np.log10(dx))) - 1           \\n        else:\\n            err = np.ceil(n_err)\\n            # The precision of x is determined by the precision of dx\\n            prec=int(-np.floor(np.log10(dx)))\\n    # Otherwise round down\\n    else:      \\n        err = np.floor(n_err) \\n        # The precision of x is determined by the precision of dx\\n        prec=int(-np.floor(np.log10(dx)))\\n    \\n    return x, err, prec\";\n",
       "                var nbb_formatted_code = \"def get_number(x, dx):\\n    \\\"\\\"\\\"\\n    Returns a string of the measurement value\\n    together with the measurement error\\n    x: measurement value\\n    dx: measurment error\\n    \\\"\\\"\\\"\\n\\n    # Power of dx\\n    power_err = np.log10(dx)\\n\\n    # Digits of dx in format a.bcd\\n    n_err = dx / (10 ** np.floor(power_err))\\n\\n    # If the second digit in dx is >=5\\n    # round the 1st digit in dx up\\n    if n_err % 1 >= 0.5:\\n        # If the first digit of dx is 9\\n        # the precision is one digit less\\n        if int(n_err) == 9:\\n            err = 1\\n            # The precision of x is determined by the precision of dx\\n            prec = int(-np.floor(np.log10(dx))) - 1\\n        else:\\n            err = np.ceil(n_err)\\n            # The precision of x is determined by the precision of dx\\n            prec = int(-np.floor(np.log10(dx)))\\n    # Otherwise round down\\n    else:\\n        err = np.floor(n_err)\\n        # The precision of x is determined by the precision of dx\\n        prec = int(-np.floor(np.log10(dx)))\\n\\n    return x, err, prec\";\n",
       "                var nbb_cells = Jupyter.notebook.get_cells();\n",
       "                for (var i = 0; i < nbb_cells.length; ++i) {\n",
       "                    if (nbb_cells[i].input_prompt_number == nbb_cell_id) {\n",
       "                        if (nbb_cells[i].get_text() == nbb_unformatted_code) {\n",
       "                             nbb_cells[i].set_text(nbb_formatted_code);\n",
       "                        }\n",
       "                        break;\n",
       "                    }\n",
       "                }\n",
       "            }, 500);\n",
       "            "
      ],
      "text/plain": [
       "<IPython.core.display.Javascript object>"
      ]
     },
     "metadata": {},
     "output_type": "display_data"
    }
   ],
   "source": [
    "def get_number(x, dx):\n",
    "    \"\"\"\n",
    "    Returns a string of the measurement value\n",
    "    together with the measurement error\n",
    "    x: measurement value\n",
    "    dx: measurment error\n",
    "    \"\"\"\n",
    "\n",
    "    # Power of dx\n",
    "    power_err = np.log10(dx)\n",
    "\n",
    "    # Digits of dx in format a.bcd\n",
    "    n_err = dx / (10 ** np.floor(power_err))\n",
    "\n",
    "    # If the second digit in dx is >=5\n",
    "    # round the 1st digit in dx up\n",
    "    if n_err % 1 >= 0.5:\n",
    "        # If the first digit of dx is 9\n",
    "        # the precision is one digit less\n",
    "        if int(n_err) == 9:\n",
    "            err = 1\n",
    "            # The precision of x is determined by the precision of dx\n",
    "            prec = int(-np.floor(np.log10(dx))) - 1\n",
    "        else:\n",
    "            err = np.ceil(n_err)\n",
    "            # The precision of x is determined by the precision of dx\n",
    "            prec = int(-np.floor(np.log10(dx)))\n",
    "    # Otherwise round down\n",
    "    else:\n",
    "        err = np.floor(n_err)\n",
    "        # The precision of x is determined by the precision of dx\n",
    "        prec = int(-np.floor(np.log10(dx)))\n",
    "\n",
    "    return x, err, prec"
   ]
  },
  {
   "cell_type": "code",
   "execution_count": 5,
   "metadata": {},
   "outputs": [
    {
     "data": {
      "application/javascript": [
       "\n",
       "            setTimeout(function() {\n",
       "                var nbb_cell_id = 5;\n",
       "                var nbb_unformatted_code = \"def get_err_string(x, le, ue):\\n    \\\"\\\"\\\"\\n    Estimates proper rounding\\n    and returns both errors with \\n    necessary significant digits\\n    \\n    \\\"\\\"\\\"\\n    min_err = min(le, ue)\\n    x, err, prec = get_number(x, min_err)\\n    s = ''\\n    if min_err > 1:\\n        s += str(int(x))\\n        les = int(np.round(le, prec))\\n        ues = int(np.round(ue, prec))\\n    else:\\n        s += str(np.round(x, prec))\\n        les = np.round(le, prec)\\n        ues = np.round(ue, prec)\\n    ret = f'${s}^' + '{+' + str(ues) + '}_{-' + str(les) + '}$'\\n    return ret\";\n",
       "                var nbb_formatted_code = \"def get_err_string(x, le, ue):\\n    \\\"\\\"\\\"\\n    Estimates proper rounding\\n    and returns both errors with\\n    necessary significant digits\\n\\n    \\\"\\\"\\\"\\n    min_err = min(le, ue)\\n    x, err, prec = get_number(x, min_err)\\n    s = \\\"\\\"\\n    if min_err > 1:\\n        s += str(int(x))\\n        les = int(np.round(le, prec))\\n        ues = int(np.round(ue, prec))\\n    else:\\n        s += str(np.round(x, prec))\\n        les = np.round(le, prec)\\n        ues = np.round(ue, prec)\\n    ret = f\\\"${s}^\\\" + \\\"{+\\\" + str(ues) + \\\"}_{-\\\" + str(les) + \\\"}$\\\"\\n    return ret\";\n",
       "                var nbb_cells = Jupyter.notebook.get_cells();\n",
       "                for (var i = 0; i < nbb_cells.length; ++i) {\n",
       "                    if (nbb_cells[i].input_prompt_number == nbb_cell_id) {\n",
       "                        if (nbb_cells[i].get_text() == nbb_unformatted_code) {\n",
       "                             nbb_cells[i].set_text(nbb_formatted_code);\n",
       "                        }\n",
       "                        break;\n",
       "                    }\n",
       "                }\n",
       "            }, 500);\n",
       "            "
      ],
      "text/plain": [
       "<IPython.core.display.Javascript object>"
      ]
     },
     "metadata": {},
     "output_type": "display_data"
    }
   ],
   "source": [
    "def get_err_string(x, le, ue):\n",
    "    \"\"\"\n",
    "    Estimates proper rounding\n",
    "    and returns both errors with\n",
    "    necessary significant digits\n",
    "\n",
    "    \"\"\"\n",
    "    min_err = min(le, ue)\n",
    "    x, err, prec = get_number(x, min_err)\n",
    "    s = \"\"\n",
    "    if min_err > 1:\n",
    "        s += str(int(x))\n",
    "        les = int(np.round(le, prec))\n",
    "        ues = int(np.round(ue, prec))\n",
    "    else:\n",
    "        s += str(np.round(x, prec))\n",
    "        les = np.round(le, prec)\n",
    "        ues = np.round(ue, prec)\n",
    "    ret = f\"${s}^\" + \"{+\" + str(ues) + \"}_{-\" + str(les) + \"}$\"\n",
    "    return ret"
   ]
  },
  {
   "cell_type": "code",
   "execution_count": 6,
   "metadata": {},
   "outputs": [
    {
     "data": {
      "application/javascript": [
       "\n",
       "            setTimeout(function() {\n",
       "                var nbb_cell_id = 6;\n",
       "                var nbb_unformatted_code = \"def get_printable_values(row, col_names, append_string='', i=0):\\n    s = row['bidx']\\n    \\n    # highlight bursts with unconstrained fluences \\n    if not row['use_fluence'] and row['fit_method'] == 'mcmc':\\n        s += '$\\\\dagger$'\\n\\n    # highlight bursts that used curvefit \\n    if row['fit_method'] == 'curvefit':\\n        s += '$*$'\\n    \\n    # print!\\n    for col in col_names:       \\n        s += ' & '\\n        try:\\n            val = row[col + append_string]\\n        except KeyError:\\n            s+= '-'\\n            continue\\n\\n        if np.isnan(val):\\n            s += '-'\\n        else:\\n            ue = row['upper error' + col + append_string]\\n            le = row['lower error' + col + append_string]\\n            if np.isnan(le):\\n                le = ue\\n            if '$\\\\mu_t$ (ms)' in col:\\n                e = (ue + le) / 2\\n                x, err, prec = get_number(val, e)\\n                s += '{:.{prec}f}({:.0f})'.format(x, err, prec = prec)\\n            else:                \\n                s += get_err_string(val, le, ue)\\n    s+='\\\\\\\\\\\\\\\\'\\n    return s, row \";\n",
       "                var nbb_formatted_code = \"def get_printable_values(row, col_names, append_string=\\\"\\\", i=0):\\n    s = row[\\\"bidx\\\"]\\n\\n    # highlight bursts with unconstrained fluences\\n    if not row[\\\"use_fluence\\\"] and row[\\\"fit_method\\\"] == \\\"mcmc\\\":\\n        s += \\\"$\\\\dagger$\\\"\\n\\n    # highlight bursts that used curvefit\\n    if row[\\\"fit_method\\\"] == \\\"curvefit\\\":\\n        s += \\\"$*$\\\"\\n\\n    # print!\\n    for col in col_names:\\n        s += \\\" & \\\"\\n        try:\\n            val = row[col + append_string]\\n        except KeyError:\\n            s += \\\"-\\\"\\n            continue\\n\\n        if np.isnan(val):\\n            s += \\\"-\\\"\\n        else:\\n            ue = row[\\\"upper error\\\" + col + append_string]\\n            le = row[\\\"lower error\\\" + col + append_string]\\n            if np.isnan(le):\\n                le = ue\\n            if \\\"$\\\\mu_t$ (ms)\\\" in col:\\n                e = (ue + le) / 2\\n                x, err, prec = get_number(val, e)\\n                s += \\\"{:.{prec}f}({:.0f})\\\".format(x, err, prec=prec)\\n            else:\\n                s += get_err_string(val, le, ue)\\n    s += \\\"\\\\\\\\\\\\\\\\\\\"\\n    return s, row\";\n",
       "                var nbb_cells = Jupyter.notebook.get_cells();\n",
       "                for (var i = 0; i < nbb_cells.length; ++i) {\n",
       "                    if (nbb_cells[i].input_prompt_number == nbb_cell_id) {\n",
       "                        if (nbb_cells[i].get_text() == nbb_unformatted_code) {\n",
       "                             nbb_cells[i].set_text(nbb_formatted_code);\n",
       "                        }\n",
       "                        break;\n",
       "                    }\n",
       "                }\n",
       "            }, 500);\n",
       "            "
      ],
      "text/plain": [
       "<IPython.core.display.Javascript object>"
      ]
     },
     "metadata": {},
     "output_type": "display_data"
    }
   ],
   "source": [
    "def get_printable_values(row, col_names, append_string=\"\", i=0):\n",
    "    s = row[\"bidx\"]\n",
    "\n",
    "    # highlight bursts with unconstrained fluences\n",
    "    if not row[\"use_fluence\"] and row[\"fit_method\"] == \"mcmc\":\n",
    "        s += \"$\\dagger$\"\n",
    "\n",
    "    # highlight bursts that used curvefit\n",
    "    if row[\"fit_method\"] == \"curvefit\":\n",
    "        s += \"$*$\"\n",
    "\n",
    "    # print!\n",
    "    for col in col_names:\n",
    "        s += \" & \"\n",
    "        try:\n",
    "            val = row[col + append_string]\n",
    "        except KeyError:\n",
    "            s += \"-\"\n",
    "            continue\n",
    "\n",
    "        if np.isnan(val):\n",
    "            s += \"-\"\n",
    "        else:\n",
    "            ue = row[\"upper error\" + col + append_string]\n",
    "            le = row[\"lower error\" + col + append_string]\n",
    "            if np.isnan(le):\n",
    "                le = ue\n",
    "            if \"$\\mu_t$ (ms)\" in col:\n",
    "                e = (ue + le) / 2\n",
    "                x, err, prec = get_number(val, e)\n",
    "                s += \"{:.{prec}f}({:.0f})\".format(x, err, prec=prec)\n",
    "            else:\n",
    "                s += get_err_string(val, le, ue)\n",
    "    s += \"\\\\\\\\\"\n",
    "    return s, row"
   ]
  },
  {
   "cell_type": "code",
   "execution_count": 7,
   "metadata": {},
   "outputs": [
    {
     "data": {
      "application/javascript": [
       "\n",
       "            setTimeout(function() {\n",
       "                var nbb_cell_id = 7;\n",
       "                var nbb_unformatted_code = \"col_names = all_bursts_bary.columns[:-5][::3]\";\n",
       "                var nbb_formatted_code = \"col_names = all_bursts_bary.columns[:-5][::3]\";\n",
       "                var nbb_cells = Jupyter.notebook.get_cells();\n",
       "                for (var i = 0; i < nbb_cells.length; ++i) {\n",
       "                    if (nbb_cells[i].input_prompt_number == nbb_cell_id) {\n",
       "                        if (nbb_cells[i].get_text() == nbb_unformatted_code) {\n",
       "                             nbb_cells[i].set_text(nbb_formatted_code);\n",
       "                        }\n",
       "                        break;\n",
       "                    }\n",
       "                }\n",
       "            }, 500);\n",
       "            "
      ],
      "text/plain": [
       "<IPython.core.display.Javascript object>"
      ]
     },
     "metadata": {},
     "output_type": "display_data"
    }
   ],
   "source": [
    "col_names = all_bursts_bary.columns[:-5][::3]"
   ]
  },
  {
   "cell_type": "code",
   "execution_count": 8,
   "metadata": {},
   "outputs": [
    {
     "data": {
      "text/plain": [
       "Index(['$\\mu_f$ (MHz)', '$\\sigma_f$ (MHz)', '$S$ (Jy ms)', '$\\mu_t$ (ms)',\n",
       "       '$\\sigma_t$ (ms)', '$\\tau$ (ms)', 'DM (pc cm$^{-3}$)'],\n",
       "      dtype='object')"
      ]
     },
     "execution_count": 8,
     "metadata": {},
     "output_type": "execute_result"
    },
    {
     "data": {
      "application/javascript": [
       "\n",
       "            setTimeout(function() {\n",
       "                var nbb_cell_id = 8;\n",
       "                var nbb_unformatted_code = \"col_names\";\n",
       "                var nbb_formatted_code = \"col_names\";\n",
       "                var nbb_cells = Jupyter.notebook.get_cells();\n",
       "                for (var i = 0; i < nbb_cells.length; ++i) {\n",
       "                    if (nbb_cells[i].input_prompt_number == nbb_cell_id) {\n",
       "                        if (nbb_cells[i].get_text() == nbb_unformatted_code) {\n",
       "                             nbb_cells[i].set_text(nbb_formatted_code);\n",
       "                        }\n",
       "                        break;\n",
       "                    }\n",
       "                }\n",
       "            }, 500);\n",
       "            "
      ],
      "text/plain": [
       "<IPython.core.display.Javascript object>"
      ]
     },
     "metadata": {},
     "output_type": "display_data"
    }
   ],
   "source": [
    "col_names"
   ]
  },
  {
   "cell_type": "markdown",
   "metadata": {},
   "source": [
    "Print table header "
   ]
  },
  {
   "cell_type": "code",
   "execution_count": 9,
   "metadata": {},
   "outputs": [
    {
     "name": "stdout",
     "output_type": "stream",
     "text": [
      "\\tablehead{\\colhead{Burst} & \\colhead{$\\mu_f$} & \\colhead{$\\sigma_f$} & \\colhead{$S$} & \\colhead{$\\mu_t$} & \\colhead{$\\sigma_t$} & \\colhead{$\\tau$} & \\colhead{DM}\\\\\n",
      "\\colhead{Idx.} & \\colhead{(MHz)} & \\colhead{(MHz)} & \\colhead{(Jy ms)} & \\colhead{(ms)} & \\colhead{(ms)} & \\colhead{(ms)} & \\colhead{(pc cm$^{-3}$)}}\n"
     ]
    },
    {
     "data": {
      "application/javascript": [
       "\n",
       "            setTimeout(function() {\n",
       "                var nbb_cell_id = 9;\n",
       "                var nbb_unformatted_code = \"s = ''\\ns += '\\\\\\\\' + 'tablehead{'\\ns += '\\\\\\\\' + 'colhead{Burst}'\\nfor col in col_names:\\n    s += ' & \\\\\\\\' + 'colhead{' + col.split(' (')[0] + '}'\\ns += '\\\\\\\\\\\\\\\\'\\ns += '\\\\n'\\ns += '\\\\\\\\' + 'colhead{Idx.}'\\nfor col in col_names:\\n    s += ' & \\\\\\\\' + 'colhead{(' + col.split(' (')[1] + '}'\\ns += '}'\\nprint(s)\";\n",
       "                var nbb_formatted_code = \"s = \\\"\\\"\\ns += \\\"\\\\\\\\\\\" + \\\"tablehead{\\\"\\ns += \\\"\\\\\\\\\\\" + \\\"colhead{Burst}\\\"\\nfor col in col_names:\\n    s += \\\" & \\\\\\\\\\\" + \\\"colhead{\\\" + col.split(\\\" (\\\")[0] + \\\"}\\\"\\ns += \\\"\\\\\\\\\\\\\\\\\\\"\\ns += \\\"\\\\n\\\"\\ns += \\\"\\\\\\\\\\\" + \\\"colhead{Idx.}\\\"\\nfor col in col_names:\\n    s += \\\" & \\\\\\\\\\\" + \\\"colhead{(\\\" + col.split(\\\" (\\\")[1] + \\\"}\\\"\\ns += \\\"}\\\"\\nprint(s)\";\n",
       "                var nbb_cells = Jupyter.notebook.get_cells();\n",
       "                for (var i = 0; i < nbb_cells.length; ++i) {\n",
       "                    if (nbb_cells[i].input_prompt_number == nbb_cell_id) {\n",
       "                        if (nbb_cells[i].get_text() == nbb_unformatted_code) {\n",
       "                             nbb_cells[i].set_text(nbb_formatted_code);\n",
       "                        }\n",
       "                        break;\n",
       "                    }\n",
       "                }\n",
       "            }, 500);\n",
       "            "
      ],
      "text/plain": [
       "<IPython.core.display.Javascript object>"
      ]
     },
     "metadata": {},
     "output_type": "display_data"
    }
   ],
   "source": [
    "s = \"\"\n",
    "s += \"\\\\\" + \"tablehead{\"\n",
    "s += \"\\\\\" + \"colhead{Burst}\"\n",
    "for col in col_names:\n",
    "    s += \" & \\\\\" + \"colhead{\" + col.split(\" (\")[0] + \"}\"\n",
    "s += \"\\\\\\\\\"\n",
    "s += \"\\n\"\n",
    "s += \"\\\\\" + \"colhead{Idx.}\"\n",
    "for col in col_names:\n",
    "    s += \" & \\\\\" + \"colhead{(\" + col.split(\" (\")[1] + \"}\"\n",
    "s += \"}\"\n",
    "print(s)"
   ]
  },
  {
   "cell_type": "markdown",
   "metadata": {},
   "source": [
    "Print Table"
   ]
  },
  {
   "cell_type": "code",
   "execution_count": 10,
   "metadata": {},
   "outputs": [
    {
     "name": "stdout",
     "output_type": "stream",
     "text": [
      "B1$*$ & $1558^{+30}_{-30}$ & $212^{+40}_{-40}$ & $0.09^{+0.02}_{-0.02}$ & 57644.408906976(1) & $0.0^{+0.02}_{-0.02}$ & $1.9^{+0.3}_{-0.3}$ & $565.3^{+0.4}_{-0.4}$\\\\\n",
      "B2$*$ & $1201^{+10}_{-10}$ & $50^{+10}_{-10}$ & $0.043^{+0.007}_{-0.007}$ & 57644.40956768(1) & $1.35^{+0.05}_{-0.05}$ & - & $562.4^{+0.8}_{-0.8}$\\\\\n",
      "B3.1$\\dagger$ & $2944^{+300}_{-600}$ & $751^{+300}_{-200}$ & $0.6^{+0.7}_{-0.3}$ & 57644.409673699(3) & $0.4^{+0.2}_{-0.2}$ & $1.3^{+0.7}_{-0.7}$ & $566.8^{+0.8}_{-0.9}$\\\\\n",
      "B3.2$\\dagger$ & $1146^{+300}_{-1400}$ & $1268^{+2000}_{-1000}$ & $0.09^{+0.13}_{-0.04}$ & 57644.40967384(2) & $0.3^{+1.4}_{-0.2}$ & $0.3^{+0.7}_{-0.1}$ & $564.7^{+1.5}_{-0.4}$\\\\\n",
      "B4$\\dagger$ & $3074^{+200}_{-600}$ & $549^{+80}_{-110}$ & $2^{+4}_{-2}$ & 57644.410072889(4) & $1.1^{+0.2}_{-0.2}$ & $0.3^{+0.2}_{-0.1}$ & $563^{+1}_{-1}$\\\\\n",
      "B5$\\dagger$ & $2100^{+900}_{-1600}$ & $2703^{+900}_{-1200}$ & $0.19^{+0.05}_{-0.04}$ & 57644.410157834(4) & $0.7^{+0.3}_{-0.3}$ & $1.0^{+0.4}_{-0.3}$ & $562.1^{+0.7}_{-0.6}$\\\\\n",
      "B6.1 & $1393^{+7}_{-7}$ & $182^{+7}_{-7}$ & $0.47^{+0.02}_{-0.03}$ & 57644.411071954(1) & $1.09^{+0.03}_{-0.04}$ & - & $562.3^{+0.2}_{-0.1}$\\\\\n",
      "B6.2 & $1417^{+4}_{-5}$ & $101^{+5}_{-4}$ & $0.33^{+0.03}_{-0.02}$ & 57644.4110719755(9) & $0.57^{+0.03}_{-0.02}$ & - & $560.9^{+0.2}_{-0.1}$\\\\\n",
      "B7.1$\\dagger$ & $3075^{+200}_{-300}$ & $432^{+60}_{-80}$ & $13^{+20}_{-10}$ & 57644.412240214(5) & $0.7^{+0.3}_{-0.4}$ & $0.8^{+0.4}_{-0.4}$ & $568^{+3}_{-3}$\\\\\n",
      "B7.2$\\dagger$ & $1463^{+20}_{-20}$ & $92^{+30}_{-20}$ & $0.09^{+0.01}_{-0.01}$ & 57644.41224043(2) & $1.9^{+0.9}_{-1.0}$ & $1.2^{+0.6}_{-0.5}$ & $568^{+3}_{-2}$\\\\\n",
      "B8$\\dagger$ & $3043^{+200}_{-600}$ & $651^{+100}_{-100}$ & $1.1^{+1.5}_{-0.7}$ & 57644.414123628(4) & $1.0^{+0.3}_{-0.3}$ & $0.8^{+0.4}_{-0.3}$ & $567.5^{+0.9}_{-0.7}$\\\\\n",
      "B9$*$ & $1428^{+10}_{-10}$ & $75^{+9}_{-9}$ & $0.076^{+0.003}_{-0.003}$ & 57644.41447161(2) & $2.0^{+0.6}_{-0.6}$ & $0.4^{+0.6}_{-0.6}$ & $564^{+2}_{-2}$\\\\\n",
      "B10 & $1625^{+10}_{-10}$ & $81^{+8}_{-8}$ & $0.1^{+0.01}_{-0.01}$ & 57644.414475391(7) & $1.4^{+0.3}_{-0.3}$ & $0.5^{+0.3}_{-0.2}$ & $562^{+3}_{-3}$\\\\\n",
      "B11 & $1554^{+10}_{-10}$ & $96^{+10}_{-10}$ & $0.074^{+0.008}_{-0.007}$ & 57644.414878803(4) & $0.8^{+0.2}_{-0.2}$ & $0.3^{+0.2}_{-0.1}$ & $560.3^{+0.9}_{-0.9}$\\\\\n",
      "B12 & $3050^{+200}_{-300}$ & $450^{+60}_{-80}$ & $18^{+20}_{-10}$ & 57644.41537809(1) & $1.9^{+0.5}_{-0.5}$ & $1.5^{+1.3}_{-0.8}$ & $568^{+3}_{-4}$\\\\\n",
      "B13 & $1691^{+13}_{-9}$ & $88^{+20}_{-10}$ & $0.14^{+0.01}_{-0.01}$ & 57644.416314736(5) & $1.5^{+0.2}_{-0.2}$ & $0.6^{+0.3}_{-0.2}$ & $571^{+1}_{-1}$\\\\\n",
      "B14 & $1264^{+10}_{-10}$ & $67^{+9}_{-8}$ & $0.13^{+0.02}_{-0.02}$ & 57644.41830674(8) & $2^{+1}_{-1}$ & $1.6^{+0.6}_{-0.5}$ & $562^{+6}_{-5}$\\\\\n",
      "B15.1$\\dagger$ & $1545^{+10}_{-10}$ & $79^{+10}_{-10}$ & $0.07^{+0.01}_{-0.01}$ & 57644.418309206(7) & $0.9^{+0.3}_{-0.3}$ & $0.8^{+0.5}_{-0.4}$ & $564^{+2}_{-1}$\\\\\n",
      "B15.2$\\dagger$ & $1571^{+1000}_{-1000}$ & $2666^{+1000}_{-1000}$ & $0.12^{+0.03}_{-0.04}$ & 57644.418309273(2) & $0.2^{+0.2}_{-0.1}$ & $0.7^{+0.2}_{-0.2}$ & $569.4^{+0.4}_{-0.5}$\\\\\n",
      "B16$\\dagger$ & $3060^{+200}_{-600}$ & $510^{+60}_{-110}$ & $5^{+9}_{-5}$ & 57644.420508580(4) & $1.2^{+0.2}_{-0.2}$ & $0.5^{+0.3}_{-0.2}$ & $570^{+2}_{-2}$\\\\\n",
      "B17 & $2023^{+1000}_{-2000}$ & $2586^{+1000}_{-1000}$ & $0.15^{+0.05}_{-0.04}$ & 57644.42110545(1) & $1.5^{+0.6}_{-0.5}$ & $0.7^{+1.0}_{-0.4}$ & $570^{+1}_{-2}$\\\\\n",
      "B18$*$ & $1526^{+30}_{-30}$ & $136^{+30}_{-30}$ & $0.046^{+0.008}_{-0.008}$ & 57644.426303862(4) & $1.5^{+0.1}_{-0.1}$ & - & $564.8^{+0.8}_{-0.8}$\\\\\n",
      "B19$*$ & $1325^{+30}_{-30}$ & $155^{+20}_{-20}$ & $0.11^{+0.02}_{-0.02}$ & 57644.42721003(2) & $1.9^{+0.8}_{-0.8}$ & $1.6^{+0.5}_{-0.5}$ & $563^{+1}_{-1}$\\\\\n",
      "B20$\\dagger$ & $2855^{+400}_{-1000}$ & $1048^{+2000}_{-400}$ & $0.23^{+0.47}_{-0.08}$ & 57644.427376859(4) & $0.7^{+0.3}_{-0.3}$ & $0.6^{+0.5}_{-0.3}$ & $565.6^{+0.8}_{-0.6}$\\\\\n",
      "B21$\\dagger$ & $3103^{+200}_{-400}$ & $600^{+100}_{-100}$ & $2^{+7}_{-2}$ & 57644.42794036(2) & $4.2^{+0.9}_{-1.0}$ & $1.8^{+1.7}_{-0.8}$ & $576^{+4}_{-5}$\\\\\n",
      "B22$\\dagger$ & $2991^{+300}_{-700}$ & $655^{+100}_{-200}$ & $1.3^{+1.7}_{-0.9}$ & 57644.428593784(8) & $1.9^{+0.4}_{-0.4}$ & $1.5^{+0.6}_{-0.6}$ & $567^{+2}_{-2}$\\\\\n",
      "B23 & $1698^{+14}_{-9}$ & $74^{+20}_{-10}$ & $0.089^{+0.009}_{-0.008}$ & 57644.430170170(2) & $0.7^{+0.1}_{-0.1}$ & $0.3^{+0.2}_{-0.1}$ & $569.0^{+1.0}_{-1.0}$\\\\\n",
      "B24$*$ & $1670^{+20}_{-20}$ & $83^{+20}_{-20}$ & $0.0384^{+0.0007}_{-0.0007}$ & 57644.430170303(1) & $0.02^{+0.05}_{-0.05}$ & $1.2^{+0.3}_{-0.3}$ & $563.0^{+0.5}_{-0.5}$\\\\\n",
      "B25 & $1753^{+1380}_{-70}$ & $201^{+390}_{-60}$ & $0.16^{+3.67}_{-0.03}$ & 57644.430171419(4) & $1.4^{+0.2}_{-0.2}$ & $0.7^{+0.3}_{-0.3}$ & $568^{+1}_{-1}$\\\\\n",
      "B26 & $1469^{+10}_{-10}$ & $110^{+20}_{-10}$ & $0.096^{+0.009}_{-0.009}$ & 57644.431295361(4) & $0.8^{+0.2}_{-0.2}$ & $0.5^{+0.2}_{-0.2}$ & $565.6^{+0.7}_{-0.7}$\\\\\n",
      "B27 & $1344^{+70}_{-1400}$ & $1123^{+2000}_{-1000}$ & $0.17^{+0.11}_{-0.09}$ & 57644.43223490(2) & $2.0^{+1.0}_{-0.7}$ & $1.1^{+0.5}_{-0.4}$ & $569^{+2}_{-2}$\\\\\n",
      "B28 & $1753^{+40}_{-20}$ & $96^{+20}_{-10}$ & $0.14^{+0.03}_{-0.02}$ & 57644.432242722(1) & $0.59^{+0.05}_{-0.05}$ & $0.16^{+0.09}_{-0.05}$ & $561.3^{+0.5}_{-0.5}$\\\\\n",
      "B29 & $1682^{+1440}_{-30}$ & $126^{+480}_{-40}$ & $0.06^{+1.5}_{-0.01}$ & 57644.434045197(4) & $0.6^{+0.2}_{-0.2}$ & $0.4^{+0.4}_{-0.2}$ & $561^{+1}_{-3}$\\\\\n",
      "B30 & $1438^{+10}_{-10}$ & $96^{+20}_{-10}$ & $0.12^{+0.01}_{-0.01}$ & 57644.43636575(2) & $2.1^{+0.6}_{-0.5}$ & $1.2^{+0.5}_{-0.4}$ & $568^{+2}_{-3}$\\\\\n",
      "B31 & $1501^{+6}_{-6}$ & $100^{+8}_{-7}$ & $0.19^{+0.01}_{-0.01}$ & 57644.438794966(4) & $1.6^{+0.1}_{-0.2}$ & $0.5^{+0.1}_{-0.1}$ & $566.6^{+0.7}_{-0.7}$\\\\\n",
      "B32 & $1410^{+8}_{-8}$ & $78^{+9}_{-8}$ & $0.14^{+0.01}_{-0.01}$ & 57644.43884518(1) & $1.7^{+0.3}_{-0.4}$ & $0.6^{+0.4}_{-0.3}$ & $564^{+1}_{-1}$\\\\\n",
      "B33 & $1476^{+20}_{-20}$ & $122^{+20}_{-20}$ & $0.08^{+0.01}_{-0.01}$ & 57644.439212855(8) & $1.2^{+0.3}_{-0.4}$ & $0.6^{+0.6}_{-0.3}$ & $563.0^{+1.0}_{-1.0}$\\\\\n",
      "B34$\\dagger$ & $2559^{+600}_{-1400}$ & $2052^{+1000}_{-1000}$ & $0.27^{+0.1}_{-0.06}$ & 57644.440688613(5) & $1.3^{+0.4}_{-0.4}$ & $1.0^{+0.4}_{-0.3}$ & $567.0^{+0.8}_{-0.9}$\\\\\n",
      "B35 & $1706^{+5}_{-5}$ & $60^{+6}_{-5}$ & $0.24^{+0.01}_{-0.01}$ & 57644.442997729(6) & $2.8^{+0.2}_{-0.2}$ & $0.7^{+0.4}_{-0.2}$ & $575^{+3}_{-3}$\\\\\n",
      "B36$\\dagger$ & $3103^{+200}_{-400}$ & $474^{+70}_{-90}$ & $13^{+20}_{-10}$ & 57644.44358918(2) & $2^{+2}_{-1}$ & $2^{+2}_{-1}$ & $574^{+11}_{-6}$\\\\\n",
      "B37 & $1411^{+20}_{-20}$ & $133^{+30}_{-20}$ & $0.065^{+0.007}_{-0.008}$ & 57644.443590029(3) & $0.58^{+0.11}_{-0.09}$ & $0.14^{+0.1}_{-0.04}$ & $562.8^{+0.5}_{-0.4}$\\\\\n",
      "B38 & $1618^{+20}_{-20}$ & $110^{+20}_{-20}$ & $0.1^{+0.01}_{-0.01}$ & 57644.445225058(7) & $0.9^{+0.5}_{-0.5}$ & $1.9^{+0.7}_{-0.9}$ & $567^{+2}_{-2}$\\\\\n",
      "B39 & $1503^{+10}_{-20}$ & $126^{+10}_{-10}$ & $0.057^{+0.01}_{-0.006}$ & 57644.446788124(1) & $0.21^{+0.04}_{-0.04}$ & $0.12^{+0.13}_{-0.05}$ & $560.9^{+0.1}_{-0.2}$\\\\\n",
      "B40 & $1588^{+10}_{-10}$ & $81^{+11}_{-9}$ & $0.12^{+0.02}_{-0.02}$ & 57644.447567822(8) & $1.1^{+0.5}_{-0.4}$ & $2.0^{+0.8}_{-0.7}$ & $559^{+3}_{-3}$\\\\\n",
      "B41$*$ & $1378^{+1}_{-1}$ & $30^{+1}_{-1}$ & $0.4^{+0.02}_{-0.02}$ & 57644.44772750(2) & $0.8^{+0.2}_{-0.2}$ & $3.0^{+0.2}_{-0.2}$ & $558^{+2}_{-2}$\\\\\n",
      "B42 & $1668^{+10}_{-10}$ & $108^{+20}_{-20}$ & $0.099^{+0.009}_{-0.008}$ & 57644.449915568(3) & $0.9^{+0.2}_{-0.2}$ & $0.4^{+0.2}_{-0.2}$ & $566.0^{+0.8}_{-0.7}$\\\\\n",
      "B43 & $1682^{+12}_{-9}$ & $123^{+20}_{-10}$ & $0.22^{+0.01}_{-0.01}$ & 57644.451605444(1) & $0.79^{+0.1}_{-0.09}$ & $0.9^{+0.1}_{-0.1}$ & $568.2^{+0.5}_{-0.5}$\\\\\n",
      "B44$\\dagger$ & $3133^{+200}_{-400}$ & $521^{+50}_{-70}$ & $10^{+13}_{-7}$ & 57644.452389712(6) & $1.8^{+0.3}_{-0.3}$ & $1.1^{+0.5}_{-0.5}$ & $568^{+2}_{-4}$\\\\\n",
      "B45 & $1706^{+1490}_{-60}$ & $161^{+470}_{-70}$ & $0.07^{+1.81}_{-0.02}$ & 57644.453937473(4) & $0.9^{+0.2}_{-0.4}$ & $0.5^{+0.4}_{-0.2}$ & $562^{+1}_{-1}$\\\\\n",
      "B46 & $1371^{+2}_{-2}$ & $61^{+2}_{-2}$ & $0.41^{+0.01}_{-0.01}$ & 57644.454477404(8) & $2.8^{+0.2}_{-0.2}$ & $0.6^{+0.1}_{-0.1}$ & $569.6^{+0.8}_{-0.8}$\\\\\n",
      "B47 & $894^{+800}_{-1100}$ & $2011^{+1000}_{-2000}$ & $0.15^{+0.04}_{-0.09}$ & 57644.457883227(3) & $0.5^{+0.1}_{-0.1}$ & $0.23^{+0.14}_{-0.09}$ & $561.9^{+0.3}_{-0.2}$\\\\\n",
      "B48.1$\\dagger$ & $2930^{+300}_{-1200}$ & $554^{+2500}_{-100}$ & $1^{+15}_{-1}$ & 57644.464507488(7) & $0.4^{+0.4}_{-0.3}$ & $0.7^{+0.6}_{-0.3}$ & $565^{+4}_{-2}$\\\\\n",
      "B48.2$\\dagger$ & $42^{+1300}_{-500}$ & $546^{+500}_{-400}$ & $0.7^{+26.2}_{-0.6}$ & 57644.4645075(2) & $0.9^{+3.2}_{-0.6}$ & $0.7^{+3.6}_{-0.4}$ & $564^{+100}_{-200}$\\\\\n",
      "B49.1 & $1662^{+10}_{-10}$ & $135^{+20}_{-10}$ & $0.49^{+0.03}_{-0.03}$ & 57644.46475893(1) & $8.3^{+0.5}_{-0.5}$ & $2.0^{+0.7}_{-0.6}$ & $568^{+4}_{-4}$\\\\\n",
      "B49.2 & $2408^{+700}_{-1400}$ & $2188^{+1000}_{-1000}$ & $0.16^{+0.05}_{-0.04}$ & 57644.464759903(1) & $0.2^{+0.1}_{-0.1}$ & $0.6^{+0.2}_{-0.1}$ & $561.3^{+0.3}_{-0.2}$\\\\\n",
      "B50 & $1459^{+10}_{-10}$ & $85^{+10}_{-10}$ & $0.13^{+0.02}_{-0.01}$ & 57644.46476275(1) & $1.3^{+1.0}_{-0.9}$ & $1.7^{+0.6}_{-0.8}$ & $561^{+2}_{-2}$\\\\\n",
      "B51$\\dagger$ & $2510^{+600}_{-900}$ & $951^{+1000}_{-700}$ & $0.3^{+0.2}_{-0.2}$ & 57644.465729923(7) & $1.4^{+0.6}_{-0.4}$ & $1.2^{+0.5}_{-0.4}$ & $568^{+1}_{-1}$\\\\\n",
      "B52 & $1667^{+5}_{-4}$ & $73^{+6}_{-5}$ & $0.185^{+0.009}_{-0.009}$ & 57644.466222289(4) & $1.4^{+0.1}_{-0.2}$ & $0.6^{+0.2}_{-0.2}$ & $569^{+1}_{-1}$\\\\\n",
      "B53 & $1715^{+30}_{-20}$ & $121^{+30}_{-20}$ & $0.19^{+0.03}_{-0.02}$ & 57644.468095365(4) & $1.5^{+0.2}_{-0.2}$ & $1.1^{+0.3}_{-0.3}$ & $571^{+1}_{-1}$\\\\\n",
      "B54$*$ & $1596^{+600}_{-600}$ & $124^{+100}_{-100}$ & $0.0^{+0.1}_{-0.1}$ & 57644.47117767(7) & $0^{+10}_{-10}$ & $0.9^{+0.2}_{-0.2}$ & $564^{+40}_{-40}$\\\\\n",
      "B55 & $1648^{+10}_{-10}$ & $95^{+10}_{-10}$ & $0.13^{+0.01}_{-0.01}$ & 57644.474717918(6) & $1.4^{+0.3}_{-0.2}$ & $1.3^{+0.5}_{-0.5}$ & $569^{+2}_{-2}$\\\\\n",
      "B56 & $1706^{+4}_{-4}$ & $53^{+6}_{-5}$ & $0.16^{+0.01}_{-0.01}$ & 57644.477082041(3) & $0.9^{+0.2}_{-0.1}$ & $0.9^{+0.2}_{-0.2}$ & $559^{+2}_{-2}$\\\\\n",
      "B57 & $1530^{+6}_{-6}$ & $185^{+6}_{-6}$ & $0.254^{+0.006}_{-0.005}$ & 57645.4110889611(4) & $0.48^{+0.03}_{-0.02}$ & $0.21^{+0.02}_{-0.02}$ & $561.75^{+0.06}_{-0.06}$\\\\\n",
      "B58 & $1462^{+6}_{-6}$ & $77^{+6}_{-5}$ & $0.129^{+0.008}_{-0.008}$ & 57645.411651653(4) & $0.9^{+0.1}_{-0.1}$ & $0.4^{+0.1}_{-0.1}$ & $564.4^{+0.6}_{-0.7}$\\\\\n",
      "B59 & $1536^{+5}_{-4}$ & $68^{+4}_{-4}$ & $0.2^{+0.01}_{-0.01}$ & 57645.411889086(9) & $2.2^{+0.4}_{-0.3}$ & $1.1^{+0.3}_{-0.3}$ & $567^{+2}_{-2}$\\\\\n",
      "B60.1 & $2952^{+300}_{-1000}$ & $444^{+80}_{-220}$ & $4^{+6}_{-4}$ & 57645.412281872(4) & $0.8^{+0.2}_{-0.1}$ & $0.3^{+0.3}_{-0.2}$ & $566^{+2}_{-2}$\\\\\n",
      "B60.2 & $2269^{+900}_{-600}$ & $480^{+300}_{-300}$ & $0.4^{+1.6}_{-0.2}$ & 57645.412281990(6) & $0.9^{+0.6}_{-0.5}$ & $2.5^{+0.6}_{-0.5}$ & $561^{+2}_{-2}$\\\\\n",
      "B61$\\dagger$ & $1437^{+1000}_{-1000}$ & $2809^{+900}_{-1100}$ & $0.25^{+0.08}_{-0.07}$ & 57645.41286869(2) & $2.0^{+2.0}_{-1.0}$ & $2^{+2}_{-1}$ & $579^{+3}_{-13}$\\\\\n",
      "B62 & $1574^{+10}_{-10}$ & $110^{+10}_{-10}$ & $0.12^{+0.01}_{-0.009}$ & 57645.413644740(5) & $1.3^{+0.2}_{-0.2}$ & $0.6^{+0.3}_{-0.2}$ & $567^{+1}_{-1}$\\\\\n",
      "B63 & $1276^{+10}_{-10}$ & $85^{+11}_{-9}$ & $0.1^{+0.01}_{-0.01}$ & 57645.41609534(1) & $0.8^{+0.2}_{-0.2}$ & $0.6^{+0.2}_{-0.1}$ & $562.0^{+0.8}_{-0.9}$\\\\\n",
      "B64$\\dagger$ & $1824^{+1000}_{-1000}$ & $2631^{+1000}_{-1000}$ & $0.32^{+0.09}_{-0.09}$ & 57645.41639521(1) & $1.4^{+0.5}_{-0.5}$ & $2^{+1}_{-1}$ & $564^{+3}_{-2}$\\\\\n",
      "B65 & $1549^{+10}_{-10}$ & $108^{+20}_{-10}$ & $0.091^{+0.009}_{-0.009}$ & 57645.416564818(6) & $1.2^{+0.2}_{-0.2}$ & $0.6^{+0.3}_{-0.2}$ & $566.0^{+1.0}_{-1.0}$\\\\\n",
      "B66 & $1438^{+10}_{-10}$ & $117^{+10}_{-10}$ & $0.105^{+0.009}_{-0.008}$ & 57645.417467306(6) & $1.6^{+0.2}_{-0.2}$ & - & $567.7^{+0.7}_{-0.7}$\\\\\n",
      "B67 & $1639^{+30}_{-20}$ & $175^{+30}_{-30}$ & $0.099^{+0.009}_{-0.008}$ & 57645.417897463(2) & $0.8^{+0.1}_{-0.1}$ & $0.3^{+0.1}_{-0.1}$ & $564.8^{+0.5}_{-0.5}$\\\\\n",
      "B68$\\dagger$ & $2078^{+1000}_{-1000}$ & $2389^{+1000}_{-1000}$ & $0.2^{+0.05}_{-0.06}$ & 57645.419005902(8) & $1.0^{+0.6}_{-0.5}$ & $0.9^{+0.4}_{-0.4}$ & $567.9^{+0.9}_{-1.3}$\\\\\n",
      "B69 & $1452^{+20}_{-10}$ & $84^{+10}_{-10}$ & $0.059^{+0.009}_{-0.009}$ & 57645.41920745(1) & $0.7^{+0.3}_{-0.3}$ & $0.5^{+0.3}_{-0.2}$ & $564^{+1}_{-1}$\\\\\n",
      "B70$\\dagger$ & $3084^{+200}_{-500}$ & $636^{+100}_{-100}$ & $0.9^{+1.7}_{-0.6}$ & 57645.419896226(4) & $0.8^{+0.3}_{-0.3}$ & $0.8^{+0.4}_{-0.3}$ & $563^{+1}_{-1}$\\\\\n",
      "B71 & $1377^{+5}_{-4}$ & $78^{+5}_{-4}$ & $0.34^{+0.02}_{-0.02}$ & 57645.420265931(9) & $1.0^{+0.2}_{-0.2}$ & $2.6^{+0.2}_{-0.2}$ & $561.1^{+0.9}_{-1.0}$\\\\\n",
      "B72$\\dagger$ & $3083^{+200}_{-500}$ & $655^{+200}_{-100}$ & $1.2^{+3.4}_{-0.8}$ & 57645.420600439(9) & $1.2^{+0.7}_{-0.8}$ & $2^{+1}_{-1}$ & $558^{+2}_{-2}$\\\\\n",
      "B73$\\dagger$ & $3080^{+200}_{-500}$ & $616^{+100}_{-100}$ & $1^{+3}_{-1}$ & 57645.420679524(7) & $1.5^{+0.6}_{-0.8}$ & $1.7^{+0.8}_{-0.7}$ & $574^{+3}_{-3}$\\\\\n",
      "B74$\\dagger$ & $3134^{+200}_{-400}$ & $522^{+100}_{-90}$ & $4^{+12}_{-4}$ & 57645.420752363(6) & $1.2^{+0.8}_{-0.6}$ & $1.9^{+0.7}_{-0.9}$ & $551^{+11}_{-2}$\\\\\n",
      "B75$\\dagger$ & $2192^{+800}_{-1400}$ & $2710^{+900}_{-1200}$ & $0.39^{+0.07}_{-0.08}$ & 57645.421284056(4) & $0.9^{+0.3}_{-0.3}$ & $1.8^{+0.3}_{-0.3}$ & $567.6^{+0.9}_{-0.7}$\\\\\n",
      "B76 & $1408^{+10}_{-350}$ & $93^{+20}_{-10}$ & $0.05^{+0.111}_{-0.006}$ & 57645.421290699(5) & $0.42^{+0.25}_{-0.09}$ & $0.14^{+0.42}_{-0.05}$ & $561.6^{+0.6}_{-0.5}$\\\\\n",
      "B77 & $1311^{+5}_{-5}$ & $51^{+6}_{-6}$ & $0.12^{+0.01}_{-0.01}$ & 57645.42161300(2) & $1.3^{+0.5}_{-0.5}$ & $0.7^{+0.2}_{-0.2}$ & $565^{+2}_{-2}$\\\\\n",
      "B78 & $1172^{+20}_{-40}$ & $77^{+40}_{-10}$ & $0.11^{+0.03}_{-0.02}$ & 57645.42184846(1) & $0.9^{+0.3}_{-0.2}$ & $0.28^{+0.14}_{-0.08}$ & $562.4^{+0.7}_{-0.9}$\\\\\n",
      "B79 & $1702^{+4}_{-4}$ & $56^{+6}_{-5}$ & $0.18^{+0.01}_{-0.01}$ & 57645.421872443(3) & $1.2^{+0.2}_{-0.2}$ & $1.7^{+0.3}_{-0.3}$ & $568^{+2}_{-2}$\\\\\n",
      "B80 & $1600^{+7}_{-8}$ & $80^{+8}_{-7}$ & $0.13^{+0.01}_{-0.01}$ & 57645.422454976(3) & $0.5^{+0.3}_{-0.2}$ & $1.3^{+0.2}_{-0.3}$ & $564.4^{+1.0}_{-0.8}$\\\\\n",
      "B81 & $1717^{+390}_{-10}$ & $64^{+310}_{-20}$ & $0.05^{+0.1}_{-0.01}$ & 57645.423009490(6) & $0.78^{+0.08}_{-0.18}$ & $0.6^{+0.1}_{-0.2}$ & $563^{+8}_{-5}$\\\\\n",
      "B82$\\dagger$ & $3140^{+200}_{-400}$ & $575^{+60}_{-70}$ & $3^{+4}_{-2}$ & 57645.424145870(2) & $1.3^{+0.1}_{-0.1}$ & - & $569.2^{+0.7}_{-0.7}$\\\\\n",
      "B83$\\dagger$ & $2440^{+700}_{-1300}$ & $1928^{+2000}_{-1000}$ & $0.15^{+0.07}_{-0.04}$ & 57645.424617988(6) & $0.7^{+0.3}_{-0.3}$ & $0.4^{+0.2}_{-0.2}$ & $564.7^{+0.7}_{-0.5}$\\\\\n",
      "B84$\\dagger$ & $3035^{+300}_{-700}$ & $579^{+100}_{-200}$ & $1^{+3}_{-1}$ & 57645.425478263(8) & $1.0^{+0.8}_{-0.6}$ & $1.7^{+0.9}_{-0.9}$ & $563^{+2}_{-3}$\\\\\n",
      "B85$*$ & $1309^{+20}_{-20}$ & $133^{+20}_{-20}$ & $0.11^{+0.02}_{-0.02}$ & 57645.426746546(2) & $0.01^{+0.06}_{-0.06}$ & $2.0^{+0.4}_{-0.4}$ & $566.1^{+0.2}_{-0.2}$\\\\\n",
      "B86 & $1550^{+10}_{-10}$ & $76^{+10}_{-10}$ & $0.067^{+0.009}_{-0.008}$ & 57645.426792398(7) & $0.6^{+0.4}_{-0.3}$ & $0.9^{+0.3}_{-0.3}$ & $562^{+1}_{-1}$\\\\\n",
      "B87 & $1756^{+440}_{-50}$ & $192^{+200}_{-50}$ & $0.2^{+0.38}_{-0.03}$ & 57645.426922532(4) & $1.4^{+0.2}_{-0.2}$ & $0.9^{+0.3}_{-0.3}$ & $571.1^{+0.9}_{-0.9}$\\\\\n",
      "B88.1 & $1894^{+1000}_{-1000}$ & $2407^{+1000}_{-2000}$ & $0.17^{+0.06}_{-0.06}$ & 57645.427338932(7) & $0.7^{+0.4}_{-0.3}$ & $1.0^{+0.7}_{-0.5}$ & $561^{+2}_{-4}$\\\\\n",
      "B88.2 & $1458^{+20}_{-10}$ & $129^{+20}_{-20}$ & $0.11^{+0.01}_{-0.01}$ & 57645.427339178(9) & $2.4^{+0.4}_{-0.3}$ & - & $561^{+1}_{-2}$\\\\\n",
      "B89 & $1479^{+8}_{-8}$ & $119^{+8}_{-7}$ & $0.18^{+0.01}_{-0.01}$ & 57645.428904793(6) & $2.4^{+0.2}_{-0.2}$ & - & $569.0^{+0.7}_{-0.8}$\\\\\n",
      "B90 & $1418^{+40}_{-500}$ & $118^{+2790}_{-30}$ & $0.09^{+0.11}_{-0.02}$ & 57645.42990044(2) & $2.4^{+0.6}_{-0.6}$ & $0.8^{+0.6}_{-0.3}$ & $564^{+2}_{-2}$\\\\\n",
      "B91 & $1476^{+9}_{-9}$ & $80^{+10}_{-8}$ & $0.12^{+0.01}_{-0.01}$ & 57645.43034452(2) & $3.1^{+0.4}_{-0.4}$ & - & $571^{+2}_{-2}$\\\\\n",
      "B92 & $1721^{+4}_{-4}$ & $38^{+6}_{-4}$ & $0.17^{+0.02}_{-0.02}$ & 57645.43044763(1) & $2.6^{+0.8}_{-0.7}$ & $3^{+1}_{-1}$ & $575^{+10}_{-10}$\\\\\n",
      "B93.1 & $1591^{+9}_{-9}$ & $106^{+10}_{-9}$ & $0.126^{+0.008}_{-0.008}$ & 57645.430622487(3) & $1.2^{+0.1}_{-0.2}$ & $0.4^{+0.2}_{-0.2}$ & $565.3^{+0.8}_{-0.9}$\\\\\n",
      "B93.2 & $1619^{+10}_{-10}$ & $122^{+20}_{-20}$ & $0.13^{+0.01}_{-0.01}$ & 57645.430622591(7) & $1.7^{+0.3}_{-0.3}$ & $0.8^{+0.4}_{-0.3}$ & $564^{+2}_{-2}$\\\\\n",
      "B94$\\dagger$ & $3086^{+200}_{-600}$ & $498^{+60}_{-120}$ & $6^{+10}_{-6}$ & 57645.431306274(4) & $1.1^{+0.2}_{-0.2}$ & $0.6^{+0.4}_{-0.3}$ & $565^{+2}_{-4}$\\\\\n",
      "B95 & $1692^{+11}_{-8}$ & $91^{+20}_{-10}$ & $0.095^{+0.007}_{-0.007}$ & 57645.431478373(2) & $0.69^{+0.08}_{-0.08}$ & $0.22^{+0.12}_{-0.08}$ & $563.5^{+0.6}_{-0.5}$\\\\\n",
      "B96$\\dagger$ & $1561^{+1000}_{-2000}$ & $2832^{+800}_{-1100}$ & $0.2^{+0.06}_{-0.05}$ & 57645.43254531(2) & $2.1^{+0.8}_{-0.9}$ & $0.9^{+0.6}_{-0.3}$ & $564^{+2}_{-1}$\\\\\n",
      "B97$\\dagger$ & $2886^{+400}_{-800}$ & $804^{+500}_{-200}$ & $0.3^{+0.4}_{-0.1}$ & 57645.433086695(3) & $0.6^{+0.4}_{-0.4}$ & $1.0^{+0.4}_{-0.4}$ & $562.4^{+0.9}_{-0.5}$\\\\\n",
      "B98 & $1667^{+7}_{-7}$ & $66^{+8}_{-7}$ & $0.094^{+0.01}_{-0.009}$ & 57645.434330453(5) & $1.1^{+0.2}_{-0.2}$ & $0.7^{+0.3}_{-0.3}$ & $559^{+2}_{-2}$\\\\\n",
      "B99$\\dagger$ & $1601^{+1000}_{-2000}$ & $2819^{+800}_{-1100}$ & $0.13^{+0.03}_{-0.03}$ & 57645.440066847(4) & $0.8^{+0.2}_{-0.2}$ & $0.3^{+0.2}_{-0.1}$ & $565.8^{+0.4}_{-0.4}$\\\\\n",
      "B100 & $1687^{+4}_{-4}$ & $62^{+5}_{-5}$ & $0.154^{+0.008}_{-0.007}$ & 57645.440814641(2) & $1.0^{+0.1}_{-0.1}$ & $0.5^{+0.2}_{-0.2}$ & $567.0^{+1.0}_{-1.0}$\\\\\n",
      "B101$*$ & $1510^{+20}_{-20}$ & $133^{+20}_{-20}$ & $0.042^{+0.006}_{-0.006}$ & 57645.441999925(3) & $0.87^{+0.02}_{-0.02}$ & - & $568.6^{+0.4}_{-0.4}$\\\\\n",
      "B102 & $2012^{+1200}_{-300}$ & $341^{+300}_{-200}$ & $0.2^{+2.7}_{-0.1}$ & 57645.442100164(8) & $2.1^{+0.4}_{-0.4}$ & $0.8^{+0.6}_{-0.4}$ & $563^{+2}_{-2}$\\\\\n",
      "B103 & $1469^{+10}_{-10}$ & $87^{+10}_{-10}$ & $0.08^{+0.01}_{-0.01}$ & 57645.44263325(1) & $1.4^{+0.3}_{-0.3}$ & $0.6^{+0.5}_{-0.3}$ & $562^{+1}_{-1}$\\\\\n",
      "B104$*$ & $1460^{+60}_{-60}$ & $93^{+20}_{-20}$ & $0.07^{+0.09}_{-0.09}$ & 57645.4427413(1) & $0^{+2}_{-2}$ & $2.1^{+0.5}_{-0.5}$ & $568^{+8}_{-8}$\\\\\n",
      "B105 & $1671^{+10}_{-10}$ & $107^{+20}_{-20}$ & $0.095^{+0.008}_{-0.007}$ & 57645.444480955(2) & $0.51^{+0.1}_{-0.09}$ & $0.5^{+0.1}_{-0.1}$ & $565.4^{+0.5}_{-0.5}$\\\\\n",
      "B106 & $1480^{+7}_{-8}$ & $96^{+10}_{-9}$ & $0.16^{+0.01}_{-0.01}$ & 57645.444919472(7) & $2.0^{+0.2}_{-0.2}$ & $0.5^{+0.2}_{-0.1}$ & $565^{+1}_{-1}$\\\\\n",
      "B107 & $2780^{+300}_{-1000}$ & $368^{+70}_{-260}$ & $10^{+10}_{-10}$ & 57645.445443070(5) & $1.2^{+0.3}_{-0.3}$ & $0.9^{+0.4}_{-0.4}$ & $560^{+3}_{-2}$\\\\\n",
      "B108 & $1487^{+4}_{-4}$ & $83^{+4}_{-4}$ & $0.141^{+0.006}_{-0.006}$ & 57645.448802883(2) & $0.66^{+0.03}_{-0.03}$ & - & $561.1^{+0.3}_{-0.3}$\\\\\n",
      "B109 & $1460^{+5}_{-5}$ & $87^{+5}_{-5}$ & $0.24^{+0.01}_{-0.01}$ & 57645.449987035(8) & $2.8^{+0.2}_{-0.2}$ & - & $568^{+1}_{-1}$\\\\\n",
      "B110$*$ & $1619^{+10}_{-10}$ & $103^{+10}_{-10}$ & $0.1^{+0.01}_{-0.01}$ & 57645.451201066(8) & $1.7^{+0.4}_{-0.4}$ & $1.3^{+0.5}_{-0.5}$ & $561^{+2}_{-2}$\\\\\n",
      "B111 & $1468^{+6}_{-6}$ & $57^{+7}_{-6}$ & $0.109^{+0.01}_{-0.009}$ & 57645.45198993(1) & $1.6^{+0.2}_{-0.2}$ & $0.5^{+0.2}_{-0.1}$ & $563^{+2}_{-2}$\\\\\n",
      "B112 & $1441^{+4}_{-5}$ & $67^{+4}_{-4}$ & $0.142^{+0.008}_{-0.008}$ & 57645.453426198(4) & $0.59^{+0.08}_{-0.07}$ & $0.4^{+0.07}_{-0.06}$ & $563.1^{+0.6}_{-0.6}$\\\\\n",
      "B113 & $1699^{+4}_{-4}$ & $68^{+6}_{-5}$ & $0.29^{+0.01}_{-0.01}$ & 57645.453639067(4) & $2.5^{+0.1}_{-0.2}$ & $0.6^{+0.3}_{-0.2}$ & $569^{+2}_{-2}$\\\\\n",
      "B114 & $1569^{+20}_{-20}$ & $109^{+20}_{-20}$ & $0.07^{+0.01}_{-0.01}$ & 57645.453640216(3) & $0.3^{+0.2}_{-0.1}$ & $1.4^{+0.3}_{-0.3}$ & $566.5^{+0.7}_{-0.8}$\\\\\n",
      "B115 & $1725^{+30}_{-10}$ & $94^{+20}_{-20}$ & $0.19^{+0.03}_{-0.02}$ & 57645.454258102(7) & $2.3^{+0.3}_{-0.3}$ & $0.9^{+0.6}_{-0.4}$ & $569^{+3}_{-3}$\\\\\n",
      "B116$*$ & $1475^{+40}_{-40}$ & $261^{+60}_{-60}$ & $0.08^{+0.02}_{-0.02}$ & 57645.4544929400(9) & $0.05^{+0.07}_{-0.07}$ & $1.4^{+0.3}_{-0.3}$ & $565.7^{+0.2}_{-0.2}$\\\\\n",
      "B117 & $1576^{+20}_{-20}$ & $131^{+30}_{-20}$ & $0.1^{+0.02}_{-0.01}$ & 57645.45736147(1) & $1.8^{+0.9}_{-0.8}$ & $1.8^{+0.8}_{-0.8}$ & $562^{+3}_{-3}$\\\\\n",
      "B118 & $1577^{+30}_{-20}$ & $131^{+30}_{-20}$ & $0.1^{+0.02}_{-0.01}$ & 57645.45736147(1) & $1.7^{+0.9}_{-0.8}$ & $1.8^{+0.9}_{-0.8}$ & $562^{+3}_{-3}$\\\\\n",
      "B119 & $1667^{+60}_{-20}$ & $167^{+60}_{-30}$ & $0.21^{+0.04}_{-0.02}$ & 57645.458536220(6) & $1.2^{+0.4}_{-0.3}$ & $2.6^{+0.5}_{-0.5}$ & $568^{+2}_{-2}$\\\\\n",
      "B120 & $1685^{+1040}_{-30}$ & $127^{+380}_{-30}$ & $0.09^{+0.87}_{-0.01}$ & 57645.459103357(6) & $0.8^{+0.3}_{-0.5}$ & $1.2^{+0.5}_{-0.4}$ & $566^{+2}_{-2}$\\\\\n",
      "B121.1 & $1612^{+2}_{-2}$ & $89^{+2}_{-2}$ & $0.394^{+0.007}_{-0.007}$ & 57645.460053270(1) & $0.82^{+0.04}_{-0.04}$ & $0.25^{+0.06}_{-0.07}$ & $562.1^{+0.2}_{-0.2}$\\\\\n",
      "B121.2 & $1321^{+2}_{-3}$ & $178^{+2}_{-2}$ & $1.73^{+0.02}_{-0.02}$ & 57645.4600533283(4) & $0.95^{+0.02}_{-0.02}$ & $0.36^{+0.02}_{-0.01}$ & $561.98^{+0.03}_{-0.03}$\\\\\n",
      "B121.3 & $1180^{+9}_{-11}$ & $92^{+9}_{-8}$ & $0.35^{+0.03}_{-0.02}$ & 57645.460053409(4) & $1.22^{+0.09}_{-0.07}$ & - & $561.6^{+0.2}_{-0.3}$\\\\\n",
      "B122 & $1404^{+4}_{-4}$ & $70^{+5}_{-5}$ & $0.22^{+0.01}_{-0.01}$ & 57645.462106655(9) & $2.3^{+0.2}_{-0.2}$ & $0.5^{+0.2}_{-0.1}$ & $564^{+1}_{-1}$\\\\\n",
      "B123$*$ & $1693^{+20}_{-20}$ & $87^{+20}_{-20}$ & $0.09^{+0.02}_{-0.02}$ & 57645.462556118(6) & $1.1^{+0.4}_{-0.4}$ & $2.0^{+0.6}_{-0.6}$ & $567^{+3}_{-3}$\\\\\n",
      "B124 & $1564^{+10}_{-20}$ & $145^{+20}_{-20}$ & $0.094^{+0.008}_{-0.008}$ & 57645.464052738(3) & $1.0^{+0.2}_{-0.2}$ & $0.5^{+0.2}_{-0.2}$ & $565.3^{+0.5}_{-0.6}$\\\\\n",
      "B125 & $1595^{+10}_{-10}$ & $144^{+20}_{-20}$ & $0.121^{+0.01}_{-0.009}$ & 57645.464188555(4) & $1.2^{+0.2}_{-0.2}$ & $0.7^{+0.2}_{-0.2}$ & $564.4^{+0.8}_{-0.8}$\\\\\n",
      "B126 & $1595^{+1190}_{-60}$ & $225^{+2380}_{-90}$ & $0.07^{+0.13}_{-0.02}$ & 57645.464503855(6) & $0.9^{+0.4}_{-0.5}$ & $0.9^{+0.6}_{-0.4}$ & $567^{+2}_{-2}$\\\\\n",
      "B127 & $1966^{+1000}_{-1000}$ & $1970^{+1000}_{-2000}$ & $0.19^{+0.06}_{-0.11}$ & 57645.465133243(7) & $0.8^{+0.4}_{-0.4}$ & $1.2^{+0.6}_{-0.5}$ & $566.0^{+1.9}_{-0.7}$\\\\\n",
      "B128$\\dagger$ & $1480^{+1000}_{-1000}$ & $2685^{+900}_{-1500}$ & $0.25^{+0.05}_{-0.09}$ & 57645.466100959(6) & $1.1^{+0.2}_{-0.2}$ & $0.9^{+0.3}_{-0.3}$ & $567.0^{+0.7}_{-0.9}$\\\\\n",
      "B129 & $1707^{+1380}_{-20}$ & $89^{+450}_{-30}$ & $0.11^{+4.56}_{-0.02}$ & 57645.466379997(5) & $1.0^{+0.3}_{-0.3}$ & $1.3^{+0.4}_{-0.4}$ & $573^{+2}_{-3}$\\\\\n",
      "B130$\\dagger$ & $1901^{+1000}_{-1000}$ & $2541^{+1000}_{-1000}$ & $0.18^{+0.05}_{-0.05}$ & 57645.46833947(1) & $1.4^{+0.4}_{-0.4}$ & $0.6^{+0.4}_{-0.2}$ & $565.5^{+1.0}_{-0.8}$\\\\\n",
      "B131 & $1461^{+10}_{-10}$ & $85^{+10}_{-10}$ & $0.08^{+0.01}_{-0.01}$ & 57645.47236212(1) & $1.1^{+0.4}_{-0.3}$ & $0.7^{+0.3}_{-0.3}$ & $563^{+1}_{-2}$\\\\\n",
      "B132 & $1715^{+80}_{-20}$ & $95^{+70}_{-20}$ & $0.09^{+0.03}_{-0.01}$ & 57645.474138540(3) & $0.7^{+0.1}_{-0.1}$ & $0.4^{+0.2}_{-0.2}$ & $561^{+1}_{-1}$\\\\\n",
      "B133 & $1739^{+180}_{-50}$ & $229^{+110}_{-40}$ & $0.22^{+0.1}_{-0.03}$ & 57645.474448229(4) & $1.7^{+0.2}_{-0.2}$ & $0.7^{+0.3}_{-0.3}$ & $570.6^{+0.7}_{-0.7}$\\\\\n"
     ]
    },
    {
     "data": {
      "application/javascript": [
       "\n",
       "            setTimeout(function() {\n",
       "                var nbb_cell_id = 10;\n",
       "                var nbb_unformatted_code = \"for i, row in all_bursts_bary.iterrows():\\n    s, row = get_printable_values(row, col_names, append_string='')\\n    print(s)\";\n",
       "                var nbb_formatted_code = \"for i, row in all_bursts_bary.iterrows():\\n    s, row = get_printable_values(row, col_names, append_string=\\\"\\\")\\n    print(s)\";\n",
       "                var nbb_cells = Jupyter.notebook.get_cells();\n",
       "                for (var i = 0; i < nbb_cells.length; ++i) {\n",
       "                    if (nbb_cells[i].input_prompt_number == nbb_cell_id) {\n",
       "                        if (nbb_cells[i].get_text() == nbb_unformatted_code) {\n",
       "                             nbb_cells[i].set_text(nbb_formatted_code);\n",
       "                        }\n",
       "                        break;\n",
       "                    }\n",
       "                }\n",
       "            }, 500);\n",
       "            "
      ],
      "text/plain": [
       "<IPython.core.display.Javascript object>"
      ]
     },
     "metadata": {},
     "output_type": "display_data"
    }
   ],
   "source": [
    "for i, row in all_bursts_bary.iterrows():\n",
    "    s, row = get_printable_values(row, col_names, append_string=\"\")\n",
    "    print(s)"
   ]
  },
  {
   "cell_type": "code",
   "execution_count": 11,
   "metadata": {},
   "outputs": [
    {
     "data": {
      "text/plain": [
       "Index(['$\\mu_f$ (MHz)', 'upper error$\\mu_f$ (MHz)', 'lower error$\\mu_f$ (MHz)',\n",
       "       '$\\sigma_f$ (MHz)', 'upper error$\\sigma_f$ (MHz)',\n",
       "       'lower error$\\sigma_f$ (MHz)', '$S$ (Jy ms)', 'upper error$S$ (Jy ms)',\n",
       "       'lower error$S$ (Jy ms)', '$\\mu_t$ (ms)', 'upper error$\\mu_t$ (ms)',\n",
       "       'lower error$\\mu_t$ (ms)', '$\\sigma_t$ (ms)',\n",
       "       'upper error$\\sigma_t$ (ms)', 'lower error$\\sigma_t$ (ms)',\n",
       "       '$\\tau$ (ms)', 'upper error$\\tau$ (ms)', 'lower error$\\tau$ (ms)',\n",
       "       'DM (pc cm$^{-3}$)', 'upper errorDM (pc cm$^{-3}$)',\n",
       "       'lower errorDM (pc cm$^{-3}$)', 'cand_id', 'comp_num', 'fit_method',\n",
       "       'use_fluence', 'bidx'],\n",
       "      dtype='object')"
      ]
     },
     "execution_count": 11,
     "metadata": {},
     "output_type": "execute_result"
    },
    {
     "data": {
      "application/javascript": [
       "\n",
       "            setTimeout(function() {\n",
       "                var nbb_cell_id = 11;\n",
       "                var nbb_unformatted_code = \"all_bursts_bary.columns\";\n",
       "                var nbb_formatted_code = \"all_bursts_bary.columns\";\n",
       "                var nbb_cells = Jupyter.notebook.get_cells();\n",
       "                for (var i = 0; i < nbb_cells.length; ++i) {\n",
       "                    if (nbb_cells[i].input_prompt_number == nbb_cell_id) {\n",
       "                        if (nbb_cells[i].get_text() == nbb_unformatted_code) {\n",
       "                             nbb_cells[i].set_text(nbb_formatted_code);\n",
       "                        }\n",
       "                        break;\n",
       "                    }\n",
       "                }\n",
       "            }, 500);\n",
       "            "
      ],
      "text/plain": [
       "<IPython.core.display.Javascript object>"
      ]
     },
     "metadata": {},
     "output_type": "display_data"
    }
   ],
   "source": [
    "all_bursts_bary.columns"
   ]
  },
  {
   "cell_type": "code",
   "execution_count": 12,
   "metadata": {},
   "outputs": [
    {
     "ename": "ZeroDivisionError",
     "evalue": "division by zero",
     "output_type": "error",
     "traceback": [
      "\u001b[0;31m---------------------------------------------------------------------------\u001b[0m",
      "\u001b[0;31mZeroDivisionError\u001b[0m                         Traceback (most recent call last)",
      "\u001b[0;32m<ipython-input-12-9e1622b385b6>\u001b[0m in \u001b[0;36m<module>\u001b[0;34m\u001b[0m\n\u001b[0;32m----> 1\u001b[0;31m \u001b[0;36m1\u001b[0m\u001b[0;34m/\u001b[0m\u001b[0;36m0\u001b[0m\u001b[0;34m\u001b[0m\u001b[0;34m\u001b[0m\u001b[0m\n\u001b[0m",
      "\u001b[0;31mZeroDivisionError\u001b[0m: division by zero"
     ]
    },
    {
     "data": {
      "application/javascript": [
       "\n",
       "            setTimeout(function() {\n",
       "                var nbb_cell_id = 12;\n",
       "                var nbb_unformatted_code = \"1/0\";\n",
       "                var nbb_formatted_code = \"1 / 0\";\n",
       "                var nbb_cells = Jupyter.notebook.get_cells();\n",
       "                for (var i = 0; i < nbb_cells.length; ++i) {\n",
       "                    if (nbb_cells[i].input_prompt_number == nbb_cell_id) {\n",
       "                        if (nbb_cells[i].get_text() == nbb_unformatted_code) {\n",
       "                             nbb_cells[i].set_text(nbb_formatted_code);\n",
       "                        }\n",
       "                        break;\n",
       "                    }\n",
       "                }\n",
       "            }, 500);\n",
       "            "
      ],
      "text/plain": [
       "<IPython.core.display.Javascript object>"
      ]
     },
     "metadata": {},
     "output_type": "display_data"
    }
   ],
   "source": [
    "1 / 0"
   ]
  }
 ],
 "metadata": {
  "kernelspec": {
   "display_name": "Python 3",
   "language": "python",
   "name": "python3"
  },
  "language_info": {
   "codemirror_mode": {
    "name": "ipython",
    "version": 3
   },
   "file_extension": ".py",
   "mimetype": "text/x-python",
   "name": "python",
   "nbconvert_exporter": "python",
   "pygments_lexer": "ipython3",
   "version": "3.8.6"
  }
 },
 "nbformat": 4,
 "nbformat_minor": 2
}
