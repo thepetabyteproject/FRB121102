{
 "cells": [
  {
   "cell_type": "markdown",
   "metadata": {},
   "source": [
    "# Burst Rate Calculation"
   ]
  },
  {
   "cell_type": "code",
   "execution_count": 1,
   "metadata": {},
   "outputs": [
    {
     "data": {
      "application/javascript": [
       "\n",
       "            setTimeout(function() {\n",
       "                var nbb_cell_id = 1;\n",
       "                var nbb_unformatted_code = \"# IMPORT FUNCTIONALITIES\\nimport pandas as pd\\nimport numpy as np\\nimport scipy\\nfrom scipy.stats import chisquare\\nfrom scipy.optimize import curve_fit\\nfrom scipy.special import gamma\\nimport matplotlib.pyplot as plt\\nimport matplotlib.font_manager\\n\\n%load_ext nb_black\";\n",
       "                var nbb_formatted_code = \"# IMPORT FUNCTIONALITIES\\nimport pandas as pd\\nimport numpy as np\\nimport scipy\\nfrom scipy.stats import chisquare\\nfrom scipy.optimize import curve_fit\\nfrom scipy.special import gamma\\nimport matplotlib.pyplot as plt\\nimport matplotlib.font_manager\\n\\n%load_ext nb_black\";\n",
       "                var nbb_cells = Jupyter.notebook.get_cells();\n",
       "                for (var i = 0; i < nbb_cells.length; ++i) {\n",
       "                    if (nbb_cells[i].input_prompt_number == nbb_cell_id) {\n",
       "                        if (nbb_cells[i].get_text() == nbb_unformatted_code) {\n",
       "                             nbb_cells[i].set_text(nbb_formatted_code);\n",
       "                        }\n",
       "                        break;\n",
       "                    }\n",
       "                }\n",
       "            }, 500);\n",
       "            "
      ],
      "text/plain": [
       "<IPython.core.display.Javascript object>"
      ]
     },
     "metadata": {},
     "output_type": "display_data"
    }
   ],
   "source": [
    "# IMPORT FUNCTIONALITIES\n",
    "import pandas as pd\n",
    "import numpy as np\n",
    "import scipy\n",
    "from scipy.stats import chisquare\n",
    "from scipy.optimize import curve_fit\n",
    "from scipy.special import gamma\n",
    "import matplotlib.pyplot as plt\n",
    "import matplotlib.font_manager\n",
    "\n",
    "%load_ext nb_black"
   ]
  },
  {
   "cell_type": "markdown",
   "metadata": {},
   "source": [
    "Below, the file containing the candidate properties is read in and the burst times are sorted into an array. This is specified for our file structure and burst fitting procedure, and will need to be changed. <br>\n",
    "We only need the MJDs for this analysis, but pandas is used so one can easily incorporate other burst properties like fluence or DM into the analysis."
   ]
  },
  {
   "cell_type": "code",
   "execution_count": 2,
   "metadata": {},
   "outputs": [
    {
     "name": "stdout",
     "output_type": "stream",
     "text": [
      "144 total bursts\n",
      "130 good MCMC bursts\n"
     ]
    },
    {
     "data": {
      "application/javascript": [
       "\n",
       "            setTimeout(function() {\n",
       "                var nbb_cell_id = 2;\n",
       "                var nbb_unformatted_code = \"# Read in data file\\ndata = pd.read_csv(\\\"../data/all_bursts_bary.csv\\\")\\nprint(str(len(data)) + \\\" total bursts\\\")\\ndata = data[(data[\\\"fit_method\\\"] == \\\"mcmc\\\")]  # excise curvefit bursts\\nprint(str(len(data)) + \\\" good MCMC bursts\\\")\\n\\n# Break into individual arrays\\nmjd = data[\\\"$\\\\mu_t$ (ms)\\\"]  # burst times are given in MJD\\nmjd = mjd.sort_values()\\nDM = data[\\\"DM (pc cm$^{-3}$)\\\"]\\nburst_id = data[\\\"cand_id\\\"]\\nfluence = data[\\\"$S$ (Jy ms)\\\"]\\n\\nmax_diff = 7000.0  # maximum time difference between bursts, in seconds, to consider a real wait time\";\n",
       "                var nbb_formatted_code = \"# Read in data file\\ndata = pd.read_csv(\\\"../data/all_bursts_bary.csv\\\")\\nprint(str(len(data)) + \\\" total bursts\\\")\\ndata = data[(data[\\\"fit_method\\\"] == \\\"mcmc\\\")]  # excise curvefit bursts\\nprint(str(len(data)) + \\\" good MCMC bursts\\\")\\n\\n# Break into individual arrays\\nmjd = data[\\\"$\\\\mu_t$ (ms)\\\"]  # burst times are given in MJD\\nmjd = mjd.sort_values()\\nDM = data[\\\"DM (pc cm$^{-3}$)\\\"]\\nburst_id = data[\\\"cand_id\\\"]\\nfluence = data[\\\"$S$ (Jy ms)\\\"]\\n\\nmax_diff = 7000.0  # maximum time difference between bursts, in seconds, to consider a real wait time\";\n",
       "                var nbb_cells = Jupyter.notebook.get_cells();\n",
       "                for (var i = 0; i < nbb_cells.length; ++i) {\n",
       "                    if (nbb_cells[i].input_prompt_number == nbb_cell_id) {\n",
       "                        if (nbb_cells[i].get_text() == nbb_unformatted_code) {\n",
       "                             nbb_cells[i].set_text(nbb_formatted_code);\n",
       "                        }\n",
       "                        break;\n",
       "                    }\n",
       "                }\n",
       "            }, 500);\n",
       "            "
      ],
      "text/plain": [
       "<IPython.core.display.Javascript object>"
      ]
     },
     "metadata": {},
     "output_type": "display_data"
    }
   ],
   "source": [
    "# Read in data file\n",
    "data = pd.read_csv(\"../data/all_bursts_bary.csv\")\n",
    "print(str(len(data)) + \" total bursts\")\n",
    "data = data[(data[\"fit_method\"] == \"mcmc\")]  # excise curvefit bursts\n",
    "print(str(len(data)) + \" good MCMC bursts\")\n",
    "\n",
    "# Break into individual arrays\n",
    "mjd = data[\"$\\mu_t$ (ms)\"]  # burst times are given in MJD\n",
    "mjd = mjd.sort_values()\n",
    "DM = data[\"DM (pc cm$^{-3}$)\"]\n",
    "burst_id = data[\"cand_id\"]\n",
    "fluence = data[\"$S$ (Jy ms)\"]\n",
    "\n",
    "max_diff = 7000.0  # maximum time difference between bursts, in seconds, to consider a real wait time"
   ]
  },
  {
   "cell_type": "code",
   "execution_count": 3,
   "metadata": {},
   "outputs": [
    {
     "data": {
      "application/javascript": [
       "\n",
       "            setTimeout(function() {\n",
       "                var nbb_cell_id = 3;\n",
       "                var nbb_unformatted_code = \"# SPLIT BURSTS INTO DATA FRAMES\\ndatadict = {\\\"MJD\\\": mjd, \\\"fluence\\\": fluence}\\ndataframe = pd.concat(datadict, axis=1)\";\n",
       "                var nbb_formatted_code = \"# SPLIT BURSTS INTO DATA FRAMES\\ndatadict = {\\\"MJD\\\": mjd, \\\"fluence\\\": fluence}\\ndataframe = pd.concat(datadict, axis=1)\";\n",
       "                var nbb_cells = Jupyter.notebook.get_cells();\n",
       "                for (var i = 0; i < nbb_cells.length; ++i) {\n",
       "                    if (nbb_cells[i].input_prompt_number == nbb_cell_id) {\n",
       "                        if (nbb_cells[i].get_text() == nbb_unformatted_code) {\n",
       "                             nbb_cells[i].set_text(nbb_formatted_code);\n",
       "                        }\n",
       "                        break;\n",
       "                    }\n",
       "                }\n",
       "            }, 500);\n",
       "            "
      ],
      "text/plain": [
       "<IPython.core.display.Javascript object>"
      ]
     },
     "metadata": {},
     "output_type": "display_data"
    }
   ],
   "source": [
    "# SPLIT BURSTS INTO DATA FRAMES\n",
    "datadict = {\"MJD\": mjd, \"fluence\": fluence}\n",
    "dataframe = pd.concat(datadict, axis=1)"
   ]
  },
  {
   "cell_type": "code",
   "execution_count": 4,
   "metadata": {},
   "outputs": [
    {
     "data": {
      "application/javascript": [
       "\n",
       "            setTimeout(function() {\n",
       "                var nbb_cell_id = 4;\n",
       "                var nbb_unformatted_code = \"# PLOT STYLE SIZE\\ndef set_size(width, fraction=1, subplots=(1, 1)):\\n    \\\"\\\"\\\"Set figure dimensions to avoid scaling in LaTeX.\\n    Source: https://jwalton.info/Embed-Publication-Matplotlib-Latex/\\n\\n    Parameters\\n    ----------\\n    width: float or string\\n            Document width in points, or string of predined document type\\n    fraction: float, optional\\n            Fraction of the width which you wish the figure to occupy\\n    subplots: array-like, optional\\n            The number of rows and columns of subplots.\\n    Returns\\n    -------\\n    fig_dim: tuple\\n            Dimensions of figure in inches\\n    \\\"\\\"\\\"\\n    if width == \\\"full\\\":\\n        width_pt = 513.11743\\n    elif width == \\\"half\\\":\\n        width_pt = 242.26653\\n    else:\\n        width_pt = width\\n\\n    # Width of figure (in pts)\\n    fig_width_pt = width_pt * fraction\\n    # Convert from pt to inches\\n    inches_per_pt = 1 / 72.27\\n\\n    # Golden ratio to set aesthetic figure height\\n    # https://disq.us/p/2940ij3\\n    golden_ratio = (5 ** 0.5 - 1) / 2\\n\\n    # Figure width in inches\\n    fig_width_in = fig_width_pt * inches_per_pt\\n    # Figure height in inches\\n    fig_height_in = fig_width_in * golden_ratio * (subplots[0] / subplots[1])\\n\\n    return (fig_width_in, fig_height_in)\";\n",
       "                var nbb_formatted_code = \"# PLOT STYLE SIZE\\ndef set_size(width, fraction=1, subplots=(1, 1)):\\n    \\\"\\\"\\\"Set figure dimensions to avoid scaling in LaTeX.\\n    Source: https://jwalton.info/Embed-Publication-Matplotlib-Latex/\\n\\n    Parameters\\n    ----------\\n    width: float or string\\n            Document width in points, or string of predined document type\\n    fraction: float, optional\\n            Fraction of the width which you wish the figure to occupy\\n    subplots: array-like, optional\\n            The number of rows and columns of subplots.\\n    Returns\\n    -------\\n    fig_dim: tuple\\n            Dimensions of figure in inches\\n    \\\"\\\"\\\"\\n    if width == \\\"full\\\":\\n        width_pt = 513.11743\\n    elif width == \\\"half\\\":\\n        width_pt = 242.26653\\n    else:\\n        width_pt = width\\n\\n    # Width of figure (in pts)\\n    fig_width_pt = width_pt * fraction\\n    # Convert from pt to inches\\n    inches_per_pt = 1 / 72.27\\n\\n    # Golden ratio to set aesthetic figure height\\n    # https://disq.us/p/2940ij3\\n    golden_ratio = (5 ** 0.5 - 1) / 2\\n\\n    # Figure width in inches\\n    fig_width_in = fig_width_pt * inches_per_pt\\n    # Figure height in inches\\n    fig_height_in = fig_width_in * golden_ratio * (subplots[0] / subplots[1])\\n\\n    return (fig_width_in, fig_height_in)\";\n",
       "                var nbb_cells = Jupyter.notebook.get_cells();\n",
       "                for (var i = 0; i < nbb_cells.length; ++i) {\n",
       "                    if (nbb_cells[i].input_prompt_number == nbb_cell_id) {\n",
       "                        if (nbb_cells[i].get_text() == nbb_unformatted_code) {\n",
       "                             nbb_cells[i].set_text(nbb_formatted_code);\n",
       "                        }\n",
       "                        break;\n",
       "                    }\n",
       "                }\n",
       "            }, 500);\n",
       "            "
      ],
      "text/plain": [
       "<IPython.core.display.Javascript object>"
      ]
     },
     "metadata": {},
     "output_type": "display_data"
    }
   ],
   "source": [
    "# PLOT STYLE SIZE\n",
    "def set_size(width, fraction=1, subplots=(1, 1)):\n",
    "    \"\"\"Set figure dimensions to avoid scaling in LaTeX.\n",
    "    Source: https://jwalton.info/Embed-Publication-Matplotlib-Latex/\n",
    "\n",
    "    Parameters\n",
    "    ----------\n",
    "    width: float or string\n",
    "            Document width in points, or string of predined document type\n",
    "    fraction: float, optional\n",
    "            Fraction of the width which you wish the figure to occupy\n",
    "    subplots: array-like, optional\n",
    "            The number of rows and columns of subplots.\n",
    "    Returns\n",
    "    -------\n",
    "    fig_dim: tuple\n",
    "            Dimensions of figure in inches\n",
    "    \"\"\"\n",
    "    if width == \"full\":\n",
    "        width_pt = 513.11743\n",
    "    elif width == \"half\":\n",
    "        width_pt = 242.26653\n",
    "    else:\n",
    "        width_pt = width\n",
    "\n",
    "    # Width of figure (in pts)\n",
    "    fig_width_pt = width_pt * fraction\n",
    "    # Convert from pt to inches\n",
    "    inches_per_pt = 1 / 72.27\n",
    "\n",
    "    # Golden ratio to set aesthetic figure height\n",
    "    # https://disq.us/p/2940ij3\n",
    "    golden_ratio = (5 ** 0.5 - 1) / 2\n",
    "\n",
    "    # Figure width in inches\n",
    "    fig_width_in = fig_width_pt * inches_per_pt\n",
    "    # Figure height in inches\n",
    "    fig_height_in = fig_width_in * golden_ratio * (subplots[0] / subplots[1])\n",
    "\n",
    "    return (fig_width_in, fig_height_in)"
   ]
  },
  {
   "cell_type": "code",
   "execution_count": 5,
   "metadata": {},
   "outputs": [
    {
     "data": {
      "application/javascript": [
       "\n",
       "            setTimeout(function() {\n",
       "                var nbb_cell_id = 5;\n",
       "                var nbb_unformatted_code = \"# DEFINE FITTING FUNCTIONS\\n# Poisson function\\ndef poisson(x, a, r):\\n    return a * r * np.exp(-r * x)\\n\\n\\n# Weibull function\\ndef weibull(x, a, k, r):\\n    bracket = (x * r * gamma(1 + (1 / k))) ** k\\n    return ((a * k) / x) * bracket * np.exp(-1.0 * bracket)\\n\\n\\n# Cumulative Poisson function\\ndef cumul_poisson(x, r):\\n    return 1 - np.exp(-x * r)\\n\\n\\n# Cumulative Weibull Function\\ndef cumul_weibull(x, k, r):\\n    bracket = (x * r * gamma(1 + (1 / k))) ** k\\n    return 1 - np.exp(-1.0 * bracket)\";\n",
       "                var nbb_formatted_code = \"# DEFINE FITTING FUNCTIONS\\n# Poisson function\\ndef poisson(x, a, r):\\n    return a * r * np.exp(-r * x)\\n\\n\\n# Weibull function\\ndef weibull(x, a, k, r):\\n    bracket = (x * r * gamma(1 + (1 / k))) ** k\\n    return ((a * k) / x) * bracket * np.exp(-1.0 * bracket)\\n\\n\\n# Cumulative Poisson function\\ndef cumul_poisson(x, r):\\n    return 1 - np.exp(-x * r)\\n\\n\\n# Cumulative Weibull Function\\ndef cumul_weibull(x, k, r):\\n    bracket = (x * r * gamma(1 + (1 / k))) ** k\\n    return 1 - np.exp(-1.0 * bracket)\";\n",
       "                var nbb_cells = Jupyter.notebook.get_cells();\n",
       "                for (var i = 0; i < nbb_cells.length; ++i) {\n",
       "                    if (nbb_cells[i].input_prompt_number == nbb_cell_id) {\n",
       "                        if (nbb_cells[i].get_text() == nbb_unformatted_code) {\n",
       "                             nbb_cells[i].set_text(nbb_formatted_code);\n",
       "                        }\n",
       "                        break;\n",
       "                    }\n",
       "                }\n",
       "            }, 500);\n",
       "            "
      ],
      "text/plain": [
       "<IPython.core.display.Javascript object>"
      ]
     },
     "metadata": {},
     "output_type": "display_data"
    }
   ],
   "source": [
    "# DEFINE FITTING FUNCTIONS\n",
    "# Poisson function\n",
    "def poisson(x, a, r):\n",
    "    return a * r * np.exp(-r * x)\n",
    "\n",
    "\n",
    "# Weibull function\n",
    "def weibull(x, a, k, r):\n",
    "    bracket = (x * r * gamma(1 + (1 / k))) ** k\n",
    "    return ((a * k) / x) * bracket * np.exp(-1.0 * bracket)\n",
    "\n",
    "\n",
    "# Cumulative Poisson function\n",
    "def cumul_poisson(x, r):\n",
    "    return 1 - np.exp(-x * r)\n",
    "\n",
    "\n",
    "# Cumulative Weibull Function\n",
    "def cumul_weibull(x, k, r):\n",
    "    bracket = (x * r * gamma(1 + (1 / k))) ** k\n",
    "    return 1 - np.exp(-1.0 * bracket)"
   ]
  },
  {
   "cell_type": "markdown",
   "metadata": {},
   "source": [
    "Below is the function that fits the Poisson and Weibull distributions to the cumulative density function. We avoid counting the difference between separate observations as a real wait time by specifying a maximum time difference to consider as real. Here, we use a constant value of 7,000 seconds derived from the length of our observations. <br>\n",
    "The function assumes that the burst times are in MJD."
   ]
  },
  {
   "cell_type": "code",
   "execution_count": 6,
   "metadata": {},
   "outputs": [
    {
     "data": {
      "application/javascript": [
       "\n",
       "            setTimeout(function() {\n",
       "                var nbb_cell_id = 6;\n",
       "                var nbb_unformatted_code = \"# CUMULATIVE DENSITY FUNCTION FITTING\\ndef cumul_fit(burst_times, num_bins, min_diff, max_diff, print_flag):\\n\\n    # Calculate diffs\\n    diffs = []\\n    burst_times = np.sort(burst_times)\\n    for i in range(0, len(burst_times) - 1):\\n        diff = (burst_times[i + 1] - burst_times[i]) * 86400.0\\n        if diff > min_diff and diff < max_diff:\\n            diffs.append(diff)\\n\\n    # Endpoints for cumulative distribution function\\n    start = np.log10(np.min(diffs) * 0.5)\\n    end = np.log10(np.max(diffs) * 2.0)\\n\\n    # Make cumulative histogram for CDF\\n    bins = np.logspace(start, end, num_bins)\\n    hist_data, bin_edges, patches = plt.hist(\\n        diffs, bins=bins, cumulative=True, density=True, color=\\\"w\\\"\\n    )\\n    plt.close()\\n\\n    # Get bin centers for fitting\\n    bin_centers = []\\n    for i in range(0, len(hist_data)):\\n        dist = bin_edges[i + 1] - bin_edges[i]\\n        halfdist = dist / 2.0\\n        mid = bin_edges[i] + halfdist\\n        bin_centers.append(mid)\\n\\n    # Poisson fitting\\n    r = 0.01\\n    popt_poiss, pcov_poiss = curve_fit(cumul_poisson, bin_centers, hist_data, p0=[r])\\n    perr_poiss = np.sqrt(np.diag(pcov_poiss))\\n\\n    # Weibull fitting\\n    k = 0.75\\n    r = 0.01\\n    popt_weib, pcov_weib = curve_fit(cumul_weibull, bin_centers, hist_data, p0=[k, r])\\n    perr_weib = np.sqrt(np.diag(pcov_weib))\\n\\n    # Creating 'plots' of fitted Poisson/Weibull distributions\\n    xaxis = np.logspace(start, end, 500)\\n    yfit_poiss = cumul_poisson(xaxis, *popt_poiss)\\n    yfit_weib = cumul_weibull(xaxis, *popt_weib)\\n\\n    # Variables holding rounded r and k for Poisson/Weibull distributions\\n    # Rate is per hour instead of per second\\n    r_poiss = np.round(popt_poiss[0] * 3600, 0)\\n    r_poiss_error = perr_poiss[0] * 3600\\n\\n    k_weib = np.round(popt_weib[0], 3)\\n    r_weib = np.round(popt_weib[1] * 3600, 0)\\n    k_weib_error = np.round(perr_weib[0], 3)\\n    r_weib_error = perr_weib[1] * 3600\\n\\n    # Calculate and pass fit statistics\\n    bin_centers = np.array(bin_centers)\\n    ss_tot = np.sum((hist_data - np.mean(hist_data)) ** 2)\\n\\n    poiss_yvals = cumul_poisson(bin_centers, *popt_poiss)\\n    resid_poiss = abs(hist_data - poiss_yvals)\\n    resid_poiss_ss = np.sum(resid_poiss ** 2)\\n\\n    weib_yvals = cumul_weibull(bin_centers, *popt_weib)\\n    resid_weib = abs(hist_data - weib_yvals)\\n    resid_weib_ss = np.sum(resid_weib ** 2)\\n\\n    datafreqs = hist_data * len(burst_times)\\n    all_poiss_freqs = poiss_yvals * len(burst_times)\\n    all_weib_freqs = weib_yvals * len(burst_times)\\n\\n    dof = len(datafreqs) - 1  # degrees of freedom\\n    # Poisson chi^2\\n    poiss_chisq, poiss_pval = scipy.stats.chisquare(datafreqs, all_poiss_freqs)\\n    poiss_red_chisq = poiss_chisq / (\\n        dof - 1\\n    )  # one fitted parameter for Poisson distribution\\n    # Weibull chi^2\\n    weib_chisq, weib_pval = scipy.stats.chisquare(datafreqs, all_weib_freqs)\\n    weib_red_chisq = weib_chisq / (\\n        dof - 2\\n    )  # two fitted parameters for Weibull distribution\\n\\n    # Poisson r^2\\n    poiss_rsq = np.round(1 - (resid_poiss_ss / ss_tot), 3)\\n    # Weibull r^2\\n    weib_rsq = np.round(1 - (resid_weib_ss / ss_tot), 3)\\n\\n    if print_flag == True:\\n        print(\\\"Minimum wait time= \\\" + str(np.round(np.min(diffs), 4)) + \\\" s\\\")\\n        print(\\\"Maximum wait time= \\\" + str(np.round(np.max(diffs), 1)) + \\\" s\\\")\\n\\n        print(\\\"Poisson:\\\")\\n        print(\\n            \\\" r = \\\"\\n            + str(int(r_poiss))\\n            + \\\" +/- \\\"\\n            + str(np.round(r_poiss_error, 1))\\n            + \\\" hour^-1\\\"\\n        )\\n\\n        print(\\\"Weibull:\\\")\\n        print(\\n            \\\" r = \\\"\\n            + str(int(r_weib))\\n            + \\\" +/- \\\"\\n            + str(np.round(r_weib_error, 1))\\n            + \\\" hour^-1\\\"\\n        )\\n        print(\\\" k = \\\" + str(k_weib) + \\\" +/- \\\" + str(k_weib_error))\\n\\n        print(\\\"Poisson:\\\")\\n        print(\\n            \\\"Reduced Chi-squared = \\\"\\n            + str(np.round(poiss_red_chisq, 3))\\n            + \\\"; p-value = \\\"\\n            + str(np.round(poiss_pval, 5))\\n            + \\\";  r^2 = \\\"\\n            + str(poiss_rsq)\\n        )\\n        print(\\n            \\\"Max resid = \\\"\\n            + str(np.round(np.max(resid_poiss), 3))\\n            + \\\"; avg resid = \\\"\\n            + str(np.round(np.average(resid_poiss), 3))\\n        )\\n\\n        print(\\\"Weibull:\\\")\\n        print(\\n            \\\"Reduced Chi-squared = \\\"\\n            + str(np.round(weib_red_chisq, 3))\\n            + \\\"; p-value = \\\"\\n            + str(np.round(weib_pval, 5))\\n            + \\\";  r^2 = \\\"\\n            + str(weib_rsq)\\n        )\\n        print(\\n            \\\"Max resid = \\\"\\n            + str(np.round(np.max(resid_weib), 3))\\n            + \\\"; avg resid = \\\"\\n            + str(np.round(np.average(resid_weib), 3))\\n        )\\n\\n    param_array = np.array(\\n        [\\n            r_poiss,\\n            r_poiss_error,\\n            r_weib,\\n            r_weib_error,\\n            k_weib,\\n            k_weib_error,\\n            poiss_red_chisq,\\n            weib_red_chisq,\\n            poiss_pval,\\n            weib_pval,\\n        ]\\n    )\\n\\n    return hist_data, bin_centers, diffs, xaxis, yfit_poiss, yfit_weib, param_array\";\n",
       "                var nbb_formatted_code = \"# CUMULATIVE DENSITY FUNCTION FITTING\\ndef cumul_fit(burst_times, num_bins, min_diff, max_diff, print_flag):\\n\\n    # Calculate diffs\\n    diffs = []\\n    burst_times = np.sort(burst_times)\\n    for i in range(0, len(burst_times) - 1):\\n        diff = (burst_times[i + 1] - burst_times[i]) * 86400.0\\n        if diff > min_diff and diff < max_diff:\\n            diffs.append(diff)\\n\\n    # Endpoints for cumulative distribution function\\n    start = np.log10(np.min(diffs) * 0.5)\\n    end = np.log10(np.max(diffs) * 2.0)\\n\\n    # Make cumulative histogram for CDF\\n    bins = np.logspace(start, end, num_bins)\\n    hist_data, bin_edges, patches = plt.hist(\\n        diffs, bins=bins, cumulative=True, density=True, color=\\\"w\\\"\\n    )\\n    plt.close()\\n\\n    # Get bin centers for fitting\\n    bin_centers = []\\n    for i in range(0, len(hist_data)):\\n        dist = bin_edges[i + 1] - bin_edges[i]\\n        halfdist = dist / 2.0\\n        mid = bin_edges[i] + halfdist\\n        bin_centers.append(mid)\\n\\n    # Poisson fitting\\n    r = 0.01\\n    popt_poiss, pcov_poiss = curve_fit(cumul_poisson, bin_centers, hist_data, p0=[r])\\n    perr_poiss = np.sqrt(np.diag(pcov_poiss))\\n\\n    # Weibull fitting\\n    k = 0.75\\n    r = 0.01\\n    popt_weib, pcov_weib = curve_fit(cumul_weibull, bin_centers, hist_data, p0=[k, r])\\n    perr_weib = np.sqrt(np.diag(pcov_weib))\\n\\n    # Creating 'plots' of fitted Poisson/Weibull distributions\\n    xaxis = np.logspace(start, end, 500)\\n    yfit_poiss = cumul_poisson(xaxis, *popt_poiss)\\n    yfit_weib = cumul_weibull(xaxis, *popt_weib)\\n\\n    # Variables holding rounded r and k for Poisson/Weibull distributions\\n    # Rate is per hour instead of per second\\n    r_poiss = np.round(popt_poiss[0] * 3600, 0)\\n    r_poiss_error = perr_poiss[0] * 3600\\n\\n    k_weib = np.round(popt_weib[0], 3)\\n    r_weib = np.round(popt_weib[1] * 3600, 0)\\n    k_weib_error = np.round(perr_weib[0], 3)\\n    r_weib_error = perr_weib[1] * 3600\\n\\n    # Calculate and pass fit statistics\\n    bin_centers = np.array(bin_centers)\\n    ss_tot = np.sum((hist_data - np.mean(hist_data)) ** 2)\\n\\n    poiss_yvals = cumul_poisson(bin_centers, *popt_poiss)\\n    resid_poiss = abs(hist_data - poiss_yvals)\\n    resid_poiss_ss = np.sum(resid_poiss ** 2)\\n\\n    weib_yvals = cumul_weibull(bin_centers, *popt_weib)\\n    resid_weib = abs(hist_data - weib_yvals)\\n    resid_weib_ss = np.sum(resid_weib ** 2)\\n\\n    datafreqs = hist_data * len(burst_times)\\n    all_poiss_freqs = poiss_yvals * len(burst_times)\\n    all_weib_freqs = weib_yvals * len(burst_times)\\n\\n    dof = len(datafreqs) - 1  # degrees of freedom\\n    # Poisson chi^2\\n    poiss_chisq, poiss_pval = scipy.stats.chisquare(datafreqs, all_poiss_freqs)\\n    poiss_red_chisq = poiss_chisq / (\\n        dof - 1\\n    )  # one fitted parameter for Poisson distribution\\n    # Weibull chi^2\\n    weib_chisq, weib_pval = scipy.stats.chisquare(datafreqs, all_weib_freqs)\\n    weib_red_chisq = weib_chisq / (\\n        dof - 2\\n    )  # two fitted parameters for Weibull distribution\\n\\n    # Poisson r^2\\n    poiss_rsq = np.round(1 - (resid_poiss_ss / ss_tot), 3)\\n    # Weibull r^2\\n    weib_rsq = np.round(1 - (resid_weib_ss / ss_tot), 3)\\n\\n    if print_flag == True:\\n        print(\\\"Minimum wait time= \\\" + str(np.round(np.min(diffs), 4)) + \\\" s\\\")\\n        print(\\\"Maximum wait time= \\\" + str(np.round(np.max(diffs), 1)) + \\\" s\\\")\\n\\n        print(\\\"Poisson:\\\")\\n        print(\\n            \\\" r = \\\"\\n            + str(int(r_poiss))\\n            + \\\" +/- \\\"\\n            + str(np.round(r_poiss_error, 1))\\n            + \\\" hour^-1\\\"\\n        )\\n\\n        print(\\\"Weibull:\\\")\\n        print(\\n            \\\" r = \\\"\\n            + str(int(r_weib))\\n            + \\\" +/- \\\"\\n            + str(np.round(r_weib_error, 1))\\n            + \\\" hour^-1\\\"\\n        )\\n        print(\\\" k = \\\" + str(k_weib) + \\\" +/- \\\" + str(k_weib_error))\\n\\n        print(\\\"Poisson:\\\")\\n        print(\\n            \\\"Reduced Chi-squared = \\\"\\n            + str(np.round(poiss_red_chisq, 3))\\n            + \\\"; p-value = \\\"\\n            + str(np.round(poiss_pval, 5))\\n            + \\\";  r^2 = \\\"\\n            + str(poiss_rsq)\\n        )\\n        print(\\n            \\\"Max resid = \\\"\\n            + str(np.round(np.max(resid_poiss), 3))\\n            + \\\"; avg resid = \\\"\\n            + str(np.round(np.average(resid_poiss), 3))\\n        )\\n\\n        print(\\\"Weibull:\\\")\\n        print(\\n            \\\"Reduced Chi-squared = \\\"\\n            + str(np.round(weib_red_chisq, 3))\\n            + \\\"; p-value = \\\"\\n            + str(np.round(weib_pval, 5))\\n            + \\\";  r^2 = \\\"\\n            + str(weib_rsq)\\n        )\\n        print(\\n            \\\"Max resid = \\\"\\n            + str(np.round(np.max(resid_weib), 3))\\n            + \\\"; avg resid = \\\"\\n            + str(np.round(np.average(resid_weib), 3))\\n        )\\n\\n    param_array = np.array(\\n        [\\n            r_poiss,\\n            r_poiss_error,\\n            r_weib,\\n            r_weib_error,\\n            k_weib,\\n            k_weib_error,\\n            poiss_red_chisq,\\n            weib_red_chisq,\\n            poiss_pval,\\n            weib_pval,\\n        ]\\n    )\\n\\n    return hist_data, bin_centers, diffs, xaxis, yfit_poiss, yfit_weib, param_array\";\n",
       "                var nbb_cells = Jupyter.notebook.get_cells();\n",
       "                for (var i = 0; i < nbb_cells.length; ++i) {\n",
       "                    if (nbb_cells[i].input_prompt_number == nbb_cell_id) {\n",
       "                        if (nbb_cells[i].get_text() == nbb_unformatted_code) {\n",
       "                             nbb_cells[i].set_text(nbb_formatted_code);\n",
       "                        }\n",
       "                        break;\n",
       "                    }\n",
       "                }\n",
       "            }, 500);\n",
       "            "
      ],
      "text/plain": [
       "<IPython.core.display.Javascript object>"
      ]
     },
     "metadata": {},
     "output_type": "display_data"
    }
   ],
   "source": [
    "# CUMULATIVE DENSITY FUNCTION FITTING\n",
    "def cumul_fit(burst_times, num_bins, min_diff, max_diff, print_flag):\n",
    "\n",
    "    # Calculate diffs\n",
    "    diffs = []\n",
    "    burst_times = np.sort(burst_times)\n",
    "    for i in range(0, len(burst_times) - 1):\n",
    "        diff = (burst_times[i + 1] - burst_times[i]) * 86400.0\n",
    "        if diff > min_diff and diff < max_diff:\n",
    "            diffs.append(diff)\n",
    "\n",
    "    # Endpoints for cumulative distribution function\n",
    "    start = np.log10(np.min(diffs) * 0.5)\n",
    "    end = np.log10(np.max(diffs) * 2.0)\n",
    "\n",
    "    # Make cumulative histogram for CDF\n",
    "    bins = np.logspace(start, end, num_bins)\n",
    "    hist_data, bin_edges, patches = plt.hist(\n",
    "        diffs, bins=bins, cumulative=True, density=True, color=\"w\"\n",
    "    )\n",
    "    plt.close()\n",
    "\n",
    "    # Get bin centers for fitting\n",
    "    bin_centers = []\n",
    "    for i in range(0, len(hist_data)):\n",
    "        dist = bin_edges[i + 1] - bin_edges[i]\n",
    "        halfdist = dist / 2.0\n",
    "        mid = bin_edges[i] + halfdist\n",
    "        bin_centers.append(mid)\n",
    "\n",
    "    # Poisson fitting\n",
    "    r = 0.01\n",
    "    popt_poiss, pcov_poiss = curve_fit(cumul_poisson, bin_centers, hist_data, p0=[r])\n",
    "    perr_poiss = np.sqrt(np.diag(pcov_poiss))\n",
    "\n",
    "    # Weibull fitting\n",
    "    k = 0.75\n",
    "    r = 0.01\n",
    "    popt_weib, pcov_weib = curve_fit(cumul_weibull, bin_centers, hist_data, p0=[k, r])\n",
    "    perr_weib = np.sqrt(np.diag(pcov_weib))\n",
    "\n",
    "    # Creating 'plots' of fitted Poisson/Weibull distributions\n",
    "    xaxis = np.logspace(start, end, 500)\n",
    "    yfit_poiss = cumul_poisson(xaxis, *popt_poiss)\n",
    "    yfit_weib = cumul_weibull(xaxis, *popt_weib)\n",
    "\n",
    "    # Variables holding rounded r and k for Poisson/Weibull distributions\n",
    "    # Rate is per hour instead of per second\n",
    "    r_poiss = np.round(popt_poiss[0] * 3600, 0)\n",
    "    r_poiss_error = perr_poiss[0] * 3600\n",
    "\n",
    "    k_weib = np.round(popt_weib[0], 3)\n",
    "    r_weib = np.round(popt_weib[1] * 3600, 0)\n",
    "    k_weib_error = np.round(perr_weib[0], 3)\n",
    "    r_weib_error = perr_weib[1] * 3600\n",
    "\n",
    "    # Calculate and pass fit statistics\n",
    "    bin_centers = np.array(bin_centers)\n",
    "    ss_tot = np.sum((hist_data - np.mean(hist_data)) ** 2)\n",
    "\n",
    "    poiss_yvals = cumul_poisson(bin_centers, *popt_poiss)\n",
    "    resid_poiss = abs(hist_data - poiss_yvals)\n",
    "    resid_poiss_ss = np.sum(resid_poiss ** 2)\n",
    "\n",
    "    weib_yvals = cumul_weibull(bin_centers, *popt_weib)\n",
    "    resid_weib = abs(hist_data - weib_yvals)\n",
    "    resid_weib_ss = np.sum(resid_weib ** 2)\n",
    "\n",
    "    datafreqs = hist_data * len(burst_times)\n",
    "    all_poiss_freqs = poiss_yvals * len(burst_times)\n",
    "    all_weib_freqs = weib_yvals * len(burst_times)\n",
    "\n",
    "    dof = len(datafreqs) - 1  # degrees of freedom\n",
    "    # Poisson chi^2\n",
    "    poiss_chisq, poiss_pval = scipy.stats.chisquare(datafreqs, all_poiss_freqs)\n",
    "    poiss_red_chisq = poiss_chisq / (\n",
    "        dof - 1\n",
    "    )  # one fitted parameter for Poisson distribution\n",
    "    # Weibull chi^2\n",
    "    weib_chisq, weib_pval = scipy.stats.chisquare(datafreqs, all_weib_freqs)\n",
    "    weib_red_chisq = weib_chisq / (\n",
    "        dof - 2\n",
    "    )  # two fitted parameters for Weibull distribution\n",
    "\n",
    "    # Poisson r^2\n",
    "    poiss_rsq = np.round(1 - (resid_poiss_ss / ss_tot), 3)\n",
    "    # Weibull r^2\n",
    "    weib_rsq = np.round(1 - (resid_weib_ss / ss_tot), 3)\n",
    "\n",
    "    if print_flag == True:\n",
    "        print(\"Minimum wait time= \" + str(np.round(np.min(diffs), 4)) + \" s\")\n",
    "        print(\"Maximum wait time= \" + str(np.round(np.max(diffs), 1)) + \" s\")\n",
    "\n",
    "        print(\"Poisson:\")\n",
    "        print(\n",
    "            \" r = \"\n",
    "            + str(int(r_poiss))\n",
    "            + \" +/- \"\n",
    "            + str(np.round(r_poiss_error, 1))\n",
    "            + \" hour^-1\"\n",
    "        )\n",
    "\n",
    "        print(\"Weibull:\")\n",
    "        print(\n",
    "            \" r = \"\n",
    "            + str(int(r_weib))\n",
    "            + \" +/- \"\n",
    "            + str(np.round(r_weib_error, 1))\n",
    "            + \" hour^-1\"\n",
    "        )\n",
    "        print(\" k = \" + str(k_weib) + \" +/- \" + str(k_weib_error))\n",
    "\n",
    "        print(\"Poisson:\")\n",
    "        print(\n",
    "            \"Reduced Chi-squared = \"\n",
    "            + str(np.round(poiss_red_chisq, 3))\n",
    "            + \"; p-value = \"\n",
    "            + str(np.round(poiss_pval, 5))\n",
    "            + \";  r^2 = \"\n",
    "            + str(poiss_rsq)\n",
    "        )\n",
    "        print(\n",
    "            \"Max resid = \"\n",
    "            + str(np.round(np.max(resid_poiss), 3))\n",
    "            + \"; avg resid = \"\n",
    "            + str(np.round(np.average(resid_poiss), 3))\n",
    "        )\n",
    "\n",
    "        print(\"Weibull:\")\n",
    "        print(\n",
    "            \"Reduced Chi-squared = \"\n",
    "            + str(np.round(weib_red_chisq, 3))\n",
    "            + \"; p-value = \"\n",
    "            + str(np.round(weib_pval, 5))\n",
    "            + \";  r^2 = \"\n",
    "            + str(weib_rsq)\n",
    "        )\n",
    "        print(\n",
    "            \"Max resid = \"\n",
    "            + str(np.round(np.max(resid_weib), 3))\n",
    "            + \"; avg resid = \"\n",
    "            + str(np.round(np.average(resid_weib), 3))\n",
    "        )\n",
    "\n",
    "    param_array = np.array(\n",
    "        [\n",
    "            r_poiss,\n",
    "            r_poiss_error,\n",
    "            r_weib,\n",
    "            r_weib_error,\n",
    "            k_weib,\n",
    "            k_weib_error,\n",
    "            poiss_red_chisq,\n",
    "            weib_red_chisq,\n",
    "            poiss_pval,\n",
    "            weib_pval,\n",
    "        ]\n",
    "    )\n",
    "\n",
    "    return hist_data, bin_centers, diffs, xaxis, yfit_poiss, yfit_weib, param_array"
   ]
  },
  {
   "cell_type": "code",
   "execution_count": 7,
   "metadata": {},
   "outputs": [
    {
     "name": "stdout",
     "output_type": "stream",
     "text": [
      "Minimum wait time= 0.0019 s\n",
      "Maximum wait time= 572.3 s\n",
      "Poisson:\n",
      " r = 65 +/- 8.4 hour^-1\n",
      "Weibull:\n",
      " r = 42 +/- 9.0 hour^-1\n",
      " k = 0.634 +/- 0.067\n",
      "Poisson:\n",
      "Reduced Chi-squared = 495.007; p-value = 0.0;  r^2 = 0.953\n",
      "Max resid = 0.132; avg resid = 0.059\n",
      "Weibull:\n",
      "Reduced Chi-squared = 27.551; p-value = 0.0;  r^2 = 0.97\n",
      "Max resid = 0.096; avg resid = 0.048\n"
     ]
    },
    {
     "data": {
      "application/javascript": [
       "\n",
       "            setTimeout(function() {\n",
       "                var nbb_cell_id = 7;\n",
       "                var nbb_unformatted_code = \"# Fitting all wait times (above 0.1 ms- counts burst components as individual bursts)\\nburst_times_all = mjd\\nnum_bins = 20\\nhist_data, bin_centers, diffs, xaxis, yfit_poiss, yfit_weib, param_array = cumul_fit(\\n    burst_times_all, num_bins, 0.0001, max_diff, True\\n)\\n\\nr_poiss = param_array[0]\\nr_poiss_error = param_array[1]\\nr_weib = param_array[2]\\nr_weib_error = param_array[3]\\nk_weib = param_array[4]\\nk_weib_error = param_array[5]\\npoiss_chisq = param_array[6]\\nweib_chisq = param_array[7]\\npoiss_pval = param_array[8]\\nweib_pval = param_array[9]\";\n",
       "                var nbb_formatted_code = \"# Fitting all wait times (above 0.1 ms- counts burst components as individual bursts)\\nburst_times_all = mjd\\nnum_bins = 20\\nhist_data, bin_centers, diffs, xaxis, yfit_poiss, yfit_weib, param_array = cumul_fit(\\n    burst_times_all, num_bins, 0.0001, max_diff, True\\n)\\n\\nr_poiss = param_array[0]\\nr_poiss_error = param_array[1]\\nr_weib = param_array[2]\\nr_weib_error = param_array[3]\\nk_weib = param_array[4]\\nk_weib_error = param_array[5]\\npoiss_chisq = param_array[6]\\nweib_chisq = param_array[7]\\npoiss_pval = param_array[8]\\nweib_pval = param_array[9]\";\n",
       "                var nbb_cells = Jupyter.notebook.get_cells();\n",
       "                for (var i = 0; i < nbb_cells.length; ++i) {\n",
       "                    if (nbb_cells[i].input_prompt_number == nbb_cell_id) {\n",
       "                        if (nbb_cells[i].get_text() == nbb_unformatted_code) {\n",
       "                             nbb_cells[i].set_text(nbb_formatted_code);\n",
       "                        }\n",
       "                        break;\n",
       "                    }\n",
       "                }\n",
       "            }, 500);\n",
       "            "
      ],
      "text/plain": [
       "<IPython.core.display.Javascript object>"
      ]
     },
     "metadata": {},
     "output_type": "display_data"
    }
   ],
   "source": [
    "# Fitting all wait times (above 0.1 ms- counts burst components as individual bursts)\n",
    "burst_times_all = mjd\n",
    "num_bins = 20\n",
    "hist_data, bin_centers, diffs, xaxis, yfit_poiss, yfit_weib, param_array = cumul_fit(\n",
    "    burst_times_all, num_bins, 0.0001, max_diff, True\n",
    ")\n",
    "\n",
    "r_poiss = param_array[0]\n",
    "r_poiss_error = param_array[1]\n",
    "r_weib = param_array[2]\n",
    "r_weib_error = param_array[3]\n",
    "k_weib = param_array[4]\n",
    "k_weib_error = param_array[5]\n",
    "poiss_chisq = param_array[6]\n",
    "weib_chisq = param_array[7]\n",
    "poiss_pval = param_array[8]\n",
    "weib_pval = param_array[9]"
   ]
  },
  {
   "cell_type": "code",
   "execution_count": 8,
   "metadata": {},
   "outputs": [
    {
     "name": "stdout",
     "output_type": "stream",
     "text": [
      "Minimum wait time= 2.0718 s\n",
      "Maximum wait time= 572.3 s\n",
      "Poisson:\n",
      " r = 41 +/- 1.6 hour^-1\n",
      "Weibull:\n",
      " r = 46 +/- 1.5 hour^-1\n",
      " k = 1.162 +/- 0.043\n",
      "Poisson:\n",
      "Reduced Chi-squared = 1.076; p-value = 0.43619;  r^2 = 0.994\n",
      "Max resid = 0.056; avg resid = 0.025\n",
      "Weibull:\n",
      "Reduced Chi-squared = 0.368; p-value = 0.99664;  r^2 = 0.997\n",
      "Max resid = 0.056; avg resid = 0.017\n"
     ]
    },
    {
     "data": {
      "application/javascript": [
       "\n",
       "            setTimeout(function() {\n",
       "                var nbb_cell_id = 8;\n",
       "                var nbb_unformatted_code = \"# Wait times > 1s only\\n(\\n    hist_data_2,\\n    bin_centers_2,\\n    diffs_2,\\n    xaxis_2,\\n    yfit_poiss_2,\\n    yfit_weib_2,\\n    param_array_2,\\n) = cumul_fit(burst_times_all, num_bins, 1.0, max_diff, True)\\n\\nr_poiss_2 = param_array_2[0]\\nr_poiss_error_2 = param_array_2[1]\\nr_weib_2 = param_array_2[2]\\nr_weib_error_2 = param_array_2[3]\\nk_weib_2 = param_array_2[4]\\nk_weib_error_2 = param_array_2[5]\\npoiss_chisq_2 = param_array[6]\\npoiss_chisq_2 = param_array[7]\\npoiss_pval_2 = param_array_2[8]\\nweib_pval_2 = param_array_2[9]\";\n",
       "                var nbb_formatted_code = \"# Wait times > 1s only\\n(\\n    hist_data_2,\\n    bin_centers_2,\\n    diffs_2,\\n    xaxis_2,\\n    yfit_poiss_2,\\n    yfit_weib_2,\\n    param_array_2,\\n) = cumul_fit(burst_times_all, num_bins, 1.0, max_diff, True)\\n\\nr_poiss_2 = param_array_2[0]\\nr_poiss_error_2 = param_array_2[1]\\nr_weib_2 = param_array_2[2]\\nr_weib_error_2 = param_array_2[3]\\nk_weib_2 = param_array_2[4]\\nk_weib_error_2 = param_array_2[5]\\npoiss_chisq_2 = param_array[6]\\npoiss_chisq_2 = param_array[7]\\npoiss_pval_2 = param_array_2[8]\\nweib_pval_2 = param_array_2[9]\";\n",
       "                var nbb_cells = Jupyter.notebook.get_cells();\n",
       "                for (var i = 0; i < nbb_cells.length; ++i) {\n",
       "                    if (nbb_cells[i].input_prompt_number == nbb_cell_id) {\n",
       "                        if (nbb_cells[i].get_text() == nbb_unformatted_code) {\n",
       "                             nbb_cells[i].set_text(nbb_formatted_code);\n",
       "                        }\n",
       "                        break;\n",
       "                    }\n",
       "                }\n",
       "            }, 500);\n",
       "            "
      ],
      "text/plain": [
       "<IPython.core.display.Javascript object>"
      ]
     },
     "metadata": {},
     "output_type": "display_data"
    }
   ],
   "source": [
    "# Wait times > 1s only\n",
    "(\n",
    "    hist_data_2,\n",
    "    bin_centers_2,\n",
    "    diffs_2,\n",
    "    xaxis_2,\n",
    "    yfit_poiss_2,\n",
    "    yfit_weib_2,\n",
    "    param_array_2,\n",
    ") = cumul_fit(burst_times_all, num_bins, 1.0, max_diff, True)\n",
    "\n",
    "r_poiss_2 = param_array_2[0]\n",
    "r_poiss_error_2 = param_array_2[1]\n",
    "r_weib_2 = param_array_2[2]\n",
    "r_weib_error_2 = param_array_2[3]\n",
    "k_weib_2 = param_array_2[4]\n",
    "k_weib_error_2 = param_array_2[5]\n",
    "poiss_chisq_2 = param_array[6]\n",
    "poiss_chisq_2 = param_array[7]\n",
    "poiss_pval_2 = param_array_2[8]\n",
    "weib_pval_2 = param_array_2[9]"
   ]
  },
  {
   "cell_type": "markdown",
   "metadata": {},
   "source": [
    "Below we run the same analysis for a variety of minimum wait time cutoffs. It plots the fitted values and their errors for a variety of cutoffs, and at the very bottom the final plot is created."
   ]
  },
  {
   "cell_type": "code",
   "execution_count": 9,
   "metadata": {},
   "outputs": [
    {
     "data": {
      "application/javascript": [
       "\n",
       "            setTimeout(function() {\n",
       "                var nbb_cell_id = 9;\n",
       "                var nbb_unformatted_code = \"# Min and max wait times to use as cutoffs\\nstart = np.log10(0.001)\\nend = np.log10(1.0)\\ncutoffs = np.logspace(start, end, 100)\\n\\nall_rp = []\\nall_rpe = []\\nall_rw = []\\nall_rwe = []\\nall_kw = []\\nall_kwe = []\\nall_chisqp = []\\nall_chisqw = []\\nall_pvalp = []\\nall_pvalw = []\\n\\nfor cutoff in cutoffs:\\n    (\\n        hist_data_3,\\n        bin_edges_3,\\n        diffs_3,\\n        xaxis_3,\\n        yfit_poiss_3,\\n        yfit_weib_3,\\n        param_array_3,\\n    ) = cumul_fit(burst_times_all, num_bins, cutoff, max_diff, False)\\n\\n    r_poiss_3 = param_array_3[0]\\n    r_poiss_error_3 = param_array_3[1]\\n    r_weib_3 = param_array_3[2]\\n    r_weib_error_3 = param_array_3[3]\\n    k_weib_3 = param_array_3[4]\\n    k_weib_error_3 = param_array_3[5]\\n    poiss_chisq_3 = param_array_3[6]\\n    weib_chisq_3 = param_array_3[7]\\n    poiss_pval_3 = param_array_3[8]\\n    weib_pval_3 = param_array_3[9]\\n\\n    all_rp.append(r_poiss_3)\\n    all_rpe.append(r_poiss_error_3)\\n    all_rw.append(r_weib_3)\\n    all_rwe.append(r_weib_error_3)\\n    all_kw.append(k_weib_3)\\n    all_kwe.append(k_weib_error_3)\\n    all_chisqp.append(poiss_chisq_3)\\n    all_chisqw.append(weib_chisq_3)\\n    all_pvalp.append(poiss_pval_3)\\n    all_pvalw.append(weib_pval_3)\";\n",
       "                var nbb_formatted_code = \"# Min and max wait times to use as cutoffs\\nstart = np.log10(0.001)\\nend = np.log10(1.0)\\ncutoffs = np.logspace(start, end, 100)\\n\\nall_rp = []\\nall_rpe = []\\nall_rw = []\\nall_rwe = []\\nall_kw = []\\nall_kwe = []\\nall_chisqp = []\\nall_chisqw = []\\nall_pvalp = []\\nall_pvalw = []\\n\\nfor cutoff in cutoffs:\\n    (\\n        hist_data_3,\\n        bin_edges_3,\\n        diffs_3,\\n        xaxis_3,\\n        yfit_poiss_3,\\n        yfit_weib_3,\\n        param_array_3,\\n    ) = cumul_fit(burst_times_all, num_bins, cutoff, max_diff, False)\\n\\n    r_poiss_3 = param_array_3[0]\\n    r_poiss_error_3 = param_array_3[1]\\n    r_weib_3 = param_array_3[2]\\n    r_weib_error_3 = param_array_3[3]\\n    k_weib_3 = param_array_3[4]\\n    k_weib_error_3 = param_array_3[5]\\n    poiss_chisq_3 = param_array_3[6]\\n    weib_chisq_3 = param_array_3[7]\\n    poiss_pval_3 = param_array_3[8]\\n    weib_pval_3 = param_array_3[9]\\n\\n    all_rp.append(r_poiss_3)\\n    all_rpe.append(r_poiss_error_3)\\n    all_rw.append(r_weib_3)\\n    all_rwe.append(r_weib_error_3)\\n    all_kw.append(k_weib_3)\\n    all_kwe.append(k_weib_error_3)\\n    all_chisqp.append(poiss_chisq_3)\\n    all_chisqw.append(weib_chisq_3)\\n    all_pvalp.append(poiss_pval_3)\\n    all_pvalw.append(weib_pval_3)\";\n",
       "                var nbb_cells = Jupyter.notebook.get_cells();\n",
       "                for (var i = 0; i < nbb_cells.length; ++i) {\n",
       "                    if (nbb_cells[i].input_prompt_number == nbb_cell_id) {\n",
       "                        if (nbb_cells[i].get_text() == nbb_unformatted_code) {\n",
       "                             nbb_cells[i].set_text(nbb_formatted_code);\n",
       "                        }\n",
       "                        break;\n",
       "                    }\n",
       "                }\n",
       "            }, 500);\n",
       "            "
      ],
      "text/plain": [
       "<IPython.core.display.Javascript object>"
      ]
     },
     "metadata": {},
     "output_type": "display_data"
    }
   ],
   "source": [
    "# Min and max wait times to use as cutoffs\n",
    "start = np.log10(0.001)\n",
    "end = np.log10(1.0)\n",
    "cutoffs = np.logspace(start, end, 100)\n",
    "\n",
    "all_rp = []\n",
    "all_rpe = []\n",
    "all_rw = []\n",
    "all_rwe = []\n",
    "all_kw = []\n",
    "all_kwe = []\n",
    "all_chisqp = []\n",
    "all_chisqw = []\n",
    "all_pvalp = []\n",
    "all_pvalw = []\n",
    "\n",
    "for cutoff in cutoffs:\n",
    "    (\n",
    "        hist_data_3,\n",
    "        bin_edges_3,\n",
    "        diffs_3,\n",
    "        xaxis_3,\n",
    "        yfit_poiss_3,\n",
    "        yfit_weib_3,\n",
    "        param_array_3,\n",
    "    ) = cumul_fit(burst_times_all, num_bins, cutoff, max_diff, False)\n",
    "\n",
    "    r_poiss_3 = param_array_3[0]\n",
    "    r_poiss_error_3 = param_array_3[1]\n",
    "    r_weib_3 = param_array_3[2]\n",
    "    r_weib_error_3 = param_array_3[3]\n",
    "    k_weib_3 = param_array_3[4]\n",
    "    k_weib_error_3 = param_array_3[5]\n",
    "    poiss_chisq_3 = param_array_3[6]\n",
    "    weib_chisq_3 = param_array_3[7]\n",
    "    poiss_pval_3 = param_array_3[8]\n",
    "    weib_pval_3 = param_array_3[9]\n",
    "\n",
    "    all_rp.append(r_poiss_3)\n",
    "    all_rpe.append(r_poiss_error_3)\n",
    "    all_rw.append(r_weib_3)\n",
    "    all_rwe.append(r_weib_error_3)\n",
    "    all_kw.append(k_weib_3)\n",
    "    all_kwe.append(k_weib_error_3)\n",
    "    all_chisqp.append(poiss_chisq_3)\n",
    "    all_chisqw.append(weib_chisq_3)\n",
    "    all_pvalp.append(poiss_pval_3)\n",
    "    all_pvalw.append(weib_pval_3)"
   ]
  },
  {
   "cell_type": "code",
   "execution_count": 10,
   "metadata": {},
   "outputs": [
    {
     "data": {
      "image/png": "[encoded data removed]",
      "text/plain": [
       "<Figure size 1440x576 with 2 Axes>"
      ]
     },
     "metadata": {
      "needs_background": "light"
     },
     "output_type": "display_data"
    },
    {
     "data": {
      "application/javascript": [
       "\n",
       "            setTimeout(function() {\n",
       "                var nbb_cell_id = 10;\n",
       "                var nbb_unformatted_code = \"fig, ax = plt.subplots(1, 2, figsize=(20, 8))\\nax[0].set_xscale(\\\"log\\\")\\nax[0].errorbar(\\n    cutoffs, all_rp, yerr=all_rpe, capsize=4, linestyle=\\\"\\\", label=\\\"Poisson r\\\"\\n)\\nax[0].errorbar(\\n    cutoffs, all_rw, yerr=all_rwe, capsize=4, linestyle=\\\"\\\", label=\\\"Weibull r\\\"\\n)\\nax[0].legend()\\nax[0].set_xlabel(\\\"Minimum Wait Time (s)\\\")\\nax[0].set_ylabel(\\\"Rate (hour^-1)\\\")\\n\\nax[1].set_xscale(\\\"log\\\")\\nax[1].set_xlabel(\\\"Minimum Wait Time (s)\\\")\\nax[1].set_ylabel(\\\"k\\\")\\nax[1].errorbar(\\n    cutoffs, all_kw, yerr=all_kwe, capsize=4, linestyle=\\\"\\\", label=\\\"Weibull k\\\"\\n)\\nplt.show()\";\n",
       "                var nbb_formatted_code = \"fig, ax = plt.subplots(1, 2, figsize=(20, 8))\\nax[0].set_xscale(\\\"log\\\")\\nax[0].errorbar(\\n    cutoffs, all_rp, yerr=all_rpe, capsize=4, linestyle=\\\"\\\", label=\\\"Poisson r\\\"\\n)\\nax[0].errorbar(\\n    cutoffs, all_rw, yerr=all_rwe, capsize=4, linestyle=\\\"\\\", label=\\\"Weibull r\\\"\\n)\\nax[0].legend()\\nax[0].set_xlabel(\\\"Minimum Wait Time (s)\\\")\\nax[0].set_ylabel(\\\"Rate (hour^-1)\\\")\\n\\nax[1].set_xscale(\\\"log\\\")\\nax[1].set_xlabel(\\\"Minimum Wait Time (s)\\\")\\nax[1].set_ylabel(\\\"k\\\")\\nax[1].errorbar(\\n    cutoffs, all_kw, yerr=all_kwe, capsize=4, linestyle=\\\"\\\", label=\\\"Weibull k\\\"\\n)\\nplt.show()\";\n",
       "                var nbb_cells = Jupyter.notebook.get_cells();\n",
       "                for (var i = 0; i < nbb_cells.length; ++i) {\n",
       "                    if (nbb_cells[i].input_prompt_number == nbb_cell_id) {\n",
       "                        if (nbb_cells[i].get_text() == nbb_unformatted_code) {\n",
       "                             nbb_cells[i].set_text(nbb_formatted_code);\n",
       "                        }\n",
       "                        break;\n",
       "                    }\n",
       "                }\n",
       "            }, 500);\n",
       "            "
      ],
      "text/plain": [
       "<IPython.core.display.Javascript object>"
      ]
     },
     "metadata": {},
     "output_type": "display_data"
    }
   ],
   "source": [
    "fig, ax = plt.subplots(1, 2, figsize=(20, 8))\n",
    "ax[0].set_xscale(\"log\")\n",
    "ax[0].errorbar(\n",
    "    cutoffs, all_rp, yerr=all_rpe, capsize=4, linestyle=\"\", label=\"Poisson r\"\n",
    ")\n",
    "ax[0].errorbar(\n",
    "    cutoffs, all_rw, yerr=all_rwe, capsize=4, linestyle=\"\", label=\"Weibull r\"\n",
    ")\n",
    "ax[0].legend()\n",
    "ax[0].set_xlabel(\"Minimum Wait Time (s)\")\n",
    "ax[0].set_ylabel(\"Rate (hour^-1)\")\n",
    "\n",
    "ax[1].set_xscale(\"log\")\n",
    "ax[1].set_xlabel(\"Minimum Wait Time (s)\")\n",
    "ax[1].set_ylabel(\"k\")\n",
    "ax[1].errorbar(\n",
    "    cutoffs, all_kw, yerr=all_kwe, capsize=4, linestyle=\"\", label=\"Weibull k\"\n",
    ")\n",
    "plt.show()"
   ]
  },
  {
   "cell_type": "code",
   "execution_count": 11,
   "metadata": {},
   "outputs": [
    {
     "data": {
      "image/png": "[encoded data removed]",
      "text/plain": [
       "<Figure size 511.2x131.641 with 3 Axes>"
      ]
     },
     "metadata": {
      "needs_background": "light"
     },
     "output_type": "display_data"
    },
    {
     "data": {
      "application/javascript": [
       "\n",
       "            setTimeout(function() {\n",
       "                var nbb_cell_id = 11;\n",
       "                var nbb_unformatted_code = \"with plt.style.context([\\\"science\\\", \\\"grid\\\"]):#, \\\"no-latex\\\"]):\\n    fig, ax = plt.subplots(1, 3, figsize=set_size(width=\\\"full\\\", subplots=(1.25, 3)))\\n    ax[0].plot(\\n        xaxis,\\n        yfit_poiss,\\n        label=r\\\"$r$=\\\" + str(int(r_poiss)) + r\\\" hr$^{-1}$\\\",\\n    )\\n    ax[0].plot(\\n        xaxis,\\n        yfit_weib,\\n        \\\"--\\\",\\n        label=r\\\"$k=$\\\" + str(k_weib) + \\\",$r=$\\\" + str(int(r_weib)) + r\\\" hr$^{-1}$\\\",\\n    )\\n    ax[0].plot(bin_centers, hist_data, \\\"k.\\\")\\n    ax[0].set_xscale(\\\"log\\\")\\n    ax[0].set_xlabel(\\\"Wait time (s)\\\")\\n    ax[0].set_ylabel(\\\"Normalized Counts\\\")\\n    # ax[0].legend()\\n\\n    ax[1].plot(\\n        xaxis_2,\\n        yfit_poiss_2,\\n        label=r\\\"$r=$\\\" + str(int(r_poiss_2)) + r\\\"hr$^{-1}$\\\",\\n    )\\n    ax[1].plot(\\n        xaxis_2,\\n        yfit_weib_2,\\n        \\\"--\\\",\\n        label=r\\\"$k=$\\\" + str(k_weib_2) + \\\",$r=$\\\" + str(int(r_weib_2)) + r\\\" hr$^{-1}$\\\",\\n    )\\n    ax[1].plot(bin_centers_2, hist_data_2, \\\"k.\\\")\\n    ax[1].set_xscale(\\\"log\\\")\\n    ax[1].set_xlabel(\\\"Wait time (s)\\\")\\n    ax[1].set_ylabel(\\\"Normalized Counts\\\")\\n    # ax[1].legend()\\n\\n    ax[2].set_xscale(\\\"log\\\")\\n    # ax[2].set_yscale(\\\"log\\\")\\n    ax[2].plot(cutoffs, all_chisqp, label=\\\"Poisson\\\")\\n    ax[2].plot(cutoffs, all_chisqw, \\\"--\\\", label=\\\"Weibull\\\")\\n    # ax[2].legend()\\n    ax[2].set_xlabel(\\\"Minimum wait time (s)\\\")\\n    ax[2].set_ylabel(r\\\"$\\\\chi^2$\\\")\\n    plt.tight_layout()\\n    plt.savefig(\\\"burst_rate.pdf\\\", bbox_inches=\\\"tight\\\", dpi=300)\\n    plt.show()\";\n",
       "                var nbb_formatted_code = \"with plt.style.context([\\\"science\\\", \\\"grid\\\"]):  # , \\\"no-latex\\\"]):\\n    fig, ax = plt.subplots(1, 3, figsize=set_size(width=\\\"full\\\", subplots=(1.25, 3)))\\n    ax[0].plot(\\n        xaxis,\\n        yfit_poiss,\\n        label=r\\\"$r$=\\\" + str(int(r_poiss)) + r\\\" hr$^{-1}$\\\",\\n    )\\n    ax[0].plot(\\n        xaxis,\\n        yfit_weib,\\n        \\\"--\\\",\\n        label=r\\\"$k=$\\\" + str(k_weib) + \\\",$r=$\\\" + str(int(r_weib)) + r\\\" hr$^{-1}$\\\",\\n    )\\n    ax[0].plot(bin_centers, hist_data, \\\"k.\\\")\\n    ax[0].set_xscale(\\\"log\\\")\\n    ax[0].set_xlabel(\\\"Wait time (s)\\\")\\n    ax[0].set_ylabel(\\\"Normalized Counts\\\")\\n    # ax[0].legend()\\n\\n    ax[1].plot(\\n        xaxis_2,\\n        yfit_poiss_2,\\n        label=r\\\"$r=$\\\" + str(int(r_poiss_2)) + r\\\"hr$^{-1}$\\\",\\n    )\\n    ax[1].plot(\\n        xaxis_2,\\n        yfit_weib_2,\\n        \\\"--\\\",\\n        label=r\\\"$k=$\\\" + str(k_weib_2) + \\\",$r=$\\\" + str(int(r_weib_2)) + r\\\" hr$^{-1}$\\\",\\n    )\\n    ax[1].plot(bin_centers_2, hist_data_2, \\\"k.\\\")\\n    ax[1].set_xscale(\\\"log\\\")\\n    ax[1].set_xlabel(\\\"Wait time (s)\\\")\\n    ax[1].set_ylabel(\\\"Normalized Counts\\\")\\n    # ax[1].legend()\\n\\n    ax[2].set_xscale(\\\"log\\\")\\n    # ax[2].set_yscale(\\\"log\\\")\\n    ax[2].plot(cutoffs, all_chisqp, label=\\\"Poisson\\\")\\n    ax[2].plot(cutoffs, all_chisqw, \\\"--\\\", label=\\\"Weibull\\\")\\n    # ax[2].legend()\\n    ax[2].set_xlabel(\\\"Minimum wait time (s)\\\")\\n    ax[2].set_ylabel(r\\\"$\\\\chi^2$\\\")\\n    plt.tight_layout()\\n    plt.savefig(\\\"burst_rate.pdf\\\", bbox_inches=\\\"tight\\\", dpi=300)\\n    plt.show()\";\n",
       "                var nbb_cells = Jupyter.notebook.get_cells();\n",
       "                for (var i = 0; i < nbb_cells.length; ++i) {\n",
       "                    if (nbb_cells[i].input_prompt_number == nbb_cell_id) {\n",
       "                        if (nbb_cells[i].get_text() == nbb_unformatted_code) {\n",
       "                             nbb_cells[i].set_text(nbb_formatted_code);\n",
       "                        }\n",
       "                        break;\n",
       "                    }\n",
       "                }\n",
       "            }, 500);\n",
       "            "
      ],
      "text/plain": [
       "<IPython.core.display.Javascript object>"
      ]
     },
     "metadata": {},
     "output_type": "display_data"
    }
   ],
   "source": [
    "with plt.style.context([\"science\", \"grid\"]):  # , \"no-latex\"]):\n",
    "    fig, ax = plt.subplots(1, 3, figsize=set_size(width=\"full\", subplots=(1.25, 3)))\n",
    "    ax[0].plot(\n",
    "        xaxis,\n",
    "        yfit_poiss,\n",
    "        label=r\"$r$=\" + str(int(r_poiss)) + r\" hr$^{-1}$\",\n",
    "    )\n",
    "    ax[0].plot(\n",
    "        xaxis,\n",
    "        yfit_weib,\n",
    "        \"--\",\n",
    "        label=r\"$k=$\" + str(k_weib) + \",$r=$\" + str(int(r_weib)) + r\" hr$^{-1}$\",\n",
    "    )\n",
    "    ax[0].plot(bin_centers, hist_data, \"k.\")\n",
    "    ax[0].set_xscale(\"log\")\n",
    "    ax[0].set_xlabel(\"Wait time (s)\")\n",
    "    ax[0].set_ylabel(\"Normalized Counts\")\n",
    "    # ax[0].legend()\n",
    "\n",
    "    ax[1].plot(\n",
    "        xaxis_2,\n",
    "        yfit_poiss_2,\n",
    "        label=r\"$r=$\" + str(int(r_poiss_2)) + r\"hr$^{-1}$\",\n",
    "    )\n",
    "    ax[1].plot(\n",
    "        xaxis_2,\n",
    "        yfit_weib_2,\n",
    "        \"--\",\n",
    "        label=r\"$k=$\" + str(k_weib_2) + \",$r=$\" + str(int(r_weib_2)) + r\" hr$^{-1}$\",\n",
    "    )\n",
    "    ax[1].plot(bin_centers_2, hist_data_2, \"k.\")\n",
    "    ax[1].set_xscale(\"log\")\n",
    "    ax[1].set_xlabel(\"Wait time (s)\")\n",
    "    ax[1].set_ylabel(\"Normalized Counts\")\n",
    "    # ax[1].legend()\n",
    "\n",
    "    ax[2].set_xscale(\"log\")\n",
    "    # ax[2].set_yscale(\"log\")\n",
    "    ax[2].plot(cutoffs, all_chisqp, label=\"Poisson\")\n",
    "    ax[2].plot(cutoffs, all_chisqw, \"--\", label=\"Weibull\")\n",
    "    # ax[2].legend()\n",
    "    ax[2].set_xlabel(\"Minimum wait time (s)\")\n",
    "    ax[2].set_ylabel(r\"$\\chi^2$\")\n",
    "    plt.tight_layout()\n",
    "    plt.savefig(\"burst_rate.pdf\", bbox_inches=\"tight\", dpi=300)\n",
    "    plt.show()"
   ]
  },
  {
   "cell_type": "code",
   "execution_count": null,
   "metadata": {},
   "outputs": [],
   "source": []
  }
 ],
 "metadata": {
  "kernelspec": {
   "display_name": "Python 3",
   "language": "python",
   "name": "python3"
  },
  "language_info": {
   "codemirror_mode": {
    "name": "ipython",
    "version": 3
   },
   "file_extension": ".py",
   "mimetype": "text/x-python",
   "name": "python",
   "nbconvert_exporter": "python",
   "pygments_lexer": "ipython3",
   "version": "3.6.8"
  }
 },
 "nbformat": 4,
 "nbformat_minor": 4
}
