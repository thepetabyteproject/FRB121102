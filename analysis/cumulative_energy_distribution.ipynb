{
 "cells": [
  {
   "cell_type": "code",
   "execution_count": 1,
   "metadata": {},
   "outputs": [
    {
     "data": {
      "application/javascript": [
       "\n",
       "            setTimeout(function() {\n",
       "                var nbb_cell_id = 1;\n",
       "                var nbb_unformatted_code = \"%load_ext nb_black\\n\\nimport pandas as pd\\nimport numpy as np\\nimport matplotlib.pyplot as plt\\nfrom scipy.optimize import curve_fit\\nimport glob\\nimport random\\nfrom tqdm.auto import tqdm\\nfrom scipy.stats import norm\";\n",
       "                var nbb_formatted_code = \"%load_ext nb_black\\n\\nimport pandas as pd\\nimport numpy as np\\nimport matplotlib.pyplot as plt\\nfrom scipy.optimize import curve_fit\\nimport glob\\nimport random\\nfrom tqdm.auto import tqdm\\nfrom scipy.stats import norm\";\n",
       "                var nbb_cells = Jupyter.notebook.get_cells();\n",
       "                for (var i = 0; i < nbb_cells.length; ++i) {\n",
       "                    if (nbb_cells[i].input_prompt_number == nbb_cell_id) {\n",
       "                        if (nbb_cells[i].get_text() == nbb_unformatted_code) {\n",
       "                             nbb_cells[i].set_text(nbb_formatted_code);\n",
       "                        }\n",
       "                        break;\n",
       "                    }\n",
       "                }\n",
       "            }, 500);\n",
       "            "
      ],
      "text/plain": [
       "<IPython.core.display.Javascript object>"
      ]
     },
     "metadata": {},
     "output_type": "display_data"
    }
   ],
   "source": [
    "%load_ext nb_black\n",
    "\n",
    "import pandas as pd\n",
    "import numpy as np\n",
    "import matplotlib.pyplot as plt\n",
    "from scipy.optimize import curve_fit\n",
    "import glob\n",
    "import random\n",
    "from tqdm.auto import tqdm\n",
    "from scipy.stats import norm"
   ]
  },
  {
   "cell_type": "code",
   "execution_count": 2,
   "metadata": {},
   "outputs": [
    {
     "data": {
      "application/javascript": [
       "\n",
       "            setTimeout(function() {\n",
       "                var nbb_cell_id = 2;\n",
       "                var nbb_unformatted_code = \"def set_size(width, fraction=1, subplots=(1, 1)):  # for science plots?\\n    \\\"\\\"\\\"Set figure dimensions to avoid scaling in LaTeX.\\n    Source: https://jwalton.info/Embed-Publication-Matplotlib-Latex/\\n\\n    Parameters\\n    ----------\\n    width: float or string\\n            Document width in points, or string of predined document type\\n    fraction: float, optional\\n            Fraction of the width which you wish the figure to occupy\\n    subplots: array-like, optional\\n            The number of rows and columns of subplots.\\n    Returns\\n    -------\\n    fig_dim: tuple\\n            Dimensions of figure in inches\\n    \\\"\\\"\\\"\\n    if width == \\\"full\\\":\\n        width_pt = 513.11743\\n    elif width == \\\"half\\\":\\n        width_pt = 242.26653\\n    else:\\n        width_pt = width\\n\\n    # Width of figure (in pts)\\n    fig_width_pt = width_pt * fraction\\n    # Convert from pt to inches\\n    inches_per_pt = 1 / 72.27\\n\\n    # Golden ratio to set aesthetic figure height\\n    # https://disq.us/p/2940ij3\\n    golden_ratio = (5 ** 0.5 - 1) / 2\\n\\n    # Figure width in inches\\n    fig_width_in = fig_width_pt * inches_per_pt\\n    # Figure height in inches\\n    fig_height_in = fig_width_in * golden_ratio * (subplots[0] / subplots[1])\\n\\n    return (fig_width_in, fig_height_in)\";\n",
       "                var nbb_formatted_code = \"def set_size(width, fraction=1, subplots=(1, 1)):  # for science plots?\\n    \\\"\\\"\\\"Set figure dimensions to avoid scaling in LaTeX.\\n    Source: https://jwalton.info/Embed-Publication-Matplotlib-Latex/\\n\\n    Parameters\\n    ----------\\n    width: float or string\\n            Document width in points, or string of predined document type\\n    fraction: float, optional\\n            Fraction of the width which you wish the figure to occupy\\n    subplots: array-like, optional\\n            The number of rows and columns of subplots.\\n    Returns\\n    -------\\n    fig_dim: tuple\\n            Dimensions of figure in inches\\n    \\\"\\\"\\\"\\n    if width == \\\"full\\\":\\n        width_pt = 513.11743\\n    elif width == \\\"half\\\":\\n        width_pt = 242.26653\\n    else:\\n        width_pt = width\\n\\n    # Width of figure (in pts)\\n    fig_width_pt = width_pt * fraction\\n    # Convert from pt to inches\\n    inches_per_pt = 1 / 72.27\\n\\n    # Golden ratio to set aesthetic figure height\\n    # https://disq.us/p/2940ij3\\n    golden_ratio = (5 ** 0.5 - 1) / 2\\n\\n    # Figure width in inches\\n    fig_width_in = fig_width_pt * inches_per_pt\\n    # Figure height in inches\\n    fig_height_in = fig_width_in * golden_ratio * (subplots[0] / subplots[1])\\n\\n    return (fig_width_in, fig_height_in)\";\n",
       "                var nbb_cells = Jupyter.notebook.get_cells();\n",
       "                for (var i = 0; i < nbb_cells.length; ++i) {\n",
       "                    if (nbb_cells[i].input_prompt_number == nbb_cell_id) {\n",
       "                        if (nbb_cells[i].get_text() == nbb_unformatted_code) {\n",
       "                             nbb_cells[i].set_text(nbb_formatted_code);\n",
       "                        }\n",
       "                        break;\n",
       "                    }\n",
       "                }\n",
       "            }, 500);\n",
       "            "
      ],
      "text/plain": [
       "<IPython.core.display.Javascript object>"
      ]
     },
     "metadata": {},
     "output_type": "display_data"
    }
   ],
   "source": [
    "def set_size(width, fraction=1, subplots=(1, 1)):  # for science plots?\n",
    "    \"\"\"Set figure dimensions to avoid scaling in LaTeX.\n",
    "    Source: https://jwalton.info/Embed-Publication-Matplotlib-Latex/\n",
    "\n",
    "    Parameters\n",
    "    ----------\n",
    "    width: float or string\n",
    "            Document width in points, or string of predined document type\n",
    "    fraction: float, optional\n",
    "            Fraction of the width which you wish the figure to occupy\n",
    "    subplots: array-like, optional\n",
    "            The number of rows and columns of subplots.\n",
    "    Returns\n",
    "    -------\n",
    "    fig_dim: tuple\n",
    "            Dimensions of figure in inches\n",
    "    \"\"\"\n",
    "    if width == \"full\":\n",
    "        width_pt = 513.11743\n",
    "    elif width == \"half\":\n",
    "        width_pt = 242.26653\n",
    "    else:\n",
    "        width_pt = width\n",
    "\n",
    "    # Width of figure (in pts)\n",
    "    fig_width_pt = width_pt * fraction\n",
    "    # Convert from pt to inches\n",
    "    inches_per_pt = 1 / 72.27\n",
    "\n",
    "    # Golden ratio to set aesthetic figure height\n",
    "    # https://disq.us/p/2940ij3\n",
    "    golden_ratio = (5 ** 0.5 - 1) / 2\n",
    "\n",
    "    # Figure width in inches\n",
    "    fig_width_in = fig_width_pt * inches_per_pt\n",
    "    # Figure height in inches\n",
    "    fig_height_in = fig_width_in * golden_ratio * (subplots[0] / subplots[1])\n",
    "\n",
    "    return (fig_width_in, fig_height_in)"
   ]
  },
  {
   "cell_type": "code",
   "execution_count": 3,
   "metadata": {},
   "outputs": [
    {
     "name": "stdout",
     "output_type": "stream",
     "text": [
      "(64,)\n"
     ]
    },
    {
     "data": {
      "application/javascript": [
       "\n",
       "            setTimeout(function() {\n",
       "                var nbb_cell_id = 3;\n",
       "                var nbb_unformatted_code = \"data = pd.read_csv(\\\"../data/all_bursts_bary.csv\\\")\\ntru = data[\\\"use_fluence\\\"]  # use only the good ones marked as true\\nuseful_data = data[tru]\\nuse = useful_data[\\\"fit_method\\\"] != \\\"curvefit\\\"  # use only mcmc\\nto_use = useful_data[use]\\nbandgood1 = (\\n    to_use[\\\"$\\\\mu_f$ (MHz)\\\"] + 1.0 * to_use[\\\"$\\\\sigma_f$ (MHz)\\\"]\\n) < 1780  # top of band 1780 MHz\\nband1 = to_use[bandgood1]\\nbandgood2 = (\\n    band1[\\\"$\\\\mu_f$ (MHz)\\\"] - 1.0 * band1[\\\"$\\\\sigma_f$ (MHz)\\\"]\\n) > 980  # bottom of band 980 MHz\\nband2 = band1[bandgood2]\\ncandids = np.array(\\n    band2[\\\"cand_id\\\"]\\n)  # compare the cand id to the files in the directory which has distributions\\npath = \\\"../../fluence_times_bw/\\\"\\nfinal_file = []\\nfor i in candids:\\n    file = path + i + \\\"_fluence_times_bw.npy\\\"\\n    final_file = np.append(final_file, file)\\n    # data = np.load(file)\\nprint(final_file.shape)\";\n",
       "                var nbb_formatted_code = \"data = pd.read_csv(\\\"../data/all_bursts_bary.csv\\\")\\ntru = data[\\\"use_fluence\\\"]  # use only the good ones marked as true\\nuseful_data = data[tru]\\nuse = useful_data[\\\"fit_method\\\"] != \\\"curvefit\\\"  # use only mcmc\\nto_use = useful_data[use]\\nbandgood1 = (\\n    to_use[\\\"$\\\\mu_f$ (MHz)\\\"] + 1.0 * to_use[\\\"$\\\\sigma_f$ (MHz)\\\"]\\n) < 1780  # top of band 1780 MHz\\nband1 = to_use[bandgood1]\\nbandgood2 = (\\n    band1[\\\"$\\\\mu_f$ (MHz)\\\"] - 1.0 * band1[\\\"$\\\\sigma_f$ (MHz)\\\"]\\n) > 980  # bottom of band 980 MHz\\nband2 = band1[bandgood2]\\ncandids = np.array(\\n    band2[\\\"cand_id\\\"]\\n)  # compare the cand id to the files in the directory which has distributions\\npath = \\\"../../fluence_times_bw/\\\"\\nfinal_file = []\\nfor i in candids:\\n    file = path + i + \\\"_fluence_times_bw.npy\\\"\\n    final_file = np.append(final_file, file)\\n    # data = np.load(file)\\nprint(final_file.shape)\";\n",
       "                var nbb_cells = Jupyter.notebook.get_cells();\n",
       "                for (var i = 0; i < nbb_cells.length; ++i) {\n",
       "                    if (nbb_cells[i].input_prompt_number == nbb_cell_id) {\n",
       "                        if (nbb_cells[i].get_text() == nbb_unformatted_code) {\n",
       "                             nbb_cells[i].set_text(nbb_formatted_code);\n",
       "                        }\n",
       "                        break;\n",
       "                    }\n",
       "                }\n",
       "            }, 500);\n",
       "            "
      ],
      "text/plain": [
       "<IPython.core.display.Javascript object>"
      ]
     },
     "metadata": {},
     "output_type": "display_data"
    }
   ],
   "source": [
    "data = pd.read_csv(\"../data/all_bursts_bary.csv\")\n",
    "tru = data[\"use_fluence\"]  # use only the good ones marked as true\n",
    "useful_data = data[tru]\n",
    "use = useful_data[\"fit_method\"] != \"curvefit\"  # use only mcmc\n",
    "to_use = useful_data[use]\n",
    "bandgood1 = (\n",
    "    to_use[\"$\\mu_f$ (MHz)\"] + 1.0 * to_use[\"$\\sigma_f$ (MHz)\"]\n",
    ") < 1780  # top of band 1780 MHz\n",
    "band1 = to_use[bandgood1]\n",
    "bandgood2 = (\n",
    "    band1[\"$\\mu_f$ (MHz)\"] - 1.0 * band1[\"$\\sigma_f$ (MHz)\"]\n",
    ") > 980  # bottom of band 980 MHz\n",
    "band2 = band1[bandgood2]\n",
    "candids = np.array(\n",
    "    band2[\"cand_id\"]\n",
    ")  # compare the cand id to the files in the directory which has distributions\n",
    "path = \"../../fluence_times_bw/\"\n",
    "final_file = []\n",
    "for i in candids:\n",
    "    file = path + i + \"_fluence_times_bw.npy\"\n",
    "    final_file = np.append(final_file, file)\n",
    "    # data = np.load(file)\n",
    "print(final_file.shape)"
   ]
  },
  {
   "cell_type": "code",
   "execution_count": 4,
   "metadata": {},
   "outputs": [
    {
     "data": {
      "application/javascript": [
       "\n",
       "            setTimeout(function() {\n",
       "                var nbb_cell_id = 4;\n",
       "                var nbb_unformatted_code = \"# all the multi-comp bursts\\n\\nmulti1 = \\\"../../fluence_times_bw/cand_tstart_57644.407719907409_tcand_248.2970000_dm_562.05600_snr_97.12390_fluence_times_bw.npy\\\"\\nmulti2 = \\\"../../fluence_times_bw/cand_tstart_57644.407719907409_tcand_4886.4000000_dm_565.30000_snr_15.69560_fluence_times_bw.npy\\\"\\nmulti3 = \\\"../../fluence_times_bw/cand_tstart_57645.409861111111_tcand_159.4330000_dm_558.83100_snr_7.95436_fluence_times_bw.npy\\\"\\nmulti4 = \\\"../../fluence_times_bw/cand_tstart_57645.409861111111_tcand_1460.2500000_dm_555.62500_snr_12.63900_fluence_times_bw.npy\\\"\\nmulti5 = \\\"../../fluence_times_bw/cand_tstart_57645.409861111111_tcand_1743.9100000_dm_558.83100_snr_13.70630_fluence_times_bw.npy\\\"\\nmulti6 = \\\"../../fluence_times_bw/cand_tstart_57645.409861111111_tcand_4286.4700000_dm_562.05600_snr_168.68900_fluence_times_bw.npy\\\"\\nmulti_burst_names = list([multi1, multi2, multi3, multi4, multi5, multi6])\\n# multi = list([multi1,multi5,multi6])\";\n",
       "                var nbb_formatted_code = \"# all the multi-comp bursts\\n\\nmulti1 = \\\"../../fluence_times_bw/cand_tstart_57644.407719907409_tcand_248.2970000_dm_562.05600_snr_97.12390_fluence_times_bw.npy\\\"\\nmulti2 = \\\"../../fluence_times_bw/cand_tstart_57644.407719907409_tcand_4886.4000000_dm_565.30000_snr_15.69560_fluence_times_bw.npy\\\"\\nmulti3 = \\\"../../fluence_times_bw/cand_tstart_57645.409861111111_tcand_159.4330000_dm_558.83100_snr_7.95436_fluence_times_bw.npy\\\"\\nmulti4 = \\\"../../fluence_times_bw/cand_tstart_57645.409861111111_tcand_1460.2500000_dm_555.62500_snr_12.63900_fluence_times_bw.npy\\\"\\nmulti5 = \\\"../../fluence_times_bw/cand_tstart_57645.409861111111_tcand_1743.9100000_dm_558.83100_snr_13.70630_fluence_times_bw.npy\\\"\\nmulti6 = \\\"../../fluence_times_bw/cand_tstart_57645.409861111111_tcand_4286.4700000_dm_562.05600_snr_168.68900_fluence_times_bw.npy\\\"\\nmulti_burst_names = list([multi1, multi2, multi3, multi4, multi5, multi6])\\n# multi = list([multi1,multi5,multi6])\";\n",
       "                var nbb_cells = Jupyter.notebook.get_cells();\n",
       "                for (var i = 0; i < nbb_cells.length; ++i) {\n",
       "                    if (nbb_cells[i].input_prompt_number == nbb_cell_id) {\n",
       "                        if (nbb_cells[i].get_text() == nbb_unformatted_code) {\n",
       "                             nbb_cells[i].set_text(nbb_formatted_code);\n",
       "                        }\n",
       "                        break;\n",
       "                    }\n",
       "                }\n",
       "            }, 500);\n",
       "            "
      ],
      "text/plain": [
       "<IPython.core.display.Javascript object>"
      ]
     },
     "metadata": {},
     "output_type": "display_data"
    }
   ],
   "source": [
    "# all the multi-comp bursts\n",
    "\n",
    "multi1 = \"../../fluence_times_bw/cand_tstart_57644.407719907409_tcand_248.2970000_dm_562.05600_snr_97.12390_fluence_times_bw.npy\"\n",
    "multi2 = \"../../fluence_times_bw/cand_tstart_57644.407719907409_tcand_4886.4000000_dm_565.30000_snr_15.69560_fluence_times_bw.npy\"\n",
    "multi3 = \"../../fluence_times_bw/cand_tstart_57645.409861111111_tcand_159.4330000_dm_558.83100_snr_7.95436_fluence_times_bw.npy\"\n",
    "multi4 = \"../../fluence_times_bw/cand_tstart_57645.409861111111_tcand_1460.2500000_dm_555.62500_snr_12.63900_fluence_times_bw.npy\"\n",
    "multi5 = \"../../fluence_times_bw/cand_tstart_57645.409861111111_tcand_1743.9100000_dm_558.83100_snr_13.70630_fluence_times_bw.npy\"\n",
    "multi6 = \"../../fluence_times_bw/cand_tstart_57645.409861111111_tcand_4286.4700000_dm_562.05600_snr_168.68900_fluence_times_bw.npy\"\n",
    "multi_burst_names = list([multi1, multi2, multi3, multi4, multi5, multi6])\n",
    "# multi = list([multi1,multi5,multi6])"
   ]
  },
  {
   "cell_type": "code",
   "execution_count": 5,
   "metadata": {},
   "outputs": [
    {
     "data": {
      "application/javascript": [
       "\n",
       "            setTimeout(function() {\n",
       "                var nbb_cell_id = 5;\n",
       "                var nbb_unformatted_code = \"# deleting all the multi-comp bursts from the final_file list.\\n\\n\\ntest1 = np.delete(final_file, np.where(final_file == multi1))\\ntest2 = np.delete(test1, np.where(test1 == multi2))\\ntest3 = np.delete(test2, np.where(test2 == multi3))\\ntest4 = np.delete(test3, np.where(test3 == multi4))\\ntest5 = np.delete(test4, np.where(test4 == multi5))\\nonly_single_comp = np.delete(test5, np.where(test5 == multi6))\";\n",
       "                var nbb_formatted_code = \"# deleting all the multi-comp bursts from the final_file list.\\n\\n\\ntest1 = np.delete(final_file, np.where(final_file == multi1))\\ntest2 = np.delete(test1, np.where(test1 == multi2))\\ntest3 = np.delete(test2, np.where(test2 == multi3))\\ntest4 = np.delete(test3, np.where(test3 == multi4))\\ntest5 = np.delete(test4, np.where(test4 == multi5))\\nonly_single_comp = np.delete(test5, np.where(test5 == multi6))\";\n",
       "                var nbb_cells = Jupyter.notebook.get_cells();\n",
       "                for (var i = 0; i < nbb_cells.length; ++i) {\n",
       "                    if (nbb_cells[i].input_prompt_number == nbb_cell_id) {\n",
       "                        if (nbb_cells[i].get_text() == nbb_unformatted_code) {\n",
       "                             nbb_cells[i].set_text(nbb_formatted_code);\n",
       "                        }\n",
       "                        break;\n",
       "                    }\n",
       "                }\n",
       "            }, 500);\n",
       "            "
      ],
      "text/plain": [
       "<IPython.core.display.Javascript object>"
      ]
     },
     "metadata": {},
     "output_type": "display_data"
    }
   ],
   "source": [
    "# deleting all the multi-comp bursts from the final_file list.\n",
    "\n",
    "\n",
    "test1 = np.delete(final_file, np.where(final_file == multi1))\n",
    "test2 = np.delete(test1, np.where(test1 == multi2))\n",
    "test3 = np.delete(test2, np.where(test2 == multi3))\n",
    "test4 = np.delete(test3, np.where(test3 == multi4))\n",
    "test5 = np.delete(test4, np.where(test4 == multi5))\n",
    "only_single_comp = np.delete(test5, np.where(test5 == multi6))"
   ]
  },
  {
   "cell_type": "code",
   "execution_count": 6,
   "metadata": {},
   "outputs": [
    {
     "data": {
      "application/javascript": [
       "\n",
       "            setTimeout(function() {\n",
       "                var nbb_cell_id = 6;\n",
       "                var nbb_unformatted_code = \"def Energy(x):  # function to compute energies\\n    return (\\n        x * 4 * np.pi * ((972 * 3.086e24) ** 2) * 10 ** (-23) * 10 ** (3)\\n    )  # 10**(3) to convert MHz.ms to Hz.s\";\n",
       "                var nbb_formatted_code = \"def Energy(x):  # function to compute energies\\n    return (\\n        x * 4 * np.pi * ((972 * 3.086e24) ** 2) * 10 ** (-23) * 10 ** (3)\\n    )  # 10**(3) to convert MHz.ms to Hz.s\";\n",
       "                var nbb_cells = Jupyter.notebook.get_cells();\n",
       "                for (var i = 0; i < nbb_cells.length; ++i) {\n",
       "                    if (nbb_cells[i].input_prompt_number == nbb_cell_id) {\n",
       "                        if (nbb_cells[i].get_text() == nbb_unformatted_code) {\n",
       "                             nbb_cells[i].set_text(nbb_formatted_code);\n",
       "                        }\n",
       "                        break;\n",
       "                    }\n",
       "                }\n",
       "            }, 500);\n",
       "            "
      ],
      "text/plain": [
       "<IPython.core.display.Javascript object>"
      ]
     },
     "metadata": {},
     "output_type": "display_data"
    }
   ],
   "source": [
    "def Energy(x):  # function to compute energies\n",
    "    return (\n",
    "        x * 4 * np.pi * ((972 * 3.086e24) ** 2) * 10 ** (-23) * 10 ** (3)\n",
    "    )  # 10**(3) to convert MHz.ms to Hz.s"
   ]
  },
  {
   "cell_type": "code",
   "execution_count": 7,
   "metadata": {},
   "outputs": [
    {
     "name": "stderr",
     "output_type": "stream",
     "text": [
      "/home/kshitij/anaconda3/envs/grbfrb/lib/python3.6/site-packages/ipykernel_launcher.py:4: VisibleDeprecationWarning: Creating an ndarray from ragged nested sequences (which is a list-or-tuple of lists-or-tuples-or ndarrays with different lengths or shapes) is deprecated. If you meant to do this, you must specify 'dtype=object' when creating the ndarray\n",
      "  after removing the cwd from sys.path.\n"
     ]
    },
    {
     "data": {
      "application/javascript": [
       "\n",
       "            setTimeout(function() {\n",
       "                var nbb_cell_id = 7;\n",
       "                var nbb_unformatted_code = \"# let's find the single-component energies\\n\\nsingle = np.array(\\n    [list(np.load(i)) for i in only_single_comp]\\n)  # loading only single comp files\\nen_sin = Energy(single)  # Energy distribution of all single comp bursts\";\n",
       "                var nbb_formatted_code = \"# let's find the single-component energies\\n\\nsingle = np.array(\\n    [list(np.load(i)) for i in only_single_comp]\\n)  # loading only single comp files\\nen_sin = Energy(single)  # Energy distribution of all single comp bursts\";\n",
       "                var nbb_cells = Jupyter.notebook.get_cells();\n",
       "                for (var i = 0; i < nbb_cells.length; ++i) {\n",
       "                    if (nbb_cells[i].input_prompt_number == nbb_cell_id) {\n",
       "                        if (nbb_cells[i].get_text() == nbb_unformatted_code) {\n",
       "                             nbb_cells[i].set_text(nbb_formatted_code);\n",
       "                        }\n",
       "                        break;\n",
       "                    }\n",
       "                }\n",
       "            }, 500);\n",
       "            "
      ],
      "text/plain": [
       "<IPython.core.display.Javascript object>"
      ]
     },
     "metadata": {},
     "output_type": "display_data"
    }
   ],
   "source": [
    "# let's find the single-component energies\n",
    "\n",
    "single = np.array(\n",
    "    [list(np.load(i)) for i in only_single_comp]\n",
    ")  # loading only single comp files\n",
    "en_sin = Energy(single)  # Energy distribution of all single comp bursts"
   ]
  },
  {
   "cell_type": "code",
   "execution_count": 8,
   "metadata": {},
   "outputs": [
    {
     "name": "stdout",
     "output_type": "stream",
     "text": [
      "(4,)\n"
     ]
    },
    {
     "name": "stderr",
     "output_type": "stream",
     "text": [
      "/home/kshitij/anaconda3/envs/grbfrb/lib/python3.6/site-packages/numpy/core/_asarray.py:136: VisibleDeprecationWarning: Creating an ndarray from ragged nested sequences (which is a list-or-tuple of lists-or-tuples-or ndarrays with different lengths or shapes) is deprecated. If you meant to do this, you must specify 'dtype=object' when creating the ndarray\n",
      "  return array(a, dtype, copy=False, order=order, subok=True)\n"
     ]
    },
    {
     "data": {
      "application/javascript": [
       "\n",
       "            setTimeout(function() {\n",
       "                var nbb_cell_id = 8;\n",
       "                var nbb_unformatted_code = \"# multi component energies. We are only using the components and bursts that was totally inside the band\\n\\nmul = []\\nmu = [list(np.load(i)) for i in multi_burst_names]\\nen1 = Energy(mu[0][0]) + Energy(mu[0][1])  # summing both components of 97 sig\\nen4 = Energy(mu[3][0])  # using only one comp of this\\nen5 = Energy(mu[4][0]) + Energy(mu[4][1])  # using both comp\\nen6 = (\\n    Energy(mu[5][0]) + Energy(mu[5][1]) + Energy(mu[5][2])\\n)  # summing all three comp of 168 sig\\nen_mul = np.append(mul, [en1, en5, en6, en4])\\nprint(en_mul.shape)\";\n",
       "                var nbb_formatted_code = \"# multi component energies. We are only using the components and bursts that was totally inside the band\\n\\nmul = []\\nmu = [list(np.load(i)) for i in multi_burst_names]\\nen1 = Energy(mu[0][0]) + Energy(mu[0][1])  # summing both components of 97 sig\\nen4 = Energy(mu[3][0])  # using only one comp of this\\nen5 = Energy(mu[4][0]) + Energy(mu[4][1])  # using both comp\\nen6 = (\\n    Energy(mu[5][0]) + Energy(mu[5][1]) + Energy(mu[5][2])\\n)  # summing all three comp of 168 sig\\nen_mul = np.append(mul, [en1, en5, en6, en4])\\nprint(en_mul.shape)\";\n",
       "                var nbb_cells = Jupyter.notebook.get_cells();\n",
       "                for (var i = 0; i < nbb_cells.length; ++i) {\n",
       "                    if (nbb_cells[i].input_prompt_number == nbb_cell_id) {\n",
       "                        if (nbb_cells[i].get_text() == nbb_unformatted_code) {\n",
       "                             nbb_cells[i].set_text(nbb_formatted_code);\n",
       "                        }\n",
       "                        break;\n",
       "                    }\n",
       "                }\n",
       "            }, 500);\n",
       "            "
      ],
      "text/plain": [
       "<IPython.core.display.Javascript object>"
      ]
     },
     "metadata": {},
     "output_type": "display_data"
    }
   ],
   "source": [
    "# multi component energies. We are only using the components and bursts that was totally inside the band\n",
    "\n",
    "mul = []\n",
    "mu = [list(np.load(i)) for i in multi_burst_names]\n",
    "en1 = Energy(mu[0][0]) + Energy(mu[0][1])  # summing both components of 97 sig\n",
    "en4 = Energy(mu[3][0])  # using only one comp of this\n",
    "en5 = Energy(mu[4][0]) + Energy(mu[4][1])  # using both comp\n",
    "en6 = (\n",
    "    Energy(mu[5][0]) + Energy(mu[5][1]) + Energy(mu[5][2])\n",
    ")  # summing all three comp of 168 sig\n",
    "en_mul = np.append(mul, [en1, en5, en6, en4])\n",
    "print(en_mul.shape)"
   ]
  },
  {
   "cell_type": "code",
   "execution_count": 9,
   "metadata": {},
   "outputs": [
    {
     "data": {
      "text/plain": [
       "(60,)"
      ]
     },
     "execution_count": 9,
     "metadata": {},
     "output_type": "execute_result"
    },
    {
     "data": {
      "application/javascript": [
       "\n",
       "            setTimeout(function() {\n",
       "                var nbb_cell_id = 9;\n",
       "                var nbb_unformatted_code = \"# appending single and multiple to an array\\n\\nen_tot = np.append(en_sin, en_mul)\\nen_tot.shape\";\n",
       "                var nbb_formatted_code = \"# appending single and multiple to an array\\n\\nen_tot = np.append(en_sin, en_mul)\\nen_tot.shape\";\n",
       "                var nbb_cells = Jupyter.notebook.get_cells();\n",
       "                for (var i = 0; i < nbb_cells.length; ++i) {\n",
       "                    if (nbb_cells[i].input_prompt_number == nbb_cell_id) {\n",
       "                        if (nbb_cells[i].get_text() == nbb_unformatted_code) {\n",
       "                             nbb_cells[i].set_text(nbb_formatted_code);\n",
       "                        }\n",
       "                        break;\n",
       "                    }\n",
       "                }\n",
       "            }, 500);\n",
       "            "
      ],
      "text/plain": [
       "<IPython.core.display.Javascript object>"
      ]
     },
     "metadata": {},
     "output_type": "display_data"
    }
   ],
   "source": [
    "# appending single and multiple to an array\n",
    "\n",
    "en_tot = np.append(en_sin, en_mul)\n",
    "en_tot.shape"
   ]
  },
  {
   "cell_type": "code",
   "execution_count": 10,
   "metadata": {},
   "outputs": [
    {
     "data": {
      "application/javascript": [
       "\n",
       "            setTimeout(function() {\n",
       "                var nbb_cell_id = 10;\n",
       "                var nbb_unformatted_code = \"def randomized_energies(\\n    x,\\n):  # define a function that will randomly select points from each bursts and compute energies of those\\n    randomized = []\\n    for i in x:\\n        rand = random.choice(i)\\n        randomized = np.append(randomized, rand)\\n    return randomized\";\n",
       "                var nbb_formatted_code = \"def randomized_energies(\\n    x,\\n):  # define a function that will randomly select points from each bursts and compute energies of those\\n    randomized = []\\n    for i in x:\\n        rand = random.choice(i)\\n        randomized = np.append(randomized, rand)\\n    return randomized\";\n",
       "                var nbb_cells = Jupyter.notebook.get_cells();\n",
       "                for (var i = 0; i < nbb_cells.length; ++i) {\n",
       "                    if (nbb_cells[i].input_prompt_number == nbb_cell_id) {\n",
       "                        if (nbb_cells[i].get_text() == nbb_unformatted_code) {\n",
       "                             nbb_cells[i].set_text(nbb_formatted_code);\n",
       "                        }\n",
       "                        break;\n",
       "                    }\n",
       "                }\n",
       "            }, 500);\n",
       "            "
      ],
      "text/plain": [
       "<IPython.core.display.Javascript object>"
      ]
     },
     "metadata": {},
     "output_type": "display_data"
    }
   ],
   "source": [
    "def randomized_energies(\n",
    "    x,\n",
    "):  # define a function that will randomly select points from each bursts and compute energies of those\n",
    "    randomized = []\n",
    "    for i in x:\n",
    "        rand = random.choice(i)\n",
    "        randomized = np.append(randomized, rand)\n",
    "    return randomized"
   ]
  },
  {
   "cell_type": "code",
   "execution_count": 11,
   "metadata": {},
   "outputs": [
    {
     "data": {
      "application/javascript": [
       "\n",
       "            setTimeout(function() {\n",
       "                var nbb_cell_id = 11;\n",
       "                var nbb_unformatted_code = \"def rate(x):\\n    N_tot = []  # computing number of bursts above energy E\\n    for i in x:\\n        rx = x >= i\\n        # print(rx)\\n        res = [j for j, val in enumerate(rx) if val]\\n        Rx = len(res)\\n        N_tot = np.append(N_tot, Rx)\\n    return N_tot\";\n",
       "                var nbb_formatted_code = \"def rate(x):\\n    N_tot = []  # computing number of bursts above energy E\\n    for i in x:\\n        rx = x >= i\\n        # print(rx)\\n        res = [j for j, val in enumerate(rx) if val]\\n        Rx = len(res)\\n        N_tot = np.append(N_tot, Rx)\\n    return N_tot\";\n",
       "                var nbb_cells = Jupyter.notebook.get_cells();\n",
       "                for (var i = 0; i < nbb_cells.length; ++i) {\n",
       "                    if (nbb_cells[i].input_prompt_number == nbb_cell_id) {\n",
       "                        if (nbb_cells[i].get_text() == nbb_unformatted_code) {\n",
       "                             nbb_cells[i].set_text(nbb_formatted_code);\n",
       "                        }\n",
       "                        break;\n",
       "                    }\n",
       "                }\n",
       "            }, 500);\n",
       "            "
      ],
      "text/plain": [
       "<IPython.core.display.Javascript object>"
      ]
     },
     "metadata": {},
     "output_type": "display_data"
    }
   ],
   "source": [
    "def rate(x):\n",
    "    N_tot = []  # computing number of bursts above energy E\n",
    "    for i in x:\n",
    "        rx = x >= i\n",
    "        # print(rx)\n",
    "        res = [j for j, val in enumerate(rx) if val]\n",
    "        Rx = len(res)\n",
    "        N_tot = np.append(N_tot, Rx)\n",
    "    return N_tot"
   ]
  },
  {
   "cell_type": "code",
   "execution_count": 12,
   "metadata": {},
   "outputs": [
    {
     "data": {
      "application/javascript": [
       "\n",
       "            setTimeout(function() {\n",
       "                var nbb_cell_id = 12;\n",
       "                var nbb_unformatted_code = \"def double_power(\\n    E, E_break, alpha, beta, E_scale\\n):  # function to define a double-power law\\n    fit = []\\n    for energy in E:\\n        if energy < E_break:\\n            N = E_scale * ((energy / E_break) ** alpha)\\n        else:\\n            N = E_scale * ((energy / E_break) ** beta)\\n        fit.append(N)\\n    return np.array(fit)\";\n",
       "                var nbb_formatted_code = \"def double_power(\\n    E, E_break, alpha, beta, E_scale\\n):  # function to define a double-power law\\n    fit = []\\n    for energy in E:\\n        if energy < E_break:\\n            N = E_scale * ((energy / E_break) ** alpha)\\n        else:\\n            N = E_scale * ((energy / E_break) ** beta)\\n        fit.append(N)\\n    return np.array(fit)\";\n",
       "                var nbb_cells = Jupyter.notebook.get_cells();\n",
       "                for (var i = 0; i < nbb_cells.length; ++i) {\n",
       "                    if (nbb_cells[i].input_prompt_number == nbb_cell_id) {\n",
       "                        if (nbb_cells[i].get_text() == nbb_unformatted_code) {\n",
       "                             nbb_cells[i].set_text(nbb_formatted_code);\n",
       "                        }\n",
       "                        break;\n",
       "                    }\n",
       "                }\n",
       "            }, 500);\n",
       "            "
      ],
      "text/plain": [
       "<IPython.core.display.Javascript object>"
      ]
     },
     "metadata": {},
     "output_type": "display_data"
    }
   ],
   "source": [
    "def double_power(\n",
    "    E, E_break, alpha, beta, E_scale\n",
    "):  # function to define a double-power law\n",
    "    fit = []\n",
    "    for energy in E:\n",
    "        if energy < E_break:\n",
    "            N = E_scale * ((energy / E_break) ** alpha)\n",
    "        else:\n",
    "            N = E_scale * ((energy / E_break) ** beta)\n",
    "        fit.append(N)\n",
    "    return np.array(fit)"
   ]
  },
  {
   "cell_type": "code",
   "execution_count": 13,
   "metadata": {},
   "outputs": [
    {
     "data": {
      "application/javascript": [
       "\n",
       "            setTimeout(function() {\n",
       "                var nbb_cell_id = 13;\n",
       "                var nbb_unformatted_code = \"# compute the values of the broken-power law function parameters\\n\\nalphas = []\\nbetas = []\\nE_break = []\\nE_scale = []\\nenergies = [\\n    randomized_energies(en_tot) for i in range(1000)\\n]  # find random energies from all the single bursts 1000 times\\nfor i in energies:\\n    complete = i[np.where(i > 5.81e36)]  # above completeness threshold for the fitting\\n    u = complete * 10 ** (-37)  # for fitting\\n    popt, pcov = curve_fit(\\n        double_power,\\n        u,\\n        rate(u),\\n        bounds=((1, -5, -5, -np.inf), (3, 0, 0, np.inf)),\\n        maxfev=15000,\\n    )  # a double power law fit\\n    alphas = np.append(alphas, popt[1])\\n    betas = np.append(betas, popt[2])\\n    E_break = np.append(E_break, popt[0])\\n    E_scale = np.append(E_scale, popt[3])\";\n",
       "                var nbb_formatted_code = \"# compute the values of the broken-power law function parameters\\n\\nalphas = []\\nbetas = []\\nE_break = []\\nE_scale = []\\nenergies = [\\n    randomized_energies(en_tot) for i in range(1000)\\n]  # find random energies from all the single bursts 1000 times\\nfor i in energies:\\n    complete = i[np.where(i > 5.81e36)]  # above completeness threshold for the fitting\\n    u = complete * 10 ** (-37)  # for fitting\\n    popt, pcov = curve_fit(\\n        double_power,\\n        u,\\n        rate(u),\\n        bounds=((1, -5, -5, -np.inf), (3, 0, 0, np.inf)),\\n        maxfev=15000,\\n    )  # a double power law fit\\n    alphas = np.append(alphas, popt[1])\\n    betas = np.append(betas, popt[2])\\n    E_break = np.append(E_break, popt[0])\\n    E_scale = np.append(E_scale, popt[3])\";\n",
       "                var nbb_cells = Jupyter.notebook.get_cells();\n",
       "                for (var i = 0; i < nbb_cells.length; ++i) {\n",
       "                    if (nbb_cells[i].input_prompt_number == nbb_cell_id) {\n",
       "                        if (nbb_cells[i].get_text() == nbb_unformatted_code) {\n",
       "                             nbb_cells[i].set_text(nbb_formatted_code);\n",
       "                        }\n",
       "                        break;\n",
       "                    }\n",
       "                }\n",
       "            }, 500);\n",
       "            "
      ],
      "text/plain": [
       "<IPython.core.display.Javascript object>"
      ]
     },
     "metadata": {},
     "output_type": "display_data"
    }
   ],
   "source": [
    "# compute the values of the broken-power law function parameters\n",
    "\n",
    "alphas = []\n",
    "betas = []\n",
    "E_break = []\n",
    "E_scale = []\n",
    "energies = [\n",
    "    randomized_energies(en_tot) for i in range(1000)\n",
    "]  # find random energies from all the single bursts 1000 times\n",
    "for i in energies:\n",
    "    complete = i[np.where(i > 5.81e36)]  # above completeness threshold for the fitting\n",
    "    u = complete * 10 ** (-37)  # for fitting\n",
    "    popt, pcov = curve_fit(\n",
    "        double_power,\n",
    "        u,\n",
    "        rate(u),\n",
    "        bounds=((1, -5, -5, -np.inf), (3, 0, 0, np.inf)),\n",
    "        maxfev=15000,\n",
    "    )  # a double power law fit\n",
    "    alphas = np.append(alphas, popt[1])\n",
    "    betas = np.append(betas, popt[2])\n",
    "    E_break = np.append(E_break, popt[0])\n",
    "    E_scale = np.append(E_scale, popt[3])"
   ]
  },
  {
   "cell_type": "code",
   "execution_count": 14,
   "metadata": {},
   "outputs": [
    {
     "data": {
      "application/vnd.jupyter.widget-view+json": {
       "model_id": "6dd1d6158f8f4d7c8f466f2f31b434cf",
       "version_major": 2,
       "version_minor": 0
      },
      "text/plain": [
       "HBox(children=(FloatProgress(value=0.0, max=1000.0), HTML(value='')))"
      ]
     },
     "metadata": {},
     "output_type": "display_data"
    },
    {
     "name": "stderr",
     "output_type": "stream",
     "text": [
      "findfont: Font family ['serif'] not found. Falling back to DejaVu Sans.\n"
     ]
    },
    {
     "name": "stdout",
     "output_type": "stream",
     "text": [
      "\n"
     ]
    },
    {
     "data": {
      "image/png": "[encoded data removed]",
      "text/plain": [
       "<Figure size 511.2x315.939 with 1 Axes>"
      ]
     },
     "metadata": {
      "needs_background": "light"
     },
     "output_type": "display_data"
    },
    {
     "data": {
      "application/javascript": [
       "\n",
       "            setTimeout(function() {\n",
       "                var nbb_cell_id = 14;\n",
       "                var nbb_unformatted_code = \"# let's plot with the best-fit values computed from previous step\\n\\nwith plt.style.context([\\\"science\\\", \\\"grid\\\", \\\"no-latex\\\"]):\\n    plt.figure(\\n        figsize=set_size(width=\\\"full\\\")\\n    )  # for half page width figures use full for full page width figures\\n\\n    for i, energy in enumerate(tqdm(energies)):\\n        complete = energy[\\n            np.where(energy > 5.81e36)\\n        ]  # above completeness threshold for the fitting\\n        u = complete * 10 ** (-37)  # for fitting\\n\\n        alpha = alphas[i]\\n        beta = betas[i]\\n        E_th = E_break[i]\\n        amp = E_scale[i]\\n        popt = []\\n\\n        plt.plot(\\n            np.sort(u * 10 ** (37)),\\n            double_power(np.sort(u), E_th, alpha, beta, amp),\\n            linewidth=0.05,\\n            color=\\\"red\\\",\\n            alpha=0.75,\\n        )\\n\\n        plt.yscale(\\\"log\\\")  # plots are in log scale\\n        plt.xscale(\\\"log\\\")\\n        plt.scatter(u * 10 ** 37, rate(u), color=\\\"grey\\\", alpha=0.75, marker=\\\"x\\\")\\n    plt.scatter(\\n        u * 10 ** 37, rate(u), color=\\\"grey\\\", alpha=0.75, label=\\\"data\\\", marker=\\\"x\\\"\\n    )\\n    plt.plot(\\n        np.sort(u * 10 ** (37)),\\n        double_power(np.sort(u), E_th, alpha, beta, amp),\\n        linewidth=0.5,\\n        color=\\\"red\\\",\\n        alpha=0.75,\\n        label=\\\"fit\\\",\\n    )\\n\\n    plt.xlabel(\\\"Energy (erg)\\\")\\n    plt.ylabel(\\\"N(>E)\\\")\\n    # plt.legend(loc=\\\"upper right\\\")\\n    plt.ylim([0.75, 100])\\n    plt.tight_layout()\\n    plt.savefig(\\\"cumulative_energies.pdf\\\", bbox_inches=\\\"tight\\\", dpi=300)\\n    plt.show()\";\n",
       "                var nbb_formatted_code = \"# let's plot with the best-fit values computed from previous step\\n\\nwith plt.style.context([\\\"science\\\", \\\"grid\\\", \\\"no-latex\\\"]):\\n    plt.figure(\\n        figsize=set_size(width=\\\"full\\\")\\n    )  # for half page width figures use full for full page width figures\\n\\n    for i, energy in enumerate(tqdm(energies)):\\n        complete = energy[\\n            np.where(energy > 5.81e36)\\n        ]  # above completeness threshold for the fitting\\n        u = complete * 10 ** (-37)  # for fitting\\n\\n        alpha = alphas[i]\\n        beta = betas[i]\\n        E_th = E_break[i]\\n        amp = E_scale[i]\\n        popt = []\\n\\n        plt.plot(\\n            np.sort(u * 10 ** (37)),\\n            double_power(np.sort(u), E_th, alpha, beta, amp),\\n            linewidth=0.05,\\n            color=\\\"red\\\",\\n            alpha=0.75,\\n        )\\n\\n        plt.yscale(\\\"log\\\")  # plots are in log scale\\n        plt.xscale(\\\"log\\\")\\n        plt.scatter(u * 10 ** 37, rate(u), color=\\\"grey\\\", alpha=0.75, marker=\\\"x\\\")\\n    plt.scatter(\\n        u * 10 ** 37, rate(u), color=\\\"grey\\\", alpha=0.75, label=\\\"data\\\", marker=\\\"x\\\"\\n    )\\n    plt.plot(\\n        np.sort(u * 10 ** (37)),\\n        double_power(np.sort(u), E_th, alpha, beta, amp),\\n        linewidth=0.5,\\n        color=\\\"red\\\",\\n        alpha=0.75,\\n        label=\\\"fit\\\",\\n    )\\n\\n    plt.xlabel(\\\"Energy (erg)\\\")\\n    plt.ylabel(\\\"N(>E)\\\")\\n    # plt.legend(loc=\\\"upper right\\\")\\n    plt.ylim([0.75, 100])\\n    plt.tight_layout()\\n    plt.savefig(\\\"cumulative_energies.pdf\\\", bbox_inches=\\\"tight\\\", dpi=300)\\n    plt.show()\";\n",
       "                var nbb_cells = Jupyter.notebook.get_cells();\n",
       "                for (var i = 0; i < nbb_cells.length; ++i) {\n",
       "                    if (nbb_cells[i].input_prompt_number == nbb_cell_id) {\n",
       "                        if (nbb_cells[i].get_text() == nbb_unformatted_code) {\n",
       "                             nbb_cells[i].set_text(nbb_formatted_code);\n",
       "                        }\n",
       "                        break;\n",
       "                    }\n",
       "                }\n",
       "            }, 500);\n",
       "            "
      ],
      "text/plain": [
       "<IPython.core.display.Javascript object>"
      ]
     },
     "metadata": {},
     "output_type": "display_data"
    }
   ],
   "source": [
    "# let's plot with the best-fit values computed from previous step\n",
    "\n",
    "with plt.style.context([\"science\", \"grid\", \"no-latex\"]):\n",
    "    plt.figure(\n",
    "        figsize=set_size(width=\"full\")\n",
    "    )  # for half page width figures use full for full page width figures\n",
    "\n",
    "    for i, energy in enumerate(tqdm(energies)):\n",
    "        complete = energy[\n",
    "            np.where(energy > 5.81e36)\n",
    "        ]  # above completeness threshold for the fitting\n",
    "        u = complete * 10 ** (-37)  # for fitting\n",
    "\n",
    "        alpha = alphas[i]\n",
    "        beta = betas[i]\n",
    "        E_th = E_break[i]\n",
    "        amp = E_scale[i]\n",
    "        popt = []\n",
    "\n",
    "        plt.plot(\n",
    "            np.sort(u * 10 ** (37)),\n",
    "            double_power(np.sort(u), E_th, alpha, beta, amp),\n",
    "            linewidth=0.05,\n",
    "            color=\"red\",\n",
    "            alpha=0.75,\n",
    "        )\n",
    "\n",
    "        plt.yscale(\"log\")  # plots are in log scale\n",
    "        plt.xscale(\"log\")\n",
    "        plt.scatter(u * 10 ** 37, rate(u), color=\"grey\", alpha=0.75, marker=\"x\")\n",
    "    plt.scatter(\n",
    "        u * 10 ** 37, rate(u), color=\"grey\", alpha=0.75, label=\"data\", marker=\"x\"\n",
    "    )\n",
    "    plt.plot(\n",
    "        np.sort(u * 10 ** (37)),\n",
    "        double_power(np.sort(u), E_th, alpha, beta, amp),\n",
    "        linewidth=0.5,\n",
    "        color=\"red\",\n",
    "        alpha=0.75,\n",
    "        label=\"fit\",\n",
    "    )\n",
    "\n",
    "    plt.xlabel(\"Energy (erg)\")\n",
    "    plt.ylabel(\"N(>E)\")\n",
    "    # plt.legend(loc=\"upper right\")\n",
    "    plt.ylim([0.75, 100])\n",
    "    plt.tight_layout()\n",
    "    plt.savefig(\"cumulative_energies.pdf\", bbox_inches=\"tight\", dpi=300)\n",
    "    plt.show()"
   ]
  },
  {
   "cell_type": "code",
   "execution_count": 16,
   "metadata": {},
   "outputs": [
    {
     "data": {
      "text/plain": [
       "(-0.4182027580103535, -1.8549519750047, 2.294681178898209, 46.23546778313502)"
      ]
     },
     "execution_count": 16,
     "metadata": {},
     "output_type": "execute_result"
    },
    {
     "data": {
      "application/javascript": [
       "\n",
       "            setTimeout(function() {\n",
       "                var nbb_cell_id = 16;\n",
       "                var nbb_unformatted_code = \"np.median(alphas), np.median(betas), np.median(E_break), np.median(E_scale)\";\n",
       "                var nbb_formatted_code = \"np.median(alphas), np.median(betas), np.median(E_break), np.median(E_scale)\";\n",
       "                var nbb_cells = Jupyter.notebook.get_cells();\n",
       "                for (var i = 0; i < nbb_cells.length; ++i) {\n",
       "                    if (nbb_cells[i].input_prompt_number == nbb_cell_id) {\n",
       "                        if (nbb_cells[i].get_text() == nbb_unformatted_code) {\n",
       "                             nbb_cells[i].set_text(nbb_formatted_code);\n",
       "                        }\n",
       "                        break;\n",
       "                    }\n",
       "                }\n",
       "            }, 500);\n",
       "            "
      ],
      "text/plain": [
       "<IPython.core.display.Javascript object>"
      ]
     },
     "metadata": {},
     "output_type": "display_data"
    }
   ],
   "source": [
    "np.median(alphas), np.median(betas), np.median(E_break), np.median(E_scale)"
   ]
  },
  {
   "cell_type": "code",
   "execution_count": 21,
   "metadata": {},
   "outputs": [
    {
     "data": {
      "text/plain": [
       "(-0.4182027580103535, 0.12803166086284906, 0.14801207857364612)"
      ]
     },
     "execution_count": 21,
     "metadata": {},
     "output_type": "execute_result"
    },
    {
     "data": {
      "application/javascript": [
       "\n",
       "            setTimeout(function() {\n",
       "                var nbb_cell_id = 21;\n",
       "                var nbb_unformatted_code = \"qs = np.quantile(alphas, [0.16, 0.5, 0.84])\\nqs[1], qs[2] - qs[1], qs[1] - qs[0]\";\n",
       "                var nbb_formatted_code = \"qs = np.quantile(alphas, [0.16, 0.5, 0.84])\\nqs[1], qs[2] - qs[1], qs[1] - qs[0]\";\n",
       "                var nbb_cells = Jupyter.notebook.get_cells();\n",
       "                for (var i = 0; i < nbb_cells.length; ++i) {\n",
       "                    if (nbb_cells[i].input_prompt_number == nbb_cell_id) {\n",
       "                        if (nbb_cells[i].get_text() == nbb_unformatted_code) {\n",
       "                             nbb_cells[i].set_text(nbb_formatted_code);\n",
       "                        }\n",
       "                        break;\n",
       "                    }\n",
       "                }\n",
       "            }, 500);\n",
       "            "
      ],
      "text/plain": [
       "<IPython.core.display.Javascript object>"
      ]
     },
     "metadata": {},
     "output_type": "display_data"
    }
   ],
   "source": [
    "qs = np.quantile(alphas, [0.16, 0.5, 0.84])\n",
    "qs[1], qs[2] - qs[1], qs[1] - qs[0]"
   ]
  },
  {
   "cell_type": "code",
   "execution_count": 22,
   "metadata": {},
   "outputs": [
    {
     "data": {
      "text/plain": [
       "(-1.8549519750047, 0.17856823540133937, 0.20335511420305585)"
      ]
     },
     "execution_count": 22,
     "metadata": {},
     "output_type": "execute_result"
    },
    {
     "data": {
      "application/javascript": [
       "\n",
       "            setTimeout(function() {\n",
       "                var nbb_cell_id = 22;\n",
       "                var nbb_unformatted_code = \"qs = np.quantile(betas, [0.16, 0.5, 0.84])\\nqs[1], qs[2] - qs[1], qs[1] - qs[0]\";\n",
       "                var nbb_formatted_code = \"qs = np.quantile(betas, [0.16, 0.5, 0.84])\\nqs[1], qs[2] - qs[1], qs[1] - qs[0]\";\n",
       "                var nbb_cells = Jupyter.notebook.get_cells();\n",
       "                for (var i = 0; i < nbb_cells.length; ++i) {\n",
       "                    if (nbb_cells[i].input_prompt_number == nbb_cell_id) {\n",
       "                        if (nbb_cells[i].get_text() == nbb_unformatted_code) {\n",
       "                             nbb_cells[i].set_text(nbb_formatted_code);\n",
       "                        }\n",
       "                        break;\n",
       "                    }\n",
       "                }\n",
       "            }, 500);\n",
       "            "
      ],
      "text/plain": [
       "<IPython.core.display.Javascript object>"
      ]
     },
     "metadata": {},
     "output_type": "display_data"
    }
   ],
   "source": [
    "qs = np.quantile(betas, [0.16, 0.5, 0.84])\n",
    "qs[1], qs[2] - qs[1], qs[1] - qs[0]"
   ]
  },
  {
   "cell_type": "code",
   "execution_count": 23,
   "metadata": {},
   "outputs": [
    {
     "data": {
      "text/plain": [
       "(2.294681178898209, 0.21409011138489964, 0.17021586246860654)"
      ]
     },
     "execution_count": 23,
     "metadata": {},
     "output_type": "execute_result"
    },
    {
     "data": {
      "application/javascript": [
       "\n",
       "            setTimeout(function() {\n",
       "                var nbb_cell_id = 23;\n",
       "                var nbb_unformatted_code = \"qs = np.quantile(E_break, [0.16, 0.5, 0.84])\\nqs[1], qs[2] - qs[1], qs[1] - qs[0]\";\n",
       "                var nbb_formatted_code = \"qs = np.quantile(E_break, [0.16, 0.5, 0.84])\\nqs[1], qs[2] - qs[1], qs[1] - qs[0]\";\n",
       "                var nbb_cells = Jupyter.notebook.get_cells();\n",
       "                for (var i = 0; i < nbb_cells.length; ++i) {\n",
       "                    if (nbb_cells[i].input_prompt_number == nbb_cell_id) {\n",
       "                        if (nbb_cells[i].get_text() == nbb_unformatted_code) {\n",
       "                             nbb_cells[i].set_text(nbb_formatted_code);\n",
       "                        }\n",
       "                        break;\n",
       "                    }\n",
       "                }\n",
       "            }, 500);\n",
       "            "
      ],
      "text/plain": [
       "<IPython.core.display.Javascript object>"
      ]
     },
     "metadata": {},
     "output_type": "display_data"
    }
   ],
   "source": [
    "qs = np.quantile(E_break, [0.16, 0.5, 0.84])\n",
    "qs[1], qs[2] - qs[1], qs[1] - qs[0]"
   ]
  }
 ],
 "metadata": {
  "kernelspec": {
   "display_name": "Python 3",
   "language": "python",
   "name": "python3"
  },
  "language_info": {
   "codemirror_mode": {
    "name": "ipython",
    "version": 3
   },
   "file_extension": ".py",
   "mimetype": "text/x-python",
   "name": "python",
   "nbconvert_exporter": "python",
   "pygments_lexer": "ipython3",
   "version": "3.6.8"
  }
 },
 "nbformat": 4,
 "nbformat_minor": 4
}
