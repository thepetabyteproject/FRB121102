{
 "cells": [
  {
   "cell_type": "markdown",
   "metadata": {},
   "source": [
    "# Wait Time Analysis"
   ]
  },
  {
   "cell_type": "code",
   "execution_count": 1,
   "metadata": {},
   "outputs": [
    {
     "data": {
      "application/javascript": [
       "\n",
       "            setTimeout(function() {\n",
       "                var nbb_cell_id = 1;\n",
       "                var nbb_unformatted_code = \"# IMPORT FUNCTIONALITIES\\nimport pandas as pd\\nimport numpy as np\\nimport scipy\\nfrom scipy.optimize import curve_fit\\nimport matplotlib.pyplot as plt\\nimport matplotlib.colors as mcolors\\n\\n%load_ext nb_black\";\n",
       "                var nbb_formatted_code = \"# IMPORT FUNCTIONALITIES\\nimport pandas as pd\\nimport numpy as np\\nimport scipy\\nfrom scipy.optimize import curve_fit\\nimport matplotlib.pyplot as plt\\nimport matplotlib.colors as mcolors\\n\\n%load_ext nb_black\";\n",
       "                var nbb_cells = Jupyter.notebook.get_cells();\n",
       "                for (var i = 0; i < nbb_cells.length; ++i) {\n",
       "                    if (nbb_cells[i].input_prompt_number == nbb_cell_id) {\n",
       "                        if (nbb_cells[i].get_text() == nbb_unformatted_code) {\n",
       "                             nbb_cells[i].set_text(nbb_formatted_code);\n",
       "                        }\n",
       "                        break;\n",
       "                    }\n",
       "                }\n",
       "            }, 500);\n",
       "            "
      ],
      "text/plain": [
       "<IPython.core.display.Javascript object>"
      ]
     },
     "metadata": {},
     "output_type": "display_data"
    }
   ],
   "source": [
    "# IMPORT FUNCTIONALITIES\n",
    "import pandas as pd\n",
    "import numpy as np\n",
    "import scipy\n",
    "from scipy.optimize import curve_fit\n",
    "import matplotlib.pyplot as plt\n",
    "import matplotlib.colors as mcolors\n",
    "\n",
    "%load_ext nb_black"
   ]
  },
  {
   "cell_type": "markdown",
   "metadata": {},
   "source": [
    "Below, the file containing the candidate properties is read in and the burst times are sorted into an array. This is specified for our file structure and burst fitting procedure, and will likely need to be changed. The endpoints for the histogram bins are also specified. \n",
    "We only need the MJDs for this analysis, but pandas is used so one can easily incorporate other burst properties like fluence or DM into the analysis."
   ]
  },
  {
   "cell_type": "code",
   "execution_count": 2,
   "metadata": {},
   "outputs": [
    {
     "name": "stdout",
     "output_type": "stream",
     "text": [
      "130 good MCMC bursts\n",
      "94 good MCMC/fluence bursts\n"
     ]
    },
    {
     "data": {
      "application/javascript": [
       "\n",
       "            setTimeout(function() {\n",
       "                var nbb_cell_id = 2;\n",
       "                var nbb_unformatted_code = \"# Read in data file\\ndata = pd.read_csv(\\\"/home/elewis/FRB121102/all_bursts_bary.csv\\\")\\ndata = data[(data[\\\"fit_method\\\"] == \\\"mcmc\\\")]  # excise bursts fit using curvefit\\nprint(str(len(data)) + \\\" good MCMC bursts\\\")\\n\\ndata_flu = data[(data[\\\"use_fluence\\\"] == True)]\\nprint(str(len(data_flu)) + \\\" good MCMC/fluence bursts\\\")\\n\\n# Break into individual MJD array\\nmjd = data[\\\"$\\\\mu_t$ (ms)\\\"]\\nmjd = mjd.sort_values()\\n\\nstart = np.log10(0.001)\\nend = np.log10(1000)\";\n",
       "                var nbb_formatted_code = \"# Read in data file\\ndata = pd.read_csv(\\\"/home/elewis/FRB121102/all_bursts_bary.csv\\\")\\ndata = data[(data[\\\"fit_method\\\"] == \\\"mcmc\\\")]  # excise bursts fit using curvefit\\nprint(str(len(data)) + \\\" good MCMC bursts\\\")\\n\\ndata_flu = data[(data[\\\"use_fluence\\\"] == True)]\\nprint(str(len(data_flu)) + \\\" good MCMC/fluence bursts\\\")\\n\\n# Break into individual MJD array\\nmjd = data[\\\"$\\\\mu_t$ (ms)\\\"]\\nmjd = mjd.sort_values()\\n\\nstart = np.log10(0.001)\\nend = np.log10(1000)\";\n",
       "                var nbb_cells = Jupyter.notebook.get_cells();\n",
       "                for (var i = 0; i < nbb_cells.length; ++i) {\n",
       "                    if (nbb_cells[i].input_prompt_number == nbb_cell_id) {\n",
       "                        if (nbb_cells[i].get_text() == nbb_unformatted_code) {\n",
       "                             nbb_cells[i].set_text(nbb_formatted_code);\n",
       "                        }\n",
       "                        break;\n",
       "                    }\n",
       "                }\n",
       "            }, 500);\n",
       "            "
      ],
      "text/plain": [
       "<IPython.core.display.Javascript object>"
      ]
     },
     "metadata": {},
     "output_type": "display_data"
    }
   ],
   "source": [
    "# Read in data file\n",
    "data = pd.read_csv(\"/home/elewis/FRB121102/all_bursts_bary.csv\")\n",
    "data = data[(data[\"fit_method\"] == \"mcmc\")]  # excise bursts fit using curvefit\n",
    "print(str(len(data)) + \" good MCMC bursts\")\n",
    "\n",
    "data_flu = data[(data[\"use_fluence\"] == True)]\n",
    "print(str(len(data_flu)) + \" good MCMC/fluence bursts\")\n",
    "\n",
    "# Break into individual MJD array\n",
    "mjd = data[\"$\\mu_t$ (ms)\"]\n",
    "mjd = mjd.sort_values()\n",
    "\n",
    "start = np.log10(0.001)\n",
    "end = np.log10(1000)"
   ]
  },
  {
   "cell_type": "code",
   "execution_count": 3,
   "metadata": {},
   "outputs": [
    {
     "data": {
      "application/javascript": [
       "\n",
       "            setTimeout(function() {\n",
       "                var nbb_cell_id = 3;\n",
       "                var nbb_unformatted_code = \"# DEFINE FITTING FUNCTIONS\\n# Log-normal function for WT histogram\\ndef log_fit(x, a, mu, sigma):\\n    return (\\n        (a / x)\\n        * (1.0 / (sigma * np.sqrt(2.0 * np.pi)))\\n        * np.exp(-((np.log(x) - mu) ** 2.0) / (2.0 * sigma ** 2.0))\\n    )\\n\\n\\n# Decaying exponential function to fit to random bursts\\ndef exp_fit(x, a, b, c, d):\\n    return a * np.exp(-b * x + c) + d\";\n",
       "                var nbb_formatted_code = \"# DEFINE FITTING FUNCTIONS\\n# Log-normal function for WT histogram\\ndef log_fit(x, a, mu, sigma):\\n    return (\\n        (a / x)\\n        * (1.0 / (sigma * np.sqrt(2.0 * np.pi)))\\n        * np.exp(-((np.log(x) - mu) ** 2.0) / (2.0 * sigma ** 2.0))\\n    )\\n\\n\\n# Decaying exponential function to fit to random bursts\\ndef exp_fit(x, a, b, c, d):\\n    return a * np.exp(-b * x + c) + d\";\n",
       "                var nbb_cells = Jupyter.notebook.get_cells();\n",
       "                for (var i = 0; i < nbb_cells.length; ++i) {\n",
       "                    if (nbb_cells[i].input_prompt_number == nbb_cell_id) {\n",
       "                        if (nbb_cells[i].get_text() == nbb_unformatted_code) {\n",
       "                             nbb_cells[i].set_text(nbb_formatted_code);\n",
       "                        }\n",
       "                        break;\n",
       "                    }\n",
       "                }\n",
       "            }, 500);\n",
       "            "
      ],
      "text/plain": [
       "<IPython.core.display.Javascript object>"
      ]
     },
     "metadata": {},
     "output_type": "display_data"
    }
   ],
   "source": [
    "# DEFINE FITTING FUNCTIONS\n",
    "# Log-normal function for WT histogram\n",
    "def log_fit(x, a, mu, sigma):\n",
    "    return (\n",
    "        (a / x)\n",
    "        * (1.0 / (sigma * np.sqrt(2.0 * np.pi)))\n",
    "        * np.exp(-((np.log(x) - mu) ** 2.0) / (2.0 * sigma ** 2.0))\n",
    "    )\n",
    "\n",
    "\n",
    "# Decaying exponential function to fit to random bursts\n",
    "def exp_fit(x, a, b, c, d):\n",
    "    return a * np.exp(-b * x + c) + d"
   ]
  },
  {
   "cell_type": "markdown",
   "metadata": {},
   "source": [
    "Below is the function used to create the histogram of burst time differences and fit the wait time distribution. It is assumed that all the bursts come from the same observation, so that the differences are obtained by subtracting consecutive burst times (and converting from MJD to seconds). \n",
    "In our analysis, we only fit the distribution to bins with wait times greater than one second. You can change this below."
   ]
  },
  {
   "cell_type": "code",
   "execution_count": 4,
   "metadata": {},
   "outputs": [
    {
     "data": {
      "application/javascript": [
       "\n",
       "            setTimeout(function() {\n",
       "                var nbb_cell_id = 4;\n",
       "                var nbb_unformatted_code = \"# Histogram fitting function: needs input of burst times and number of bins\\n\\n\\ndef hist_fit(burst_times, num_bins):\\n    # Calculate diffs\\n    diffs = []\\n    burst_times = np.sort(burst_times)\\n    for i in range(0, len(burst_times) - 1):\\n        diffs.append(\\n            (burst_times[i + 1] - burst_times[i]) * 86400.0\\n        )  # assuming times are in MJD\\n\\n    # Make histogram\\n    bins = np.logspace(start, end, num_bins)\\n    hist, bin_edges = np.histogram(diffs, bins=bins)\\n\\n    # Find leftmost bin- only fitting diffs > 1s\\n    main_bins = np.where(bins > 1.0)\\n    last_bin = main_bins[0][0]\\n\\n    # Get bin centers\\n    ln_data = []\\n    bin_centers = []\\n    for i in range(last_bin, len(hist)):\\n        # Only fitting log-normal to main bulk of distribution, not second distribution of shorter WTs\\n        ln_data.append(hist[i])\\n        dist = bin_edges[i + 1] - bin_edges[i]\\n        halfdist = dist / 2.0\\n        mid = bin_edges[i] + halfdist\\n        bin_centers.append(mid)\\n\\n    # Fit log-normal to bin centers and calculate fit\\n    mu = 7\\n    sigma = 1\\n    a = 1\\n    popt, pcov = curve_fit(log_fit, bin_centers, ln_data, p0=[a, mu, sigma])\\n    perr = np.sqrt(np.diag(pcov))\\n    xaxis = np.logspace(0.5, np.log10(np.max(diffs) * 1.1), 1000)\\n    yfit = log_fit(xaxis, *popt)\\n\\n    return bin_centers, ln_data, xaxis, yfit, diffs, bins, perr\";\n",
       "                var nbb_formatted_code = \"# Histogram fitting function: needs input of burst times and number of bins\\n\\n\\ndef hist_fit(burst_times, num_bins):\\n    # Calculate diffs\\n    diffs = []\\n    burst_times = np.sort(burst_times)\\n    for i in range(0, len(burst_times) - 1):\\n        diffs.append(\\n            (burst_times[i + 1] - burst_times[i]) * 86400.0\\n        )  # assuming times are in MJD\\n\\n    # Make histogram\\n    bins = np.logspace(start, end, num_bins)\\n    hist, bin_edges = np.histogram(diffs, bins=bins)\\n\\n    # Find leftmost bin- only fitting diffs > 1s\\n    main_bins = np.where(bins > 1.0)\\n    last_bin = main_bins[0][0]\\n\\n    # Get bin centers\\n    ln_data = []\\n    bin_centers = []\\n    for i in range(last_bin, len(hist)):\\n        # Only fitting log-normal to main bulk of distribution, not second distribution of shorter WTs\\n        ln_data.append(hist[i])\\n        dist = bin_edges[i + 1] - bin_edges[i]\\n        halfdist = dist / 2.0\\n        mid = bin_edges[i] + halfdist\\n        bin_centers.append(mid)\\n\\n    # Fit log-normal to bin centers and calculate fit\\n    mu = 7\\n    sigma = 1\\n    a = 1\\n    popt, pcov = curve_fit(log_fit, bin_centers, ln_data, p0=[a, mu, sigma])\\n    perr = np.sqrt(np.diag(pcov))\\n    xaxis = np.logspace(0.5, np.log10(np.max(diffs) * 1.1), 1000)\\n    yfit = log_fit(xaxis, *popt)\\n\\n    return bin_centers, ln_data, xaxis, yfit, diffs, bins, perr\";\n",
       "                var nbb_cells = Jupyter.notebook.get_cells();\n",
       "                for (var i = 0; i < nbb_cells.length; ++i) {\n",
       "                    if (nbb_cells[i].input_prompt_number == nbb_cell_id) {\n",
       "                        if (nbb_cells[i].get_text() == nbb_unformatted_code) {\n",
       "                             nbb_cells[i].set_text(nbb_formatted_code);\n",
       "                        }\n",
       "                        break;\n",
       "                    }\n",
       "                }\n",
       "            }, 500);\n",
       "            "
      ],
      "text/plain": [
       "<IPython.core.display.Javascript object>"
      ]
     },
     "metadata": {},
     "output_type": "display_data"
    }
   ],
   "source": [
    "# Histogram fitting function: needs input of burst times and number of bins\n",
    "\n",
    "\n",
    "def hist_fit(burst_times, num_bins):\n",
    "    # Calculate diffs\n",
    "    diffs = []\n",
    "    burst_times = np.sort(burst_times)\n",
    "    for i in range(0, len(burst_times) - 1):\n",
    "        diffs.append(\n",
    "            (burst_times[i + 1] - burst_times[i]) * 86400.0\n",
    "        )  # assuming times are in MJD\n",
    "\n",
    "    # Make histogram\n",
    "    bins = np.logspace(start, end, num_bins)\n",
    "    hist, bin_edges = np.histogram(diffs, bins=bins)\n",
    "\n",
    "    # Find leftmost bin- only fitting diffs > 1s\n",
    "    main_bins = np.where(bins > 1.0)\n",
    "    last_bin = main_bins[0][0]\n",
    "\n",
    "    # Get bin centers\n",
    "    ln_data = []\n",
    "    bin_centers = []\n",
    "    for i in range(last_bin, len(hist)):\n",
    "        # Only fitting log-normal to main bulk of distribution, not second distribution of shorter WTs\n",
    "        ln_data.append(hist[i])\n",
    "        dist = bin_edges[i + 1] - bin_edges[i]\n",
    "        halfdist = dist / 2.0\n",
    "        mid = bin_edges[i] + halfdist\n",
    "        bin_centers.append(mid)\n",
    "\n",
    "    # Fit log-normal to bin centers and calculate fit\n",
    "    mu = 7\n",
    "    sigma = 1\n",
    "    a = 1\n",
    "    popt, pcov = curve_fit(log_fit, bin_centers, ln_data, p0=[a, mu, sigma])\n",
    "    perr = np.sqrt(np.diag(pcov))\n",
    "    xaxis = np.logspace(0.5, np.log10(np.max(diffs) * 1.1), 1000)\n",
    "    yfit = log_fit(xaxis, *popt)\n",
    "\n",
    "    return bin_centers, ln_data, xaxis, yfit, diffs, bins, perr"
   ]
  },
  {
   "cell_type": "markdown",
   "metadata": {},
   "source": [
    "You can change the number of bins used to create the histogram with the num_bins variable below."
   ]
  },
  {
   "cell_type": "code",
   "execution_count": 5,
   "metadata": {},
   "outputs": [
    {
     "name": "stdout",
     "output_type": "stream",
     "text": [
      "Wait time distribution peak:  74.38 +/- 0.11 s\n"
     ]
    },
    {
     "data": {
      "application/javascript": [
       "\n",
       "            setTimeout(function() {\n",
       "                var nbb_cell_id = 5;\n",
       "                var nbb_unformatted_code = \"# ALL BURSTS\\nburst_times_all = mjd\\nnum_bins = 18\\nbin_centers, ln_data, xaxis, yfit, diffs, bins, perr = hist_fit(\\n    burst_times_all, num_bins\\n)\\n\\nmax_hist = np.amax(yfit)\\nmax_index = np.where(yfit == max_hist)\\nwt_peak = np.round(xaxis[max_index][0], 2)\\npeak_error = np.round(perr[1], 2)\\n\\nprint(\\n    \\\"Wait time distribution peak:  \\\" + str(wt_peak) + \\\" +/- \\\" + str(peak_error) + \\\" s\\\"\\n)\";\n",
       "                var nbb_formatted_code = \"# ALL BURSTS\\nburst_times_all = mjd\\nnum_bins = 18\\nbin_centers, ln_data, xaxis, yfit, diffs, bins, perr = hist_fit(\\n    burst_times_all, num_bins\\n)\\n\\nmax_hist = np.amax(yfit)\\nmax_index = np.where(yfit == max_hist)\\nwt_peak = np.round(xaxis[max_index][0], 2)\\npeak_error = np.round(perr[1], 2)\\n\\nprint(\\n    \\\"Wait time distribution peak:  \\\" + str(wt_peak) + \\\" +/- \\\" + str(peak_error) + \\\" s\\\"\\n)\";\n",
       "                var nbb_cells = Jupyter.notebook.get_cells();\n",
       "                for (var i = 0; i < nbb_cells.length; ++i) {\n",
       "                    if (nbb_cells[i].input_prompt_number == nbb_cell_id) {\n",
       "                        if (nbb_cells[i].get_text() == nbb_unformatted_code) {\n",
       "                             nbb_cells[i].set_text(nbb_formatted_code);\n",
       "                        }\n",
       "                        break;\n",
       "                    }\n",
       "                }\n",
       "            }, 500);\n",
       "            "
      ],
      "text/plain": [
       "<IPython.core.display.Javascript object>"
      ]
     },
     "metadata": {},
     "output_type": "display_data"
    }
   ],
   "source": [
    "# ALL BURSTS\n",
    "burst_times_all = mjd\n",
    "num_bins = 18\n",
    "bin_centers, ln_data, xaxis, yfit, diffs, bins, perr = hist_fit(\n",
    "    burst_times_all, num_bins\n",
    ")\n",
    "\n",
    "max_hist = np.amax(yfit)\n",
    "max_index = np.where(yfit == max_hist)\n",
    "wt_peak = np.round(xaxis[max_index][0], 2)\n",
    "peak_error = np.round(perr[1], 2)\n",
    "\n",
    "print(\n",
    "    \"Wait time distribution peak:  \" + str(wt_peak) + \" +/- \" + str(peak_error) + \" s\"\n",
    ")"
   ]
  },
  {
   "cell_type": "markdown",
   "metadata": {},
   "source": [
    "Below, the analysis to remove random bursts and calculate the wait time is performed."
   ]
  },
  {
   "cell_type": "code",
   "execution_count": 6,
   "metadata": {},
   "outputs": [
    {
     "name": "stdout",
     "output_type": "stream",
     "text": [
      "[ 50.  55.  60.  65.  70.  75.  80.  85.  90.  95. 100. 105. 110. 115.\n",
      " 120. 125. 130.]\n"
     ]
    },
    {
     "data": {
      "application/javascript": [
       "\n",
       "            setTimeout(function() {\n",
       "                var nbb_cell_id = 6;\n",
       "                var nbb_unformatted_code = \"# Sets up parameters for removal of random number of bursts\\nntrials = 150  # number of random trials at each burst number\\nburstnums = np.linspace(len(data) - 80, len(data), num=17)\\nprint(burstnums)\";\n",
       "                var nbb_formatted_code = \"# Sets up parameters for removal of random number of bursts\\nntrials = 150  # number of random trials at each burst number\\nburstnums = np.linspace(len(data) - 80, len(data), num=17)\\nprint(burstnums)\";\n",
       "                var nbb_cells = Jupyter.notebook.get_cells();\n",
       "                for (var i = 0; i < nbb_cells.length; ++i) {\n",
       "                    if (nbb_cells[i].input_prompt_number == nbb_cell_id) {\n",
       "                        if (nbb_cells[i].get_text() == nbb_unformatted_code) {\n",
       "                             nbb_cells[i].set_text(nbb_formatted_code);\n",
       "                        }\n",
       "                        break;\n",
       "                    }\n",
       "                }\n",
       "            }, 500);\n",
       "            "
      ],
      "text/plain": [
       "<IPython.core.display.Javascript object>"
      ]
     },
     "metadata": {},
     "output_type": "display_data"
    }
   ],
   "source": [
    "# Sets up parameters for removal of random number of bursts\n",
    "ntrials = 150  # number of random trials at each burst number\n",
    "burstnums = np.linspace(len(data) - 80, len(data), num=17)\n",
    "print(burstnums)"
   ]
  },
  {
   "cell_type": "code",
   "execution_count": 7,
   "metadata": {
    "scrolled": true
   },
   "outputs": [
    {
     "name": "stdout",
     "output_type": "stream",
     "text": [
      "N = 50, mean peak = 185.65, stdev = 42.21\n",
      "N = 55, mean peak = 163.07, stdev = 28.87\n",
      "N = 60, mean peak = 146.5, stdev = 22.05\n",
      "N = 65, mean peak = 134.52, stdev = 17.35\n",
      "N = 70, mean peak = 125.01, stdev = 14.75\n",
      "N = 75, mean peak = 117.6, stdev = 11.99\n",
      "N = 80, mean peak = 110.64, stdev = 10.31\n",
      "N = 85, mean peak = 104.47, stdev = 8.54\n",
      "N = 90, mean peak = 99.36, stdev = 7.83\n",
      "N = 95, mean peak = 95.48, stdev = 6.69\n",
      "N = 100, mean peak = 91.75, stdev = 5.95\n",
      "N = 105, mean peak = 87.83, stdev = 4.96\n",
      "N = 110, mean peak = 84.8, stdev = 4.12\n",
      "N = 115, mean peak = 81.85, stdev = 3.61\n",
      "N = 120, mean peak = 79.36, stdev = 2.98\n",
      "N = 125, mean peak = 77.05, stdev = 2.14\n",
      "N = 130, mean peak = 74.38, stdev = 0.0\n"
     ]
    },
    {
     "data": {
      "application/javascript": [
       "\n",
       "            setTimeout(function() {\n",
       "                var nbb_cell_id = 7;\n",
       "                var nbb_unformatted_code = \"# REMOVING RANDOM BURSTS- TRIALS\\n\\nall_meanpeaks = []\\nall_stdvs = []\\n\\nfor num in burstnums:\\n    random_peaks = []  # array that holds all WT peaks at each burst number\\n\\n    for j in range(0, ntrials):\\n        # make DF with random bursts removed\\n        num = int(num)\\n        rand_rmvd_data = data.sample(n=num, random_state=j)\\n        mjds_rand = rand_rmvd_data[\\\"$\\\\mu_t$ (ms)\\\"]\\n\\n        # Fit histogram and get wait time peak\\n        (\\n            bin_centers_rand,\\n            ln_data_rand,\\n            xaxis_rand,\\n            yfit_rand,\\n            diffs_rand,\\n            bins_rand,\\n            perr_rand,\\n        ) = hist_fit(mjds_rand, num_bins)\\n        max_hist_rand = np.amax(yfit_rand)\\n        max_index_rand = np.where(yfit_rand == max_hist_rand)\\n        wtpeak = xaxis_rand[max_index_rand]\\n        random_peaks.append(wtpeak)\\n\\n    meanpeak = np.mean(random_peaks)\\n    stdpeak = np.std(random_peaks)\\n    print(\\n        \\\"N = \\\"\\n        + str(num)\\n        + \\\", mean peak = \\\"\\n        + str(np.round(meanpeak, 2))\\n        + \\\", stdev = \\\"\\n        + str(np.round(stdpeak, 2))\\n    )\\n    all_meanpeaks.append(meanpeak)\\n    all_stdvs.append(stdpeak)\";\n",
       "                var nbb_formatted_code = \"# REMOVING RANDOM BURSTS- TRIALS\\n\\nall_meanpeaks = []\\nall_stdvs = []\\n\\nfor num in burstnums:\\n    random_peaks = []  # array that holds all WT peaks at each burst number\\n\\n    for j in range(0, ntrials):\\n        # make DF with random bursts removed\\n        num = int(num)\\n        rand_rmvd_data = data.sample(n=num, random_state=j)\\n        mjds_rand = rand_rmvd_data[\\\"$\\\\mu_t$ (ms)\\\"]\\n\\n        # Fit histogram and get wait time peak\\n        (\\n            bin_centers_rand,\\n            ln_data_rand,\\n            xaxis_rand,\\n            yfit_rand,\\n            diffs_rand,\\n            bins_rand,\\n            perr_rand,\\n        ) = hist_fit(mjds_rand, num_bins)\\n        max_hist_rand = np.amax(yfit_rand)\\n        max_index_rand = np.where(yfit_rand == max_hist_rand)\\n        wtpeak = xaxis_rand[max_index_rand]\\n        random_peaks.append(wtpeak)\\n\\n    meanpeak = np.mean(random_peaks)\\n    stdpeak = np.std(random_peaks)\\n    print(\\n        \\\"N = \\\"\\n        + str(num)\\n        + \\\", mean peak = \\\"\\n        + str(np.round(meanpeak, 2))\\n        + \\\", stdev = \\\"\\n        + str(np.round(stdpeak, 2))\\n    )\\n    all_meanpeaks.append(meanpeak)\\n    all_stdvs.append(stdpeak)\";\n",
       "                var nbb_cells = Jupyter.notebook.get_cells();\n",
       "                for (var i = 0; i < nbb_cells.length; ++i) {\n",
       "                    if (nbb_cells[i].input_prompt_number == nbb_cell_id) {\n",
       "                        if (nbb_cells[i].get_text() == nbb_unformatted_code) {\n",
       "                             nbb_cells[i].set_text(nbb_formatted_code);\n",
       "                        }\n",
       "                        break;\n",
       "                    }\n",
       "                }\n",
       "            }, 500);\n",
       "            "
      ],
      "text/plain": [
       "<IPython.core.display.Javascript object>"
      ]
     },
     "metadata": {},
     "output_type": "display_data"
    }
   ],
   "source": [
    "# REMOVING RANDOM BURSTS- TRIALS\n",
    "\n",
    "all_meanpeaks = []\n",
    "all_stdvs = []\n",
    "\n",
    "for num in burstnums:\n",
    "    random_peaks = []  # array that holds all WT peaks at each burst number\n",
    "\n",
    "    for j in range(0, ntrials):\n",
    "        # make DF with random bursts removed\n",
    "        num = int(num)\n",
    "        rand_rmvd_data = data.sample(n=num, random_state=j)\n",
    "        mjds_rand = rand_rmvd_data[\"$\\mu_t$ (ms)\"]\n",
    "\n",
    "        # Fit histogram and get wait time peak\n",
    "        (\n",
    "            bin_centers_rand,\n",
    "            ln_data_rand,\n",
    "            xaxis_rand,\n",
    "            yfit_rand,\n",
    "            diffs_rand,\n",
    "            bins_rand,\n",
    "            perr_rand,\n",
    "        ) = hist_fit(mjds_rand, num_bins)\n",
    "        max_hist_rand = np.amax(yfit_rand)\n",
    "        max_index_rand = np.where(yfit_rand == max_hist_rand)\n",
    "        wtpeak = xaxis_rand[max_index_rand]\n",
    "        random_peaks.append(wtpeak)\n",
    "\n",
    "    meanpeak = np.mean(random_peaks)\n",
    "    stdpeak = np.std(random_peaks)\n",
    "    print(\n",
    "        \"N = \"\n",
    "        + str(num)\n",
    "        + \", mean peak = \"\n",
    "        + str(np.round(meanpeak, 2))\n",
    "        + \", stdev = \"\n",
    "        + str(np.round(stdpeak, 2))\n",
    "    )\n",
    "    all_meanpeaks.append(meanpeak)\n",
    "    all_stdvs.append(stdpeak)"
   ]
  },
  {
   "cell_type": "code",
   "execution_count": 17,
   "metadata": {},
   "outputs": [
    {
     "name": "stdout",
     "output_type": "stream",
     "text": [
      "Timescale = 28.9 +/- 1.4 s\n"
     ]
    },
    {
     "data": {
      "image/png": "[encoded data removed]",
      "text/plain": [
       "<Figure size 1008x432 with 2 Axes>"
      ]
     },
     "metadata": {
      "needs_background": "light"
     },
     "output_type": "display_data"
    },
    {
     "data": {
      "application/javascript": [
       "\n",
       "            setTimeout(function() {\n",
       "                var nbb_cell_id = 17;\n",
       "                var nbb_unformatted_code = \"# PLOT\\nfig, ax = plt.subplots(1, 2, figsize=(14, 6))\\n# ax.plot(bin_centers, ln_data, 'ro')  #plots bin centers used to fit histogram, as a check\\nax[0].plot(xaxis, yfit, \\\"k-.\\\")\\nax[0].set_xscale(\\\"log\\\")\\nax[0].hist(diffs, bins=bins, color=\\\"lightgray\\\")\\n# ax.vlines(x=xaxis[max_index], ymin=0, ymax=max_hist+2, linestyles='dashed') #plots vertical line at WT peak\\nax[0].set_xlabel(\\\"Wait Time (s)\\\")\\nax[0].set_ylabel(\\\"Counts\\\")\\n\\nax[1].errorbar(burstnums, all_meanpeaks, yerr=all_stdvs, capsize=4, linestyle=\\\"\\\")\\nax[1].plot(burstnums, all_meanpeaks, \\\"bo\\\", linestyle=\\\"\\\")\\n\\n# Exponential fit\\nA = 0.01\\nB = 0.01\\nC = 50\\nD = 5\\nexppopt, exppcov = curve_fit(exp_fit, burstnums, all_meanpeaks, p0=[A, B, C, D])\\nexpperr = np.sqrt(np.diag(exppcov))\\nb = exppopt[1]\\nb_err = expperr[1]\\nts = 1.0 / b\\nts_err = b_err / (b ** 2)\\nprint(\\\"Timescale = \\\" + str(np.round(ts, 1)) + \\\" +/- \\\" + str(np.round(ts_err, 1)) + ' s')\\n\\nxaxis_rand = np.linspace(40, burstnums[-1], num=100)\\nyfit_rand = exp_fit(xaxis_rand, *exppopt)\\nax[1].plot(xaxis_rand, yfit_rand, \\\"k-.\\\")\\nax[1].scatter(40, 207, s=64, color=\\\"r\\\", marker=\\\"*\\\", label=\\\"Gourdji et al peak\\\")\\nax[1].legend(fontsize=14)\\nax[1].set_xlabel(\\\"Number of bursts\\\")\\nax[1].set_ylabel(\\\"Wait time peak (s)\\\")\\nplt.show()\";\n",
       "                var nbb_formatted_code = \"# PLOT\\nfig, ax = plt.subplots(1, 2, figsize=(14, 6))\\n# ax.plot(bin_centers, ln_data, 'ro')  #plots bin centers used to fit histogram, as a check\\nax[0].plot(xaxis, yfit, \\\"k-.\\\")\\nax[0].set_xscale(\\\"log\\\")\\nax[0].hist(diffs, bins=bins, color=\\\"lightgray\\\")\\n# ax.vlines(x=xaxis[max_index], ymin=0, ymax=max_hist+2, linestyles='dashed') #plots vertical line at WT peak\\nax[0].set_xlabel(\\\"Wait Time (s)\\\")\\nax[0].set_ylabel(\\\"Counts\\\")\\n\\nax[1].errorbar(burstnums, all_meanpeaks, yerr=all_stdvs, capsize=4, linestyle=\\\"\\\")\\nax[1].plot(burstnums, all_meanpeaks, \\\"bo\\\", linestyle=\\\"\\\")\\n\\n# Exponential fit\\nA = 0.01\\nB = 0.01\\nC = 50\\nD = 5\\nexppopt, exppcov = curve_fit(exp_fit, burstnums, all_meanpeaks, p0=[A, B, C, D])\\nexpperr = np.sqrt(np.diag(exppcov))\\nb = exppopt[1]\\nb_err = expperr[1]\\nts = 1.0 / b\\nts_err = b_err / (b ** 2)\\nprint(\\\"Timescale = \\\" + str(np.round(ts, 1)) + \\\" +/- \\\" + str(np.round(ts_err, 1)) + \\\" s\\\")\\n\\nxaxis_rand = np.linspace(40, burstnums[-1], num=100)\\nyfit_rand = exp_fit(xaxis_rand, *exppopt)\\nax[1].plot(xaxis_rand, yfit_rand, \\\"k-.\\\")\\nax[1].scatter(40, 207, s=64, color=\\\"r\\\", marker=\\\"*\\\", label=\\\"Gourdji et al peak\\\")\\nax[1].legend(fontsize=14)\\nax[1].set_xlabel(\\\"Number of bursts\\\")\\nax[1].set_ylabel(\\\"Wait time peak (s)\\\")\\nplt.show()\";\n",
       "                var nbb_cells = Jupyter.notebook.get_cells();\n",
       "                for (var i = 0; i < nbb_cells.length; ++i) {\n",
       "                    if (nbb_cells[i].input_prompt_number == nbb_cell_id) {\n",
       "                        if (nbb_cells[i].get_text() == nbb_unformatted_code) {\n",
       "                             nbb_cells[i].set_text(nbb_formatted_code);\n",
       "                        }\n",
       "                        break;\n",
       "                    }\n",
       "                }\n",
       "            }, 500);\n",
       "            "
      ],
      "text/plain": [
       "<IPython.core.display.Javascript object>"
      ]
     },
     "metadata": {},
     "output_type": "display_data"
    }
   ],
   "source": [
    "# PLOT\n",
    "fig, ax = plt.subplots(1, 2, figsize=(14, 6))\n",
    "# ax.plot(bin_centers, ln_data, 'ro')  #plots bin centers used to fit histogram, as a check\n",
    "ax[0].plot(xaxis, yfit, \"k-.\")\n",
    "ax[0].set_xscale(\"log\")\n",
    "ax[0].hist(diffs, bins=bins, color=\"lightgray\")\n",
    "# ax.vlines(x=xaxis[max_index], ymin=0, ymax=max_hist+2, linestyles='dashed') #plots vertical line at WT peak\n",
    "ax[0].set_xlabel(\"Wait Time (s)\")\n",
    "ax[0].set_ylabel(\"Counts\")\n",
    "\n",
    "\n",
    "# Exponential fit\n",
    "A = 0.01\n",
    "B = 0.01\n",
    "C = 50\n",
    "D = 5\n",
    "exppopt, exppcov = curve_fit(exp_fit, burstnums, all_meanpeaks, p0=[A, B, C, D])\n",
    "expperr = np.sqrt(np.diag(exppcov))\n",
    "b = exppopt[1]\n",
    "b_err = expperr[1]\n",
    "ts = 1.0 / b\n",
    "ts_err = b_err / (b ** 2)\n",
    "print(\"Timescale = \" + str(np.round(ts, 1)) + \" +/- \" + str(np.round(ts_err, 1)) + \" s\")\n",
    "\n",
    "xaxis_rand = np.linspace(40, burstnums[-1], num=100)\n",
    "yfit_rand = exp_fit(xaxis_rand, *exppopt)\n",
    "ax[1].plot(xaxis_rand, yfit_rand, \"k-.\")\n",
    "ax[1].scatter(40, 207, s=64, color=\"r\", marker=\"*\", label=\"Gourdji et al peak\")\n",
    "ax[1].errorbar(burstnums, all_meanpeaks, yerr=all_stdvs, capsize=4, linestyle=\"\")\n",
    "ax[1].plot(burstnums, all_meanpeaks, \"bo\", linestyle=\"\")\n",
    "ax[1].legend(fontsize=14)\n",
    "ax[1].set_xlabel(\"Number of bursts\")\n",
    "ax[1].set_ylabel(\"Wait time peak (s)\")\n",
    "plt.show()"
   ]
  },
  {
   "cell_type": "code",
   "execution_count": null,
   "metadata": {},
   "outputs": [],
   "source": []
  }
 ],
 "metadata": {
  "kernelspec": {
   "display_name": "Python 3",
   "language": "python",
   "name": "python3"
  },
  "language_info": {
   "codemirror_mode": {
    "name": "ipython",
    "version": 3
   },
   "file_extension": ".py",
   "mimetype": "text/x-python",
   "name": "python",
   "nbconvert_exporter": "python",
   "pygments_lexer": "ipython3",
   "version": "3.8.5"
  }
 },
 "nbformat": 4,
 "nbformat_minor": 2
}
